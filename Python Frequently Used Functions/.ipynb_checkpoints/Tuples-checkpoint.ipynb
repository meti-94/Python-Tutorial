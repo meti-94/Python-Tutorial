{
 "cells": [
  {
   "cell_type": "markdown",
   "metadata": {},
   "source": [
    "# Tuples\n",
    "<p>A tuple is a collection of objects which ordered and immutable. Tuples are sequences, just like lists. The differences between tuples and lists are, the tuples cannot be changed unlike lists and tuples use parentheses, whereas lists use square brackets.</p>\n",
    "<p>Creating a tuple is as simple as putting different comma-separated values. Optionally you can put these comma-separated values between parentheses also. For example −</p>\n",
    "<pre class=\"result notranslate\">tup1 = ('physics', 'chemistry', 1997, 2000);\n",
    "tup2 = (1, 2, 3, 4, 5 );\n",
    "tup3 = \"a\", \"b\", \"c\", \"d\";\n",
    "</pre>\n",
    "<p>The empty tuple is written as two parentheses containing nothing −</p>\n",
    "<pre class=\"result notranslate\">tup1 = ();\n",
    "</pre>\n",
    "<p>To write a tuple containing a single value you have to include a comma, even though there is only one value −</p>\n",
    "<pre class=\"result notranslate\">tup1 = (50,);\n",
    "</pre>\n",
    "<p>Like string indices, tuple indices start at 0, and they can be sliced, concatenated, and so on.</p>\n",
    "<h2>Accessing Values in Tuples</h2>\n",
    "<p>To access values in tuple, use the square brackets for slicing along with the index or indices to obtain value available at that index. For example −</p>"
   ]
  },
  {
   "cell_type": "code",
   "execution_count": 1,
   "metadata": {},
   "outputs": [
    {
     "name": "stdout",
     "output_type": "stream",
     "text": [
      "tup1[0]:  physics\n",
      "tup2[1:5]:  (2, 3, 4, 5)\n"
     ]
    }
   ],
   "source": [
    "tup1 = ('physics', 'chemistry', 1997, 2000);\n",
    "tup2 = (1, 2, 3, 4, 5, 6, 7 );\n",
    "print(\"tup1[0]: \", tup1[0])\n",
    "print(\"tup2[1:5]: \", tup2[1:5])"
   ]
  },
  {
   "cell_type": "markdown",
   "metadata": {},
   "source": [
    "<p>When the above code is  executed, it produces the following result −</p>\n",
    "<pre class=\"result notranslate\">tup1[0]:  physics\n",
    "tup2[1:5]:  [2, 3, 4, 5]\n",
    "</pre>\n",
    "<h2>Updating Tuples</h2>\n",
    "<p>Tuples are immutable which means you cannot update or change the values of tuple elements. You are able to take portions of existing tuples to create new tuples as the following example demonstrates −</p>"
   ]
  },
  {
   "cell_type": "code",
   "execution_count": 3,
   "metadata": {},
   "outputs": [
    {
     "name": "stdout",
     "output_type": "stream",
     "text": [
      "(12, 34.56, 'abc', 'xyz')\n"
     ]
    }
   ],
   "source": [
    "tup1 = (12, 34.56);\n",
    "tup2 = ('abc', 'xyz');\n",
    "\n",
    "# Following action is not valid for tuples\n",
    "# tup1[0] = 100;\n",
    "\n",
    "# So let's create a new tuple as follows\n",
    "tup3 = tup1 + tup2;\n",
    "print(tup3)"
   ]
  },
  {
   "cell_type": "markdown",
   "metadata": {},
   "source": [
    "<p>When the above code is executed, it produces the following result −</p>\n",
    "<pre class=\"result notranslate\">(12, 34.56, 'abc', 'xyz')\n",
    "</pre>\n",
    "<h2>Delete Tuple Elements</h2>\n",
    "<p>Removing individual tuple elements is not possible. There is, of course, nothing wrong with putting together another tuple with the undesired elements discarded.</p>\n",
    "<p>To explicitly remove an entire tuple, just use the <b>del</b> statement. For example −</p>"
   ]
  },
  {
   "cell_type": "code",
   "execution_count": 4,
   "metadata": {},
   "outputs": [
    {
     "name": "stdout",
     "output_type": "stream",
     "text": [
      "('physics', 'chemistry', 1997, 2000)\n",
      "After deleting tup : \n"
     ]
    },
    {
     "ename": "NameError",
     "evalue": "name 'tup' is not defined",
     "output_type": "error",
     "traceback": [
      "\u001b[1;31m---------------------------------------------------------------------------\u001b[0m",
      "\u001b[1;31mNameError\u001b[0m                                 Traceback (most recent call last)",
      "\u001b[1;32m<ipython-input-4-d886224ff9ba>\u001b[0m in \u001b[0;36m<module>\u001b[1;34m\u001b[0m\n\u001b[0;32m      3\u001b[0m \u001b[1;32mdel\u001b[0m \u001b[0mtup\u001b[0m\u001b[1;33m;\u001b[0m\u001b[1;33m\u001b[0m\u001b[1;33m\u001b[0m\u001b[0m\n\u001b[0;32m      4\u001b[0m \u001b[0mprint\u001b[0m\u001b[1;33m(\u001b[0m\u001b[1;34m\"After deleting tup : \"\u001b[0m\u001b[1;33m)\u001b[0m\u001b[1;33m\u001b[0m\u001b[1;33m\u001b[0m\u001b[0m\n\u001b[1;32m----> 5\u001b[1;33m \u001b[0mprint\u001b[0m\u001b[1;33m(\u001b[0m\u001b[0mtup\u001b[0m\u001b[1;33m)\u001b[0m\u001b[1;33m\u001b[0m\u001b[1;33m\u001b[0m\u001b[0m\n\u001b[0m",
      "\u001b[1;31mNameError\u001b[0m: name 'tup' is not defined"
     ]
    }
   ],
   "source": [
    "tup = ('physics', 'chemistry', 1997, 2000);\n",
    "print(tup);\n",
    "del tup;\n",
    "print(\"After deleting tup : \")\n",
    "print(tup)"
   ]
  },
  {
   "cell_type": "markdown",
   "metadata": {},
   "source": [
    "This produces the following result. Note an exception raised, this is because after <b>del tup</b> tuple does not exist any more −</p>\n",
    "<pre class=\"result notranslate\">('physics', 'chemistry', 1997, 2000)\n",
    "After deleting tup :\n",
    "Traceback (most recent call last):\n",
    "   File \"test.py\", line 9, in &lt;module&gt;\n",
    "      print tup;\n",
    "NameError: name 'tup' is not defined\n",
    "</pre>\n",
    "<h2>Basic Tuples Operations</h2>\n",
    "<p>Tuples respond to the + and * operators much like strings; they mean concatenation and repetition here too, except that the result is a new tuple, not a string.</p>\n",
    "<p>In fact, tuples respond to all of the general sequence operations we used on strings in the prior chapter −</p>\n",
    "<table class=\"table-bordered\" style=\"text-align:center;\">\n",
    "<tbody><tr>\n",
    "<th style=\"text-align:center;\">Python Expression</th>\n",
    "<th style=\"text-align:center;\">Results</th>\n",
    "<th style=\"text-align:center;\">Description</th>\n",
    "</tr>\n",
    "<tr>\n",
    "<td>len((1, 2, 3))</td>\n",
    "<td>3</td>\n",
    "<td>Length</td>\n",
    "</tr>\n",
    "<tr>\n",
    "<td>(1, 2, 3) + (4, 5, 6)</td>\n",
    "<td>(1, 2, 3, 4, 5, 6)</td>\n",
    "<td>Concatenation</td>\n",
    "</tr>\n",
    "<tr>\n",
    "<td>('Hi!',) * 4</td>\n",
    "<td>('Hi!', 'Hi!', 'Hi!', 'Hi!')</td>\n",
    "<td>Repetition</td>\n",
    "</tr>\n",
    "<tr>\n",
    "<td>3 in (1, 2, 3)</td>\n",
    "<td>True</td>\n",
    "<td>Membership</td>\n",
    "</tr>\n",
    "<tr>\n",
    "<td>for x in (1, 2, 3): print x,</td>\n",
    "<td>1 2 3</td>\n",
    "<td>Iteration</td>\n",
    "</tr>\n",
    "</tbody></table>\n",
    "<h2>Indexing, Slicing, and Matrixes</h2>\n",
    "<p>Because tuples are sequences, indexing and slicing work the same way for tuples as they do for strings. Assuming following input −</p>"
   ]
  },
  {
   "cell_type": "code",
   "execution_count": 5,
   "metadata": {},
   "outputs": [],
   "source": [
    "L = ('spam', 'Spam', 'SPAM!')"
   ]
  },
  {
   "cell_type": "markdown",
   "metadata": {},
   "source": [
    "<p>&nbsp;</p>\n",
    "<table class=\"table-bordered\" style=\"text-align:center;\">\n",
    "<tbody><tr>\n",
    "<th style=\"text-align:center;width:33%\">Python Expression</th>\n",
    "<th style=\"text-align:center;width:33%\">Results</th>\n",
    "<th style=\"text-align:center;width:33%\">Description</th>\n",
    "</tr>\n",
    "<tr>\n",
    "<td>L[2]</td>\n",
    "<td>'SPAM!'</td>\n",
    "<td>Offsets start at zero</td>\n",
    "</tr>\n",
    "<tr>\n",
    "<td class=\"ts\">L[-2]</td>\n",
    "<td class=\"ts\">'Spam'</td>\n",
    "<td>Negative: count from the right</td>\n",
    "</tr>\n",
    "<tr>\n",
    "<td>L[1:]</td>\n",
    "<td>['Spam', 'SPAM!']</td>\n",
    "<td>Slicing fetches sections</td>\n",
    "</tr>\n",
    "</tbody></table>\n",
    "<h2>No Enclosing Delimiters</h2>\n",
    "<p>Any set of multiple objects, comma-separated, written without identifying symbols, i.e., brackets for lists, parentheses for tuples, etc., default to tuples, as indicated in these short examples −</p>"
   ]
  },
  {
   "cell_type": "code",
   "execution_count": 6,
   "metadata": {},
   "outputs": [
    {
     "name": "stdout",
     "output_type": "stream",
     "text": [
      "abc -4.24e+93 (18+6.6j) xyz\n",
      "Value of x , y :  1 2\n"
     ]
    }
   ],
   "source": [
    "print('abc', -4.24e93, 18+6.6j, 'xyz')\n",
    "x, y = 1, 2;\n",
    "print(\"Value of x , y : \", x,y)"
   ]
  },
  {
   "cell_type": "markdown",
   "metadata": {},
   "source": [
    "<p>When the above code is executed, it produces the following result −</p>\n",
    "<pre class=\"result notranslate\">abc -4.24e+93 (18+6.6j) xyz\n",
    "Value of x , y : 1 2\n",
    "</pre>\n",
    "<h2>Built-in Tuple Functions</h2>\n",
    "<p>Python includes the following tuple functions −</p>\n",
    "<table class=\"table-bordered\">\n",
    "<tbody><tr>\n",
    "<th style=\"text-align:center;width:5%\">Sr.No.</th>\n",
    "<th style=\"text-align:center;width:95%\">Function with Description</th>\n",
    "</tr>\n",
    "<tr>\n",
    "<td class=\"ts\">1</td>\n",
    "<td><a href=\"/python/tuple_cmp.htm\">cmp(tuple1, tuple2)</a>\n",
    "<p>Compares elements of both tuples.</p></td>\n",
    "</tr>\n",
    "<tr>\n",
    "<td class=\"ts\">2</td>\n",
    "<td><a href=\"/python/tuple_len.htm\">len(tuple)</a>\n",
    "<p>Gives the total length of the tuple.</p></td>\n",
    "</tr>\n",
    "<tr>\n",
    "<td class=\"ts\">3</td>\n",
    "<td><a href=\"/python/tuple_max.htm\">max(tuple)</a>\n",
    "<p>Returns item from the tuple with max value.</p></td>\n",
    "</tr>\n",
    "<tr>\n",
    "<td class=\"ts\">4</td>\n",
    "<td><a href=\"/python/tuple_min.htm\">min(tuple)</a>\n",
    "<p>Returns item from the tuple with min value.</p></td>\n",
    "</tr>\n",
    "<tr>\n",
    "<td class=\"ts\">5</td>\n",
    "<td><a href=\"/python/tuple_tuple.htm\">tuple(seq)</a>\n",
    "<p>Converts a list into tuple.</p></td>"
   ]
  },
  {
   "cell_type": "code",
   "execution_count": null,
   "metadata": {},
   "outputs": [],
   "source": []
  }
 ],
 "metadata": {
  "kernelspec": {
   "display_name": "Python 3",
   "language": "python",
   "name": "python3"
  },
  "language_info": {
   "codemirror_mode": {
    "name": "ipython",
    "version": 3
   },
   "file_extension": ".py",
   "mimetype": "text/x-python",
   "name": "python",
   "nbconvert_exporter": "python",
   "pygments_lexer": "ipython3",
   "version": "3.8.3"
  }
 },
 "nbformat": 4,
 "nbformat_minor": 4
}
