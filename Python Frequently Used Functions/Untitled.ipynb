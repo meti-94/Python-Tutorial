{
 "cells": [
  {
   "cell_type": "markdown",
   "metadata": {},
   "source": [
    "# Dictionary\n",
    "<p>Each key is separated from its value by a colon (:), the items are separated by commas, and the whole thing is enclosed in curly braces. An empty dictionary without any items is written with just two curly braces, like this: {}.</p>\n",
    "<p>Keys are unique within a dictionary while values may not be. The values of a dictionary can be of any type, but the keys must be of an immutable data type such as strings, numbers, or tuples.</p>\n",
    "<h2>Accessing Values in Dictionary</h2>\n",
    "<p>To access dictionary elements, you can use the familiar square brackets along with the key to obtain its value. Following is a simple example −</p>"
   ]
  },
  {
   "cell_type": "code",
   "execution_count": 1,
   "metadata": {},
   "outputs": [
    {
     "name": "stdout",
     "output_type": "stream",
     "text": [
      "dict['Name']:  Zara\n",
      "dict['Age']:  7\n"
     ]
    }
   ],
   "source": [
    "dict = {'Name': 'Zara', 'Age': 7, 'Class': 'First'}\n",
    "print(\"dict['Name']: \", dict['Name'])\n",
    "print(\"dict['Age']: \", dict['Age'])"
   ]
  },
  {
   "cell_type": "markdown",
   "metadata": {},
   "source": [
    "<p>When the above code is  executed, it produces the following result −</p>\n",
    "<pre class=\"result notranslate\">dict['Name']:  Zara\n",
    "dict['Age']:  7\n",
    "</pre>\n",
    "<p>If we attempt to access a data item with a key, which is not part of the dictionary, we get an error as follows −</p>"
   ]
  },
  {
   "cell_type": "code",
   "execution_count": 2,
   "metadata": {},
   "outputs": [
    {
     "ename": "KeyError",
     "evalue": "'Alice'",
     "output_type": "error",
     "traceback": [
      "\u001b[1;31m---------------------------------------------------------------------------\u001b[0m",
      "\u001b[1;31mKeyError\u001b[0m                                  Traceback (most recent call last)",
      "\u001b[1;32m<ipython-input-2-56591f3a9c34>\u001b[0m in \u001b[0;36m<module>\u001b[1;34m\u001b[0m\n\u001b[0;32m      1\u001b[0m \u001b[0mdict\u001b[0m \u001b[1;33m=\u001b[0m \u001b[1;33m{\u001b[0m\u001b[1;34m'Name'\u001b[0m\u001b[1;33m:\u001b[0m \u001b[1;34m'Zara'\u001b[0m\u001b[1;33m,\u001b[0m \u001b[1;34m'Age'\u001b[0m\u001b[1;33m:\u001b[0m \u001b[1;36m7\u001b[0m\u001b[1;33m,\u001b[0m \u001b[1;34m'Class'\u001b[0m\u001b[1;33m:\u001b[0m \u001b[1;34m'First'\u001b[0m\u001b[1;33m}\u001b[0m\u001b[1;33m\u001b[0m\u001b[1;33m\u001b[0m\u001b[0m\n\u001b[1;32m----> 2\u001b[1;33m \u001b[0mprint\u001b[0m\u001b[1;33m(\u001b[0m\u001b[1;34m\"dict['Alice']: \"\u001b[0m\u001b[1;33m,\u001b[0m \u001b[0mdict\u001b[0m\u001b[1;33m[\u001b[0m\u001b[1;34m'Alice'\u001b[0m\u001b[1;33m]\u001b[0m\u001b[1;33m)\u001b[0m\u001b[1;33m\u001b[0m\u001b[1;33m\u001b[0m\u001b[0m\n\u001b[0m",
      "\u001b[1;31mKeyError\u001b[0m: 'Alice'"
     ]
    }
   ],
   "source": [
    "dict = {'Name': 'Zara', 'Age': 7, 'Class': 'First'}\n",
    "print(\"dict['Alice']: \", dict['Alice'])"
   ]
  },
  {
   "cell_type": "markdown",
   "metadata": {},
   "source": [
    "<p>When the above code is  executed, it produces the following result −</p>\n",
    "<pre class=\"result notranslate\">dict['Alice']:\n",
    "Traceback (most recent call last):\n",
    "   File \"test.py\", line 4, in &lt;module&gt;\n",
    "      print \"dict['Alice']: \", dict['Alice'];\n",
    "KeyError: 'Alice'\n",
    "</pre>\n",
    "<h2>Updating Dictionary</h2>\n",
    "<p>You can update a dictionary by adding a new entry or a key-value pair, modifying an existing entry, or deleting an existing entry as shown below in the simple example −</p>\n",
    "<div class=\"demo-view\">\n",
    "<a href=\"http://tpcg.io/porcg2\" target=\"_blank\" rel=\"nofollow\" class=\"demo\"><i class=\"fa-external-link\"></i> "
   ]
  },
  {
   "cell_type": "code",
   "execution_count": 3,
   "metadata": {},
   "outputs": [
    {
     "name": "stdout",
     "output_type": "stream",
     "text": [
      "dict['Age']:  8\n",
      "dict['School']:  DPS School\n"
     ]
    }
   ],
   "source": [
    "dict = {'Name': 'Zara', 'Age': 7, 'Class': 'First'}\n",
    "dict['Age'] = 8; # update existing entry\n",
    "dict['School'] = \"DPS School\"; # Add new entry\n",
    "\n",
    "print(\"dict['Age']: \", dict['Age'])\n",
    "print(\"dict['School']: \", dict['School'])"
   ]
  },
  {
   "cell_type": "markdown",
   "metadata": {},
   "source": [
    "<p>When the above code is executed, it produces the following result −</p>\n",
    "<pre class=\"result notranslate\">dict['Age']:  8\n",
    "dict['School']:  DPS School\n",
    "</pre>\n",
    "<h2>Delete Dictionary Elements</h2>\n",
    "<p>You can either remove individual dictionary elements or clear the entire contents of a dictionary. You can also delete entire dictionary in a single operation.</p>\n",
    "<p>To explicitly remove an entire dictionary, just use the <b>del</b> statement. Following is a simple example −</p>"
   ]
  },
  {
   "cell_type": "code",
   "execution_count": 4,
   "metadata": {},
   "outputs": [
    {
     "ename": "TypeError",
     "evalue": "'type' object is not subscriptable",
     "output_type": "error",
     "traceback": [
      "\u001b[1;31m---------------------------------------------------------------------------\u001b[0m",
      "\u001b[1;31mTypeError\u001b[0m                                 Traceback (most recent call last)",
      "\u001b[1;32m<ipython-input-4-b890d2f208fa>\u001b[0m in \u001b[0;36m<module>\u001b[1;34m\u001b[0m\n\u001b[0;32m      4\u001b[0m \u001b[1;32mdel\u001b[0m \u001b[0mdict\u001b[0m \u001b[1;33m;\u001b[0m        \u001b[1;31m# delete entire dictionary\u001b[0m\u001b[1;33m\u001b[0m\u001b[1;33m\u001b[0m\u001b[0m\n\u001b[0;32m      5\u001b[0m \u001b[1;33m\u001b[0m\u001b[0m\n\u001b[1;32m----> 6\u001b[1;33m \u001b[0mprint\u001b[0m\u001b[1;33m(\u001b[0m\u001b[1;34m\"dict['Age']: \"\u001b[0m\u001b[1;33m,\u001b[0m \u001b[0mdict\u001b[0m\u001b[1;33m[\u001b[0m\u001b[1;34m'Age'\u001b[0m\u001b[1;33m]\u001b[0m\u001b[1;33m)\u001b[0m\u001b[1;33m\u001b[0m\u001b[1;33m\u001b[0m\u001b[0m\n\u001b[0m\u001b[0;32m      7\u001b[0m \u001b[0mprint\u001b[0m\u001b[1;33m(\u001b[0m\u001b[1;34m\"dict['School']: \"\u001b[0m\u001b[1;33m,\u001b[0m \u001b[0mdict\u001b[0m\u001b[1;33m[\u001b[0m\u001b[1;34m'School'\u001b[0m\u001b[1;33m]\u001b[0m\u001b[1;33m)\u001b[0m\u001b[1;33m\u001b[0m\u001b[1;33m\u001b[0m\u001b[0m\n",
      "\u001b[1;31mTypeError\u001b[0m: 'type' object is not subscriptable"
     ]
    }
   ],
   "source": [
    "dict = {'Name': 'Zara', 'Age': 7, 'Class': 'First'}\n",
    "del dict['Name']; # remove entry with key 'Name'\n",
    "dict.clear();     # remove all entries in dict\n",
    "del dict ;        # delete entire dictionary\n",
    "\n",
    "print(\"dict['Age']: \", dict['Age'])\n",
    "print(\"dict['School']: \", dict['School'])"
   ]
  },
  {
   "cell_type": "markdown",
   "metadata": {},
   "source": [
    "<p>This produces the following result. Note that an exception is raised because after <b>del dict</b> dictionary does not exist any more −</p>\n",
    "<pre class=\"result notranslate\">dict['Age']:\n",
    "Traceback (most recent call last):\n",
    "   File \"test.py\", line 8, in &lt;module&gt;\n",
    "      print \"dict['Age']: \", dict['Age'];\n",
    "TypeError: 'type' object is unsubscriptable\n",
    "</pre>\n",
    "<p><b>Note</b> − del() method is discussed in subsequent section.</p>\n",
    "<h2>Properties of Dictionary Keys</h2>\n",
    "<p>Dictionary values have no restrictions. They can be any arbitrary Python object, either standard objects or user-defined objects. However, same is not true for the keys.</p>\n",
    "<p>There are two important points to remember about dictionary keys −</p>\n",
    "<p><b>(a)</b> More than one entry per key not allowed. Which means no duplicate key is allowed. When duplicate keys encountered during assignment, the last assignment wins. For example −</p>"
   ]
  },
  {
   "cell_type": "code",
   "execution_count": 5,
   "metadata": {},
   "outputs": [
    {
     "name": "stdout",
     "output_type": "stream",
     "text": [
      "dict['Name']:  Manni\n"
     ]
    }
   ],
   "source": [
    "dict = {'Name': 'Zara', 'Age': 7, 'Name': 'Manni'}\n",
    "print(\"dict['Name']: \", dict['Name'])"
   ]
  },
  {
   "cell_type": "markdown",
   "metadata": {},
   "source": [
    "<p>When the above code is  executed, it produces the following result −</p>\n",
    "<pre class=\"result notranslate\">dict['Name']:  Manni\n",
    "</pre>\n",
    "<p><b>(b)</b> Keys must be immutable. Which means you can use strings, numbers or tuples as dictionary keys but something like ['key'] is not allowed. Following is a simple example −</p>"
   ]
  },
  {
   "cell_type": "code",
   "execution_count": 6,
   "metadata": {},
   "outputs": [
    {
     "ename": "TypeError",
     "evalue": "unhashable type: 'list'",
     "output_type": "error",
     "traceback": [
      "\u001b[1;31m---------------------------------------------------------------------------\u001b[0m",
      "\u001b[1;31mTypeError\u001b[0m                                 Traceback (most recent call last)",
      "\u001b[1;32m<ipython-input-6-6474d8eec85d>\u001b[0m in \u001b[0;36m<module>\u001b[1;34m\u001b[0m\n\u001b[1;32m----> 1\u001b[1;33m \u001b[0mdict\u001b[0m \u001b[1;33m=\u001b[0m \u001b[1;33m{\u001b[0m\u001b[1;33m[\u001b[0m\u001b[1;34m'Name'\u001b[0m\u001b[1;33m]\u001b[0m\u001b[1;33m:\u001b[0m \u001b[1;34m'Zara'\u001b[0m\u001b[1;33m,\u001b[0m \u001b[1;34m'Age'\u001b[0m\u001b[1;33m:\u001b[0m \u001b[1;36m7\u001b[0m\u001b[1;33m}\u001b[0m\u001b[1;33m\u001b[0m\u001b[1;33m\u001b[0m\u001b[0m\n\u001b[0m\u001b[0;32m      2\u001b[0m \u001b[0mprint\u001b[0m\u001b[1;33m(\u001b[0m\u001b[1;34m\"dict['Name']: \"\u001b[0m\u001b[1;33m,\u001b[0m \u001b[0mdict\u001b[0m\u001b[1;33m[\u001b[0m\u001b[1;34m'Name'\u001b[0m\u001b[1;33m]\u001b[0m\u001b[1;33m)\u001b[0m\u001b[1;33m\u001b[0m\u001b[1;33m\u001b[0m\u001b[0m\n",
      "\u001b[1;31mTypeError\u001b[0m: unhashable type: 'list'"
     ]
    }
   ],
   "source": [
    "dict = {['Name']: 'Zara', 'Age': 7}\n",
    "print(\"dict['Name']: \", dict['Name'])"
   ]
  },
  {
   "cell_type": "markdown",
   "metadata": {},
   "source": [
    "<p>When the above code is executed, it produces the following result −</p>\n",
    "<pre class=\"result notranslate\">Traceback (most recent call last):\n",
    "   File \"test.py\", line 3, in &lt;module&gt;\n",
    "      dict = {['Name']: 'Zara', 'Age': 7};\n",
    "TypeError: unhashable type: 'list'\n",
    "</pre>\n",
    "<h2>Built-in Dictionary Functions &amp; Methods</h2>\n",
    "<p>Python includes the following dictionary functions −</p>\n",
    "<table class=\"table-bordered\">\n",
    "<tbody><tr>\n",
    "<th style=\"text-align:center;width:5%\">Sr.No.</th>\n",
    "<th style=\"text-align:center;width:95%\">Function with Description</th>\n",
    "</tr>\n",
    "<tr>\n",
    "<td class=\"ts\">1</td>\n",
    "<td><a href=\"/python/dictionary_cmp.htm\">cmp(dict1, dict2)</a>\n",
    "<p>Compares elements of both dict.</p></td>\n",
    "</tr>\n",
    "<tr>\n",
    "<td class=\"ts\">2</td>\n",
    "<td><a href=\"/python/dictionary_len.htm\">len(dict)</a>\n",
    "<p>Gives the total length of the dictionary. This would be equal to the number of items in the dictionary.</p></td>\n",
    "</tr>\n",
    "<tr>\n",
    "<td class=\"ts\">3</td>\n",
    "<td><a href=\"/python/dictionary_str.htm\">str(dict)</a>\n",
    "<p>Produces a printable string representation of a dictionary</p></td>\n",
    "</tr>\n",
    "<tr>\n",
    "<td class=\"ts\">4</td>\n",
    "<td><a href=\"/python/dictionary_type.htm\">type(variable)</a>\n",
    "<p>Returns the type of the passed variable. If passed variable is dictionary, then it would return a dictionary type.</p></td>\n",
    "</tr>\n",
    "</tbody></table>\n",
    "<p>Python includes following dictionary methods −</p>\n",
    "<table class=\"table-bordered\">\n",
    "<tbody><tr>\n",
    "<th style=\"width:5%\">Sr.No.</th>\n",
    "<th style=\"width:95%\">Methods with Description</th>\n",
    "</tr>\n",
    "<tr>\n",
    "<td class=\"ts\">1</td>\n",
    "<td><a href=\"/python/dictionary_clear.htm\">dict.clear()</a>\n",
    "<p>Removes all elements of dictionary <i>dict</i></p></td>\n",
    "</tr>\n",
    "<tr>\n",
    "<td class=\"ts\">2</td>\n",
    "<td><a href=\"/python/dictionary_copy.htm\">dict.copy()</a>\n",
    "<p>Returns a shallow copy of dictionary <i>dict</i></p></td>\n",
    "</tr>\n",
    "<tr>\n",
    "<td class=\"ts\">3</td>\n",
    "<td><a href=\"/python/dictionary_fromkeys.htm\">dict.fromkeys()</a>\n",
    "<p>Create a new dictionary with keys from seq and values <i>set</i> to <i>value</i>.</p></td>\n",
    "</tr>\n",
    "<tr>\n",
    "<td class=\"ts\">4</td>\n",
    "<td><a href=\"/python/dictionary_get.htm\">dict.get(key, default=None)</a>\n",
    "<p>For <i>key</i> key, returns value or default if key not in dictionary</p></td>\n",
    "</tr>\n",
    "<tr>\n",
    "<td class=\"ts\">5</td>\n",
    "<td><a href=\"/python/dictionary_has_key.htm\">dict.has_key(key)</a>\n",
    "<p>Returns <i>true</i> if key in dictionary <i>dict</i>, <i>false</i> otherwise</p></td>\n",
    "</tr>\n",
    "<tr>\n",
    "<td class=\"ts\">6</td>\n",
    "<td><a href=\"/python/dictionary_items.htm\">dict.items()</a>\n",
    "<p>Returns a list of <i>dict</i>'s (key, value) tuple pairs</p></td>\n",
    "</tr>\n",
    "<tr>\n",
    "<td class=\"ts\">7</td>\n",
    "<td><a href=\"/python/dictionary_keys.htm\">dict.keys()</a>\n",
    "<p>Returns list of dictionary dict's keys</p></td>\n",
    "</tr>\n",
    "<tr>\n",
    "<td class=\"ts\">8</td>\n",
    "<td><a href=\"/python/dictionary_setdefault.htm\">dict.setdefault(key, default=None)</a>\n",
    "<p>Similar to get(), but will set dict[key]=default if <i>key</i> is not already in dict</p></td>\n",
    "</tr>\n",
    "<tr>\n",
    "<td class=\"ts\">9</td>\n",
    "<td><a href=\"/python/dictionary_update.htm\">dict.update(dict2)</a>\n",
    "<p>Adds dictionary <i>dict2</i>'s key-values pairs to <i>dict</i></p></td>\n",
    "</tr>\n",
    "<tr>\n",
    "<td class=\"ts\">10</td>\n",
    "<td><a href=\"/python/dictionary_values.htm\">dict.values()</a>\n",
    "<p>Returns list of dictionary <i>dict</i>'s values</p></td>\n",
    "</tr>\n",
    "</tbody></table>"
   ]
  }
 ],
 "metadata": {
  "kernelspec": {
   "display_name": "Python 3",
   "language": "python",
   "name": "python3"
  },
  "language_info": {
   "codemirror_mode": {
    "name": "ipython",
    "version": 3
   },
   "file_extension": ".py",
   "mimetype": "text/x-python",
   "name": "python",
   "nbconvert_exporter": "python",
   "pygments_lexer": "ipython3",
   "version": "3.8.3"
  }
 },
 "nbformat": 4,
 "nbformat_minor": 4
}
