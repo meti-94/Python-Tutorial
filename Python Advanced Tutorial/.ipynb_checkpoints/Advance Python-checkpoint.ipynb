{
 "cells": [
  {
   "cell_type": "markdown",
   "metadata": {},
   "source": [
    "# 1. Object Oriented Programming"
   ]
  },
  {
   "cell_type": "markdown",
   "metadata": {},
   "source": [
    "<p>Python has been an object-oriented language since it existed. Because of this, creating and using classes and objects are downright easy. This chapter helps you become an expert in using Python's object-oriented programming support.</p>\n",
    "<p>If you do not have any previous experience with object-oriented (OO) programming, you may want to consult an introductory course on it or at least a tutorial of some sort so that you have a grasp of the basic concepts.</p>\n",
    "<p>However, here is small introduction of Object-Oriented Programming (OOP) to bring you at speed −</p>\n",
    "<h2>Overview of OOP Terminology</h2>\n",
    "<ul class=\"list\">\n",
    "<li><p><b>Class</b> − A user-defined prototype for an object that defines a set of attributes that characterize any object of the class. The attributes are data members (class variables and instance variables) and methods, accessed via dot notation.</p></li>\n",
    "<li><p><b>Class variable</b> − A variable that is shared by all instances of a class. Class variables are defined within a class but outside any of the class's methods. Class variables are not used as frequently as instance variables are.</p></li>\n",
    "<li><p><b>Data member</b> − A class variable or instance variable that holds data associated with a class and its objects.</p></li>\n",
    "<li><p><b>Function overloading</b> − The assignment of more than one behavior to a particular function. The operation performed varies by the types of objects or arguments involved.</p></li>\n",
    "<li><p><b>Instance variable</b> − A variable that is defined inside a method and belongs only to the current instance of a class.</p></li>\n",
    "<li><p><b>Inheritance</b> − The transfer of the characteristics of a class to other classes that are derived from it.</p></li>\n",
    "<li><p><b>Instance</b> −  An individual object of a certain class. An object obj that belongs to a class Circle, for example, is an instance of the class Circle.</p></li>\n",
    "<li><p><b>Instantiation</b> − The creation of an instance of a class.</p></li>\n",
    "<li><p><b>Method</b> − A special kind of function that is defined in a class definition.</p></li>\n",
    "<li><p><b>Object</b> − A unique instance of a data structure that's defined by its class. An object comprises both data members (class variables and instance variables) and methods.</p></li>\n",
    "<li><p><b>Operator overloading</b> − The assignment of more than one function to a particular operator.</p>"
   ]
  },
  {
   "cell_type": "markdown",
   "metadata": {},
   "source": [
    "<h2>Creating Classes</h2>\n",
    "<p>The <i>class</i> statement creates a new class definition. The name of the class immediately follows the keyword <i>class</i> followed by a colon as follows −</p>\n",
    "<pre class=\"result notranslate\">class ClassName:\n",
    "   'Optional class documentation string'\n",
    "   class_suite\n",
    "</pre>\n",
    "<ul class=\"list\">\n",
    "<li><p>The class has a documentation string, which can be accessed via <i>ClassName.__doc__</i>.</p></li>\n",
    "<li><p>The <i>class_suite</i> consists of all the component statements defining class members, data attributes and functions.</p>"
   ]
  },
  {
   "cell_type": "markdown",
   "metadata": {},
   "source": [
    "<h3>Example</h3>\n",
    "<p>Following is the example of a simple Python class −</p>"
   ]
  },
  {
   "cell_type": "code",
   "execution_count": 1,
   "metadata": {},
   "outputs": [],
   "source": [
    "class Employee:\n",
    "    'Common base class for all employees'\n",
    "    empCount = 0\n",
    "    \n",
    "    def __init__(self, name, salary):\n",
    "        self.name = name\n",
    "        self.salary = salary\n",
    "        Employee.empCount += 1\n",
    "   \n",
    "    def displayCount(self):\n",
    "        print(\"Total Employee %d\" % Employee.empCount)\n",
    "\n",
    "    def displayEmployee(self):\n",
    "        print(\"Name : \", self.name,  \", Salary: \", self.salary)"
   ]
  },
  {
   "cell_type": "markdown",
   "metadata": {},
   "source": [
    "<p>The variable <i>empCount</i> is a class variable whose value is shared among all instances of a this class. This can be accessed as <i>Employee.empCount</i> from inside the class or outside the class.</p></li>\n",
    "<li><p>The first method <i>__init__()</i> is a special method, which is called class constructor or initialization method that Python calls when you create a new instance of this class.</p></li>\n",
    "<li><p>You declare other class methods like normal functions with the exception that the first argument to each method is <i>self</i>. Python adds the <i>self</i> argument to the list for you; you do not need to include it when you call the methods.</p></li>\n",
    "</ul>\n",
    "<h2>Creating Instance Objects</h2>\n",
    "<p>To create instances of a class, you call the class using class name and pass in whatever arguments its <i>__init__</i> method accepts.</p>\n",
    "<pre class=\"result notranslate\">\"This would create first object of Employee class\"\n",
    "emp1 = Employee(\"Zara\", 2000)\n",
    "\"This would create second object of Employee class\"\n",
    "emp2 = Employee(\"Manni\", 5000)\n",
    "</pre>\n",
    "<h2>Accessing Attributes</h2>\n",
    "<p>You access the object's attributes using the dot operator with object. Class variable would be accessed using class name as follows −</p>\n",
    "<pre class=\"result notranslate\">emp1.displayEmployee()\n",
    "emp2.displayEmployee()\n",
    "print \"Total Employee %d\" % Employee.empCount\n",
    "</pre>\n",
    "<p>Now, putting all  the concepts together −</p>"
   ]
  },
  {
   "cell_type": "code",
   "execution_count": 3,
   "metadata": {},
   "outputs": [
    {
     "name": "stdout",
     "output_type": "stream",
     "text": [
      "Name :  Zara , Salary:  2000\n",
      "Name :  Manni , Salary:  5000\n",
      "Total Employee 2\n"
     ]
    }
   ],
   "source": [
    "class Employee:\n",
    "    'Common base class for all employees'\n",
    "    empCount = 0\n",
    "\n",
    "    def __init__(self, name, salary):\n",
    "        self.name = name\n",
    "        self.salary = salary\n",
    "        Employee.empCount += 1\n",
    "   \n",
    "    def displayCount(self):\n",
    "        print(\"Total Employee %d\" % Employee.empCount)\n",
    "\n",
    "    def displayEmployee(self):\n",
    "        print(\"Name : \", self.name,  \", Salary: \", self.salary)\n",
    "\n",
    "\"This would create first object of Employee class\"\n",
    "emp1 = Employee(\"Zara\", 2000)\n",
    "\"This would create second object of Employee class\"\n",
    "emp2 = Employee(\"Manni\", 5000)\n",
    "emp1.displayEmployee()\n",
    "emp2.displayEmployee()\n",
    "print(\"Total Employee %d\" % Employee.empCount)"
   ]
  },
  {
   "cell_type": "markdown",
   "metadata": {},
   "source": [
    "<p>When the above code is  executed, it produces the following result −</p>\n",
    "<pre class=\"result notranslate\">Name :  Zara ,Salary:  2000\n",
    "Name :  Manni ,Salary:  5000\n",
    "Total Employee 2\n",
    "</pre>\n",
    "<p>You can add, remove, or modify attributes of classes and objects at any time −</p>\n",
    "<pre class=\"result notranslate\">emp1.age = 7  # Add an 'age' attribute.\n",
    "emp1.age = 8  # Modify 'age' attribute.\n",
    "del emp1.age  # Delete 'age' attribute.\n",
    "</pre>\n",
    "<p>Instead of using the normal statements to access attributes, you can use the following functions −</p>\n",
    "<ul class=\"list\">\n",
    "<li><p>The <b>getattr(obj, name[, default])</b> − to access the attribute of object.</p></li>\n",
    "<li><p>The <b>hasattr(obj,name)</b> − to check if an attribute exists or not.</p></li>\n",
    "<li><p>The <b>setattr(obj,name,value)</b> − to set an attribute. If attribute does not exist, then it would be created.</p></li>\n",
    "<li><p>The <b>delattr(obj, name)</b> − to delete an attribute.</p></li>\n",
    "</ul>\n",
    "<pre class=\"result notranslate\">hasattr(emp1, 'age')    # Returns true if 'age' attribute exists\n",
    "getattr(emp1, 'age')    # Returns value of 'age' attribute\n",
    "setattr(emp1, 'age', 8) # Set attribute 'age' at 8\n",
    "delattr(empl, 'age')    # Delete attribute 'age'"
   ]
  },
  {
   "cell_type": "markdown",
   "metadata": {},
   "source": [
    "<h2>Built-In Class Attributes</h2>\n",
    "<p>Every Python class keeps following built-in attributes and they can be accessed using dot operator like any other attribute −</p>\n",
    "<ul class=\"list\">\n",
    "<li><p><b>__dict__</b> − Dictionary containing the class's namespace.</p></li>\n",
    "<li><p><b>__doc__</b> − Class documentation string or none, if undefined. </p></li>\n",
    "<li><p><b>__name__</b> − Class name.</p></li>\n",
    "<li><p><b>__module__</b> − Module name in which the class is defined. This attribute is \"__main__\" in interactive mode. </p></li>\n",
    "<li><p><b>__bases__</b> − A possibly empty tuple containing the base classes, in the order of their occurrence in the base class list.</p></li>\n",
    "</ul>\n",
    "<p>For the above class let us try to access all these attributes −</p>"
   ]
  },
  {
   "cell_type": "code",
   "execution_count": 7,
   "metadata": {},
   "outputs": [
    {
     "name": "stdout",
     "output_type": "stream",
     "text": [
      "Employee.__doc__: Common base class for all employees\n",
      "Employee.__name__: Employee\n",
      "Employee.__module__: __main__\n",
      "Employee.__bases__: (<class 'object'>,)\n",
      "Employee.__dict__: {'__module__': '__main__', '__doc__': 'Common base class for all employees', 'empCount': 0, '__init__': <function Employee.__init__ at 0x000002880E8C3940>, 'displayCount': <function Employee.displayCount at 0x000002880E8C39D0>, 'displayEmployee': <function Employee.displayEmployee at 0x000002880E8C3A60>, '__dict__': <attribute '__dict__' of 'Employee' objects>, '__weakref__': <attribute '__weakref__' of 'Employee' objects>}\n"
     ]
    }
   ],
   "source": [
    "#!/usr/bin/python\n",
    "\n",
    "class Employee:\n",
    "    'Common base class for all employees'\n",
    "    empCount = 0\n",
    "\n",
    "    def __init__(self, name, salary):\n",
    "        self.name = name\n",
    "        self.salary = salary\n",
    "        Employee.empCount += 1\n",
    "   \n",
    "    def displayCount(self):\n",
    "        print(\"Total Employee %d\" % Employee.empCount)\n",
    "\n",
    "    def displayEmployee(self):\n",
    "        print(\"Name : \", self.name,  \", Salary: \", self.salary)\n",
    "\n",
    "print(\"Employee.__doc__:\", Employee.__doc__)\n",
    "print(\"Employee.__name__:\", Employee.__name__)\n",
    "print(\"Employee.__module__:\", Employee.__module__)\n",
    "print(\"Employee.__bases__:\", Employee.__bases__)\n",
    "print(\"Employee.__dict__:\", Employee.__dict__)"
   ]
  },
  {
   "cell_type": "markdown",
   "metadata": {},
   "source": [
    "<p>When the above code is  executed, it produces the following result −</p>\n",
    "<pre class=\"result notranslate\">Employee.__doc__: Common base class for all employees\n",
    "Employee.__name__: Employee\n",
    "Employee.__module__: __main__\n",
    "Employee.__bases__: ()\n",
    "Employee.__dict__: {'__module__': '__main__', 'displayCount':\n",
    "&lt;function displayCount at 0xb7c84994&gt;, 'empCount': 2, \n",
    "'displayEmployee': &lt;function displayEmployee at 0xb7c8441c&gt;, \n",
    "'__doc__': 'Common base class for all employees', \n",
    "'__init__': &lt;function __init__ at 0xb7c846bc&gt;}\n",
    "</pre>\n",
    "<h2>Destroying Objects (Garbage Collection)</h2>\n",
    "<p>Python deletes unneeded objects (built-in types or class instances) automatically to free the memory space. The process by which Python periodically reclaims blocks of memory that no longer are in use is termed Garbage Collection.</p>\n",
    "<p>Python's garbage collector runs during program execution and is triggered when an object's reference count reaches zero. An object's reference count changes as the number of aliases that point to it changes.</p>\n",
    "<p>An object's reference count increases when it is assigned a new name or placed in a container (list, tuple, or dictionary). The object's reference count decreases when it's deleted with <i>del</i>, its reference is reassigned, or its reference goes out of scope. When an object's reference count reaches zero, Python collects it automatically.</p>\n",
    "<pre class=\"result notranslate\">a = 40      # Create object &lt;40&gt;\n",
    "b = a       # Increase ref. count  of &lt;40&gt; \n",
    "c = [b]     # Increase ref. count  of &lt;40&gt; \n",
    "\n",
    "del a       # Decrease ref. count  of &lt;40&gt;\n",
    "b = 100     # Decrease ref. count  of &lt;40&gt; \n",
    "c[0] = -1   # Decrease ref. count  of &lt;40&gt; \n",
    "</pre>\n",
    "<p>You normally will not notice when the garbage collector destroys an orphaned instance and reclaims its space. But a class can implement the special method <i>__del__()</i>, called a destructor, that is invoked when the instance is about to be destroyed. This method might be used to clean up any non memory resources used by an instance.</p>\n",
    "<h3>Example</h3>\n",
    "<p>This __del__() destructor prints the class name of an instance that is about to be destroyed −</p>"
   ]
  },
  {
   "cell_type": "code",
   "execution_count": 8,
   "metadata": {},
   "outputs": [
    {
     "name": "stdout",
     "output_type": "stream",
     "text": [
      "2783382256800 2783382256800 2783382256800\n",
      "Point destroyed\n"
     ]
    }
   ],
   "source": [
    "#!/usr/bin/python\n",
    "\n",
    "class Point:\n",
    "    def __init__( self, x=0, y=0):\n",
    "        self.x = x\n",
    "        self.y = y\n",
    "    def __del__(self):\n",
    "        class_name = self.__class__.__name__\n",
    "        print(class_name, \"destroyed\")\n",
    "\n",
    "pt1 = Point()\n",
    "pt2 = pt1\n",
    "pt3 = pt1\n",
    "print(id(pt1), id(pt2), id(pt3)) # prints the ids of the obejcts\n",
    "del pt1\n",
    "del pt2\n",
    "del pt3"
   ]
  },
  {
   "cell_type": "markdown",
   "metadata": {},
   "source": [
    "<p>When the above code is  executed, it produces following result −</p>\n",
    "<pre class=\"result notranslate\">3083401324 3083401324 3083401324\n",
    "Point destroyed\n",
    "</pre>\n",
    "<p><b>Note</b> − Ideally, you should define your classes in separate file, then you should import them in your main program file using <i>import</i> statement.</p>\n",
    "<h2>Class Inheritance</h2>\n",
    "<p>Instead of starting from scratch, you can create a class by deriving it from a preexisting class by listing the parent class in parentheses after the new class name.</p>\n",
    "<p>The child class inherits the attributes of its parent class, and you can use those attributes as if they were defined in the child class. A child class can also override data members and methods from the parent.</p>\n",
    "<h3>Syntax</h3>\n",
    "<p>Derived classes are declared much like their parent class; however, a list of base classes to inherit from is given after the class name −</p>\n",
    "<pre class=\"prettyprint notranslate prettyprinted\" style=\"\"><span class=\"kwd\">class</span><span class=\"pln\"> </span><span class=\"typ\">SubClassName</span><span class=\"pln\"> </span><span class=\"pun\">(</span><span class=\"typ\">ParentClass1</span><span class=\"pun\">[,</span><span class=\"pln\"> </span><span class=\"typ\">ParentClass2</span><span class=\"pun\">,</span><span class=\"pln\"> </span><span class=\"pun\">...]):</span><span class=\"pln\">\n",
    "   </span><span class=\"str\">'Optional class documentation string'</span><span class=\"pln\">\n",
    "   class_suite</span></pre>\n",
    "<h3>Example</h3>"
   ]
  },
  {
   "cell_type": "code",
   "execution_count": null,
   "metadata": {},
   "outputs": [],
   "source": [
    "#!/usr/bin/python\n",
    "\n",
    "class Parent:        # define parent class\n",
    "    parentAttr = 100\n",
    "    def __init__(self):\n",
    "        print(\"Calling parent constructor\")\n",
    "\n",
    "    def parentMethod(self):\n",
    "        print('Calling parent method')\n",
    "\n",
    "    def setAttr(self, attr):\n",
    "        Parent.parentAttr = attr\n",
    "\n",
    "    def getAttr(self):\n",
    "        print(\"Parent attribute :\", Parent.parentAttr)\n",
    "\n",
    "class Child(Parent): # define child class\n",
    "    def __init__(self):\n",
    "        print(\"Calling child constructor\")\n",
    "\n",
    "    def childMethod(self):\n",
    "        print('Calling child method')\n",
    "\n",
    "c = Child()          # instance of child\n",
    "c.childMethod()      # child calls its method\n",
    "c.parentMethod()     # calls parent's method\n",
    "c.setAttr(200)       # again call parent's method\n",
    "c.getAttr()          # again call parent's method"
   ]
  },
  {
   "cell_type": "markdown",
   "metadata": {},
   "source": [
    "<p>When the above code is  executed, it produces the following result −</p>\n",
    "<pre class=\"result notranslate\">Calling child constructor\n",
    "Calling child method\n",
    "Calling parent method\n",
    "Parent attribute : 200\n",
    "</pre>\n",
    "<p>Similar way, you can drive a class from multiple parent classes as follows −</p>\n",
    "<pre class=\"result notranslate\">class A:        # define your class A\n",
    ".....\n",
    "\n",
    "class B:         # define your class B\n",
    ".....\n",
    "\n",
    "class C(A, B):   # subclass of A and B\n",
    ".....\n",
    "</pre>\n",
    "<p>You can use issubclass() or isinstance() functions to check a relationships of two classes and instances.</p>\n",
    "<ul class=\"list\">\n",
    "<li><p>The <b>issubclass(sub, sup)</b> boolean function returns true if the given subclass <b>sub</b> is indeed a subclass of the superclass <b>sup</b>.</p></li>\n",
    "<li><p>The <b>isinstance(obj, Class)</b> boolean function returns true if <i>obj</i> is an instance of class <i>Class</i> or is an instance of a subclass of Class</p></li>\n",
    "</ul>\n",
    "<h2>Overriding Methods</h2>\n",
    "<p>You can always override your parent class methods. One reason for overriding parent's methods is because you may want special or different functionality in your subclass.</p>\n",
    "<h3>Example</h3>"
   ]
  },
  {
   "cell_type": "code",
   "execution_count": null,
   "metadata": {},
   "outputs": [],
   "source": [
    "#!/usr/bin/python\n",
    "\n",
    "class Parent:        # define parent class\n",
    "    def myMethod(self):\n",
    "        print('Calling parent method')\n",
    "\n",
    "class Child(Parent): # define child class\n",
    "    def myMethod(self):\n",
    "        print('Calling child method')\n",
    "\n",
    "c = Child()          # instance of child\n",
    "c.myMethod()         # child calls overridden method"
   ]
  },
  {
   "cell_type": "markdown",
   "metadata": {},
   "source": [
    "<p>When the above code is  executed, it produces the following result −</p>\n",
    "<pre class=\"prettyprint notranslate prettyprinted\" style=\"\"><span class=\"typ\">Calling</span><span class=\"pln\"> child method</span></pre>\n",
    "<h2>Base Overloading Methods</h2>\n",
    "<p>Following table lists some generic functionality that you can override in your own classes −</p>\n",
    "<table class=\"table-bordered\">\n",
    "<tbody><tr>\n",
    "<th style=\"text-align:center;width:10%\">Sr.No.</th>\n",
    "<th style=\"text-align:center;\">Method, Description &amp; Sample Call</th>\n",
    "</tr>\n",
    "<tr>\n",
    "<td class=\"ts\">1</td>\n",
    "<td><p><b>__init__ ( self [,args...] )</b></p>\n",
    "<p>Constructor (with any optional arguments)</p>\n",
    "<p>Sample Call : <i>obj = className(args)</i></p></td>\n",
    "</tr>\n",
    "<tr>\n",
    "<td class=\"ts\">2</td>\n",
    "<td><p><b>__del__( self )</b></p>\n",
    "<p>Destructor, deletes an object</p>\n",
    "<p>Sample Call : <i>del obj</i></p></td>\n",
    "</tr>\n",
    "<tr>\n",
    "<td class=\"ts\">3</td>\n",
    "<td><p><b>__repr__( self )</b></p>\n",
    "<p>Evaluable string representation</p>\n",
    "<p>Sample Call : <i>repr(obj)</i></p></td>\n",
    "</tr>\n",
    "<tr>\n",
    "<td class=\"ts\">4</td>\n",
    "<td><p><b>__str__( self )</b></p>\n",
    "<p>Printable string representation</p>\n",
    "<p>Sample Call : <i>str(obj)</i></p></td>\n",
    "</tr>\n",
    "<tr>\n",
    "<td class=\"ts\">5</td>\n",
    "<td><p><b>__cmp__ ( self, x )</b></p>\n",
    "<p>Object comparison</p>\n",
    "<p>Sample Call : <i>cmp(obj, x)</i></p></td>\n",
    "</tr>\n",
    "</tbody></table>\n",
    "<h2>Overloading Operators</h2>\n",
    "<p>Suppose you have created a Vector class to represent two-dimensional vectors, what happens when you use the plus operator to add them? Most likely Python will yell at you.</p>\n",
    "<p>You could, however, define the <i>__add__</i> method in your class to perform vector addition and then the plus operator would behave as per expectation −</p>\n",
    "<h3>Example</h3>"
   ]
  },
  {
   "cell_type": "code",
   "execution_count": 11,
   "metadata": {},
   "outputs": [
    {
     "name": "stdout",
     "output_type": "stream",
     "text": [
      "Vector (7, 8)\n"
     ]
    }
   ],
   "source": [
    "#!/usr/bin/python\n",
    "\n",
    "class Vector:\n",
    "    def __init__(self, a, b):\n",
    "        self.a = a\n",
    "        self.b = b\n",
    "\n",
    "    def __str__(self):\n",
    "        return('Vector (%d, %d)' % (self.a, self.b))\n",
    "    \n",
    "    def __add__(self,other):\n",
    "        return Vector(self.a + other.a, self.b + other.b)\n",
    "\n",
    "v1 = Vector(2,10)\n",
    "v2 = Vector(5,-2)\n",
    "print(v1 + v2)"
   ]
  },
  {
   "cell_type": "markdown",
   "metadata": {},
   "source": [
    "<p>When the above code is  executed, it produces the following result −</p>\n",
    "<pre class=\"result notranslate\">Vector(7,8)\n",
    "</pre>\n",
    "<h2>Data Hiding</h2>\n",
    "<p>An object's attributes may or may not be visible outside the class definition. You need to name attributes with a double underscore prefix, and those attributes then are not be directly visible to outsiders.</p>\n",
    "<h3>Example</h3>"
   ]
  },
  {
   "cell_type": "code",
   "execution_count": null,
   "metadata": {},
   "outputs": [],
   "source": [
    "#!/usr/bin/python\n",
    "\n",
    "class JustCounter:\n",
    "    __secretCount = 0\n",
    "  \n",
    "    def count(self):\n",
    "        self.__secretCount += 1\n",
    "        print(self.__secretCount)\n",
    "\n",
    "counter = JustCounter()\n",
    "counter.count()\n",
    "counter.count()\n",
    "print(counter.__secretCount)"
   ]
  },
  {
   "cell_type": "markdown",
   "metadata": {},
   "source": [
    "<p>When the above code is  executed, it produces the following result −</p>\n",
    "<pre class=\"result notranslate\">1\n",
    "2\n",
    "Traceback (most recent call last):\n",
    "   File \"test.py\", line 12, in &lt;module&gt;\n",
    "      print counter.__secretCount\n",
    "AttributeError: JustCounter instance has no attribute '__secretCount'\n",
    "</pre>\n",
    "<p>Python protects those members by internally changing the name to include the class name. You can access such attributes as <i>object._className__attrName</i>. If you would replace your last line as following, then it works for you −</p>\n",
    "<pre class=\"result notranslate\">.........................\n",
    "print counter._JustCounter__secretCount\n",
    "</pre>\n",
    "<p>When the above code is  executed, it produces the following result −</p>\n",
    "<pre class=\"result notranslate\">1\n",
    "2\n",
    "2"
   ]
  },
  {
   "cell_type": "markdown",
   "metadata": {},
   "source": [
    "# Python - Files I/O"
   ]
  },
  {
   "cell_type": "markdown",
   "metadata": {},
   "source": [
    "<p>This chapter covers all the basic I/O functions available in Python. For more functions, please refer to standard Python documentation.</p>\n",
    "<h2>Printing to the Screen</h2>\n",
    "<p>The simplest way to produce output is using the <i>print</i> statement where you can pass zero or more expressions separated by commas. This function converts the expressions you pass into a string and writes the result to standard output as follows −</p>"
   ]
  },
  {
   "cell_type": "code",
   "execution_count": null,
   "metadata": {},
   "outputs": [],
   "source": [
    "#!/usr/bin/python\n",
    "\n",
    "print(\"Python is really a great language,\", \"isn't it?\")"
   ]
  },
  {
   "cell_type": "markdown",
   "metadata": {},
   "source": [
    "<p>This produces the following result on your standard screen −</p>\n",
    "<pre class=\"result notranslate\">Python is really a great language, isn't it?\n",
    "</pre>\n",
    "<h2>Reading Keyboard Input</h2>\n",
    "<p>Python provides two built-in functions to read a line of text from standard input, which by default comes from the keyboard. These functions are −</p>\n",
    "<ul class=\"list\">\n",
    "<li>raw_input (deprecated in python>3.5)</li>\n",
    "<li>input</li>\n",
    "</ul>\n",
    "<h2>The <i>input</i> Function</h2>\n",
    "<p>The <i>input([prompt])</i> function is equivalent to raw_input, except that it doesn't evaluate the result.</p>"
   ]
  },
  {
   "cell_type": "code",
   "execution_count": null,
   "metadata": {},
   "outputs": [],
   "source": [
    "#!/usr/bin/python\n",
    "\n",
    "str = input(\"Enter your input: \")\n",
    "print(\"Received input is : \", eval(str))\n"
   ]
  },
  {
   "cell_type": "markdown",
   "metadata": {},
   "source": [
    "<p>This would produce the following result against the entered input −</p>\n",
    "<pre class=\"result notranslate\">Enter your input: [x*5 for x in range(2,10,2)]\n",
    "Recieved input is :  [10, 20, 30, 40]"
   ]
  },
  {
   "cell_type": "markdown",
   "metadata": {},
   "source": [
    "<h2>Opening and Closing Files</h2>\n",
    "<p>Until now, you have been reading and writing to the standard input and output. Now, we will see how to use actual data files.</p>\n",
    "<p>Python provides basic functions and methods necessary to manipulate files by default. You can do most of the file manipulation using a <b>file</b> object.</p>\n",
    "<h2>The <i>open</i> Function</h2>\n",
    "<p>Before you can read or write a file, you have to open it using Python's built-in <i>open()</i> function. This function creates a <b>file</b> object, which would be utilized to call other support methods associated with it.</p>\n",
    "<h3>Syntax</h3>\n",
    "<pre class=\"result notranslate\">file object = open(file_name [, access_mode][, buffering])\n",
    "</pre>\n",
    "<p>Here are parameter details −</p>\n",
    "<ul class=\"list\">\n",
    "<li><p><b>file_name</b> − The file_name argument is a string value that contains the name of the file that you want to access.</p></li>\n",
    "<li><p><b>access_mode</b> − The access_mode determines the mode in which the file has to be opened, i.e., read, write, append, etc. A complete list of possible values is given below in the table. This is optional parameter and the default file access mode is read (r).</p></li>\n",
    "<li><p><b>buffering</b> − If the buffering value is set to 0, no buffering  takes place. If the buffering value is 1, line buffering is performed while accessing a file. If you specify the buffering value as an integer greater than 1, then buffering action is performed with the indicated buffer size. If negative, the buffer size is the system default(default behavior).</p></li>\n",
    "</ul>\n",
    "<p>Here is a list of the different modes of opening a file −</p>\n",
    "<table class=\"table-bordered\">\n",
    "<tbody><tr>\n",
    "<th style=\"text-align:center;\">Sr.No.</th>\n",
    "<th style=\"text-align:center;\">Modes &amp; Description</th>\n",
    "</tr>\n",
    "<tr>\n",
    "<td class=\"ts\">1</td>\n",
    "<td><p><b>r</b></p>\n",
    "<p>Opens a file for reading only. The file pointer is placed at the beginning of the file. This is the default mode.</p></td>\n",
    "</tr>\n",
    "<tr>\n",
    "<td class=\"ts\">2</td>\n",
    "<td><p><b>rb</b></p>\n",
    "<p>Opens a file for reading only in binary format. The file pointer is placed at the beginning of the file. This is the default mode.</p></td>\n",
    "</tr>\n",
    "<tr>\n",
    "<td class=\"ts\">3</td>\n",
    "<td><p><b>r+</b></p>\n",
    "<p>Opens a file for both reading and writing. The file pointer placed at the beginning of the file.</p></td>\n",
    "</tr>\n",
    "<tr>\n",
    "<td class=\"ts\">4</td>\n",
    "<td><p><b>rb+</b></p>\n",
    "<p>Opens a file for both reading and writing in binary format. The file pointer placed at the beginning of the file.</p></td>\n",
    "</tr>\n",
    "<tr>\n",
    "<td class=\"ts\">5</td>\n",
    "<td><p><b>w</b></p>\n",
    "<p>Opens a file for writing only. Overwrites the file if the file exists. If the file does not exist, creates a new file for writing.</p></td>\n",
    "</tr>\n",
    "<tr>\n",
    "<td class=\"ts\">6</td>\n",
    "<td><p><b>wb</b></p>\n",
    "<p>Opens a file for writing only in binary format. Overwrites the file if the file exists. If the file does not exist, creates a new file for writing.</p></td>\n",
    "</tr>\n",
    "<tr>\n",
    "<td class=\"ts\">7</td>\n",
    "<td><p><b>w+</b></p>\n",
    "<p>Opens a file for both writing and reading. Overwrites the existing file if the file exists. If the file does not exist, creates a new file for reading and writing.</p></td>\n",
    "</tr> \n",
    "<tr>\n",
    "<td class=\"ts\">8</td>\n",
    "<td><p><b>wb+</b></p>\n",
    "<p>Opens a file for both writing and reading in binary format. Overwrites the existing file if the file exists. If the file does not exist, creates a new file for reading and writing.</p></td>\n",
    "</tr>\n",
    "<tr>\n",
    "<td class=\"ts\">9</td>\n",
    "<td><p><b>a</b></p>\n",
    "<p>Opens a file for appending. The file pointer is at the end of the file if the file exists. That is, the file is in the append mode. If the file does not exist, it creates a new file for writing.</p></td>\n",
    "</tr> \n",
    "<tr>\n",
    "<td class=\"ts\">10</td>\n",
    "<td><p><b>ab</b></p>\n",
    "<p>Opens a file for appending in binary format. The file pointer is at the end of the file if the file exists. That is, the file is in the append mode. If the file does not exist, it creates a new file for writing.</p></td>\n",
    "</tr> \n",
    "<tr>\n",
    "<td class=\"ts\">11</td>\n",
    "<td><p><b>a+</b></p>\n",
    "<p>Opens a file for both appending and reading. The file pointer is at the end of the file if the file exists. The file opens in the append mode. If the file does not exist, it creates a new file for reading and writing.</p></td>\n",
    "</tr> \n",
    "<tr>\n",
    "<td class=\"ts\">12</td>\n",
    "<td><p><b>ab+</b></p>\n",
    "<p>Opens a file for both appending and reading in binary format. The file pointer is at the end of the file if the file exists. The file opens in the append mode. If the file does not exist, it creates a new file for reading and writing.</p></td>\n",
    "</tr>\n",
    "</tbody></table>\n",
    "<h2>The <i>file</i> Object Attributes</h2>\n",
    "<p>Once a file is opened and you have one <i>file</i> object, you can get various information related to that file.</p>\n",
    "<p>Here is a list of all attributes related to file object −</p>\n",
    "<table class=\"table-bordered\">\n",
    "<tbody><tr>\n",
    "<th style=\"text-align:center;\">Sr.No.</th>\n",
    "<th style=\"text-align:center;\">Attribute &amp; Description</th>\n",
    "</tr>\n",
    "<tr>\n",
    "<td class=\"ts\">1</td>\n",
    "<td><p><b>file.closed</b></p>\n",
    "<p>Returns true if file is closed, false otherwise.</p></td>\n",
    "</tr>\n",
    "<tr>\n",
    "<td class=\"ts\">2</td>\n",
    "<td><p><b>file.mode</b></p>\n",
    "<p>Returns access mode with which file was opened.</p></td>\n",
    "</tr>\n",
    "<tr>\n",
    "<td class=\"ts\">3</td>\n",
    "<td><p><b>file.name</b></p>\n",
    "<p>Returns name of the file.</p></td>\n",
    "</tr>\n",
    "<tr>\n",
    "<td class=\"ts\">4</td>\n",
    "<td><p><b>file.softspace</b></p>\n",
    "<p>Returns false if space explicitly required with print, true otherwise.</p></td>\n",
    "</tr>\n",
    "</tbody></table>\n",
    "<h3>Example</h3>"
   ]
  },
  {
   "cell_type": "code",
   "execution_count": null,
   "metadata": {},
   "outputs": [],
   "source": [
    "#!/usr/bin/python\n",
    "\n",
    "# Open a file\n",
    "fo = open(\"foo.txt\", \"wb\")\n",
    "print(\"Name of the file: \", fo.name)\n",
    "print(\"Closed or not : \", fo.closed)\n",
    "print(\"Opening mode : \", fo.mode)"
   ]
  },
  {
   "cell_type": "markdown",
   "metadata": {},
   "source": [
    "<p>This produces the following result −</p>\n",
    "<pre class=\"result notranslate\">Name of the file:  foo.txt\n",
    "Closed or not :  False\n",
    "Opening mode :  wb\n",
    "Softspace flag :  0\n",
    "</pre>\n",
    "<h2>The <i>close()</i> Method</h2>\n",
    "<p>The close() method of a <i>file</i> object flushes any unwritten information and closes the file object, after which no more writing can be done.</p>\n",
    "<p>Python automatically closes a file when the reference object of a file is reassigned to another file. It is a good practice to use the close() method to close a file.</p>\n",
    "<h3>Syntax</h3>\n",
    "<pre class=\"result notranslate\">fileObject.close()\n",
    "</pre>\n",
    "<h3>Example</h3>"
   ]
  },
  {
   "cell_type": "code",
   "execution_count": null,
   "metadata": {},
   "outputs": [],
   "source": [
    "#!/usr/bin/python\n",
    "\n",
    "# Open a file\n",
    "fo = open(\"foo.txt\", \"wb\")\n",
    "print(\"Name of the file: \", fo.name)\n",
    "\n",
    "# Close opend file\n",
    "fo.close()"
   ]
  },
  {
   "cell_type": "markdown",
   "metadata": {},
   "source": [
    "<p>This produces the following result −</p>\n",
    "<pre class=\"result notranslate\">Name of the file:  foo.txt\n",
    "</pre>\n",
    "<h2>Reading and Writing Files</h2>\n",
    "<p>The <i>file</i> object provides a set of access methods to make our lives easier. We would see how to use <i>read()</i> and <i>write()</i> methods to read and write files.</p>\n",
    "<h2>The <i>write()</i> Method</h2>\n",
    "<p>The <i>write()</i> method writes any string to an open file. It is important to note that Python strings can have binary data and not just text.</p>\n",
    "<p>The write() method does not add a newline character ('\\n') to the end of the string −</p>\n",
    "<h3>Syntax</h3>\n",
    "<pre class=\"result notranslate\">fileObject.write(string)\n",
    "</pre>\n",
    "<p>Here, passed parameter is the content to be written into the opened file.</p>\n",
    "<h3>Example</h3>"
   ]
  },
  {
   "cell_type": "code",
   "execution_count": null,
   "metadata": {},
   "outputs": [],
   "source": [
    "#!/usr/bin/python\n",
    "\n",
    "# Open a file\n",
    "fo = open(\"foo.txt\", \"wb\")\n",
    "mystring = \"Python is a great language.\\nYeah its great!!\\n\"\n",
    "b = bytes(mystring, 'utf-8')\n",
    "fo.write(b)\n",
    "\n",
    "# Close opend file\n",
    "fo.close()"
   ]
  },
  {
   "cell_type": "markdown",
   "metadata": {},
   "source": [
    "<p>The above method would create <i>foo.txt</i> file and would write given content in that file and finally it would close that file. If you would open this file, it would have following content.</p>\n",
    "<pre class=\"result notranslate\">Python is a great language.\n",
    "Yeah its great!!\n",
    "</pre>\n",
    "<h2>The <i>read()</i> Method</h2>\n",
    "<p>The <i>read()</i> method reads a string from an open file. It is important to note that Python strings can have binary data. apart from text data.</p>\n",
    "<h3>Syntax</h3>\n",
    "<pre class=\"result notranslate\">fileObject.read([count])\n",
    "</pre>\n",
    "<p>Here, passed parameter is the number of bytes to be read from the opened file. This method starts reading from the beginning of the file and if <i>count</i> is missing, then it tries to read as much as possible, maybe until the end of file.</p>\n",
    "<h3>Example</h3>\n",
    "<p> Let's take a file <i>foo.txt</i>, which we created above.</p>"
   ]
  },
  {
   "cell_type": "code",
   "execution_count": null,
   "metadata": {},
   "outputs": [],
   "source": [
    "#!/usr/bin/python\n",
    "\n",
    "# Open a file\n",
    "fo = open(\"foo.txt\", \"r+\")\n",
    "str = fo.read(10);\n",
    "print(\"Read String is : \", str)\n",
    "# Close opend file\n",
    "fo.close()"
   ]
  },
  {
   "cell_type": "markdown",
   "metadata": {},
   "source": [
    "<p>This produces the following result −</p>\n",
    "<pre class=\"result notranslate\">Read String is :  Python is\n",
    "</pre>\n",
    "<h2>File Positions</h2>\n",
    "<p>The <i>tell()</i> method tells you the current position within the file; in other words, the next read or write will occur at that many bytes from the beginning of the file.</p>\n",
    "<p>The <i>seek(offset[, from])</i> method changes the current file position. The <i>offset</i> argument indicates the number of bytes to be moved. The <i>from</i> argument specifies the reference position from where the bytes are to be moved.</p>\n",
    "<p>If <i>from</i> is set to 0, it means use the beginning of the file as the reference position and 1 means use the current position as the reference position and if it is set to 2 then the end of the file would be taken as the reference position.</p>\n",
    "<h3>Example</h3>\n",
    "<p> Let us take a file <i>foo.txt</i>, which we created above.</p>"
   ]
  },
  {
   "cell_type": "code",
   "execution_count": null,
   "metadata": {},
   "outputs": [],
   "source": [
    "#!/usr/bin/python\n",
    "\n",
    "# Open a file\n",
    "fo = open(\"foo.txt\", \"r+\")\n",
    "str = fo.read(10)\n",
    "print(\"Read String is : \", str)\n",
    "\n",
    "# Check current position\n",
    "position = fo.tell()\n",
    "print(\"Current file position : \", position)\n",
    "\n",
    "# Reposition pointer at the beginning once again\n",
    "position = fo.seek(0, 0);\n",
    "str = fo.read(10)\n",
    "print(\"Again read String is : \", str)\n",
    "# Close opend file\n",
    "fo.close()"
   ]
  },
  {
   "cell_type": "markdown",
   "metadata": {},
   "source": [
    "<p>This produces the following result −</p>\n",
    "<pre class=\"result notranslate\">Read String is :  Python is\n",
    "Current file position :  10\n",
    "Again read String is :  Python is\n",
    "</pre>\n",
    "<h2>Renaming and Deleting Files</h2>\n",
    "<p>Python <b>os</b> module provides methods that help you perform file-processing operations, such as renaming and deleting files.</p>\n",
    "<p>To use this module you need to import it first and then you can call any related functions.</p>\n",
    "<h2>The rename() Method</h2>\n",
    "<p>The <i>rename()</i> method takes two arguments, the current filename and the new filename.</p>\n",
    "<h3>Syntax</h3>\n",
    "<pre class=\"result notranslate\">os.rename(current_file_name, new_file_name)\n",
    "</pre>\n",
    "<h3>Example</h3>\n",
    "<p>Following is the example to rename an existing file <i>test1.txt</i> −</p>"
   ]
  },
  {
   "cell_type": "code",
   "execution_count": null,
   "metadata": {},
   "outputs": [],
   "source": [
    "#!/usr/bin/python\n",
    "import os\n",
    "\n",
    "# Rename a file from test1.txt to test2.txt\n",
    "os.rename( \"test1.txt\", \"test2.txt\" )"
   ]
  },
  {
   "cell_type": "markdown",
   "metadata": {},
   "source": [
    "<h2>The <i>remove()</i> Method</h2>\n",
    "<p>You can use the <i>remove()</i> method to delete files by supplying the name of the file to be deleted as the argument.</p>\n",
    "<h3>Syntax</h3>\n",
    "<pre class=\"result notranslate\">os.remove(file_name)\n",
    "</pre>\n",
    "<h3>Example</h3>\n",
    "<p>Following is the example to delete an existing file <i>test2.txt</i> −</p>"
   ]
  },
  {
   "cell_type": "code",
   "execution_count": null,
   "metadata": {},
   "outputs": [],
   "source": [
    "#!/usr/bin/python\n",
    "import os\n",
    "\n",
    "# Delete file test2.txt\n",
    "os.remove(\"text2.txt\")"
   ]
  },
  {
   "cell_type": "markdown",
   "metadata": {},
   "source": [
    "<h2>Directories in Python</h2>\n",
    "<p>All files are contained within various directories, and Python has no problem handling these too. The <b>os</b> module has several methods that help you create, remove, and change directories.</p>\n",
    "<h2>The <i>mkdir()</i> Method</h2>\n",
    "<p>You can use the <i>mkdir()</i> method of the <b>os</b> module to create directories in the current directory. You need to supply an argument to this method which contains the name of the directory to be created.</p>\n",
    "<h3>Syntax</h3>\n",
    "<pre class=\"result notranslate\">os.mkdir(\"newdir\")\n",
    "</pre>\n",
    "<h3>Example</h3>\n",
    "<p>Following is the example to create a directory <i>test</i> in the current directory −</p>"
   ]
  },
  {
   "cell_type": "code",
   "execution_count": null,
   "metadata": {},
   "outputs": [],
   "source": [
    "#!/usr/bin/python\n",
    "import os\n",
    "\n",
    "# Create a directory \"test\"\n",
    "os.mkdir(\"test\")"
   ]
  },
  {
   "cell_type": "markdown",
   "metadata": {},
   "source": [
    "<h2>The <i>chdir()</i> Method</h2>\n",
    "<p>You can use the <i>chdir()</i> method to change the current directory. The chdir() method takes an argument, which is the name of the directory that you want to make the current directory.</p>\n",
    "<h3>Syntax</h3>\n",
    "<pre class=\"result notranslate\">os.chdir(\"newdir\")\n",
    "</pre>\n",
    "<h3>Example</h3>\n",
    "<p>Following is the example to go into \"/home/newdir\" directory −</p>"
   ]
  },
  {
   "cell_type": "code",
   "execution_count": null,
   "metadata": {},
   "outputs": [],
   "source": [
    "#!/usr/bin/python\n",
    "import os\n",
    "\n",
    "# Changing a directory to \"/home/newdir\"\n",
    "os.chdir(\"newdir\")"
   ]
  },
  {
   "cell_type": "markdown",
   "metadata": {},
   "source": [
    "<h2>The <i>getcwd()</i> Method</h2>\n",
    "<p>The <i>getcwd()</i> method displays the current working directory.</p>\n",
    "<h3>Syntax</h3>\n",
    "<pre class=\"result notranslate\">os.getcwd()\n",
    "</pre>\n",
    "<h3>Example</h3>\n",
    "<p>Following is the example to give current directory −</p>"
   ]
  },
  {
   "cell_type": "code",
   "execution_count": null,
   "metadata": {},
   "outputs": [],
   "source": [
    "#!/usr/bin/python\n",
    "import os\n",
    "\n",
    "# This would give location of the current directory\n",
    "os.getcwd()"
   ]
  },
  {
   "cell_type": "markdown",
   "metadata": {},
   "source": [
    "<h2>The <i>rmdir()</i> Method</h2>\n",
    "<p>The <i>rmdir()</i> method deletes the directory, which is passed as an argument in the method.</p>\n",
    "<p>Before removing a directory, all the contents in it should be removed.</p>\n",
    "<h3>Syntax</h3>\n",
    "<pre class=\"result notranslate\">os.rmdir('dirname')\n",
    "</pre>\n",
    "<h3>Example</h3>\n",
    "<p>Following is the example to remove \"/tmp/test\" directory. It is required to give fully qualified name of the directory, otherwise it would search for that directory in the current directory.</p>"
   ]
  },
  {
   "cell_type": "code",
   "execution_count": null,
   "metadata": {},
   "outputs": [],
   "source": [
    "#!/usr/bin/python\n",
    "import os\n",
    "\n",
    "# This would  remove \"/tmp/test\"  directory.\n",
    "os.rmdir( \"/tmp/test\"  )"
   ]
  },
  {
   "cell_type": "markdown",
   "metadata": {},
   "source": [
    "<h2>File &amp; Directory Related Methods</h2>\n",
    "<p>There are three important sources, which provide a wide range of utility methods to handle and manipulate files &amp; directories on Windows and Unix operating systems. They are as follows −</p>\n",
    "<ul class=\"list\">\n",
    "<li><p><a href=\"/python/file_methods.htm\">File Object Methods</a>: The <i>file</i> object provides functions to manipulate files.</p></li>\n",
    "<li><p><a href=\"/python/os_file_methods.htm\">OS Object Methods</a>: This provides methods to process files as well as directories. </p>"
   ]
  },
  {
   "cell_type": "code",
   "execution_count": null,
   "metadata": {},
   "outputs": [],
   "source": []
  }
 ],
 "metadata": {
  "kernelspec": {
   "display_name": "Python 3",
   "language": "python",
   "name": "python3"
  },
  "language_info": {
   "codemirror_mode": {
    "name": "ipython",
    "version": 3
   },
   "file_extension": ".py",
   "mimetype": "text/x-python",
   "name": "python",
   "nbconvert_exporter": "python",
   "pygments_lexer": "ipython3",
   "version": "3.8.3"
  }
 },
 "nbformat": 4,
 "nbformat_minor": 4
}
