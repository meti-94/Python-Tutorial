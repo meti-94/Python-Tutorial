{
 "cells": [
  {
   "cell_type": "markdown",
   "metadata": {},
   "source": [
    "# Files I/O"
   ]
  },
  {
   "cell_type": "markdown",
   "metadata": {},
   "source": [
    "<p>This chapter covers all the basic I/O functions available in Python. For more functions, please refer to standard Python documentation.</p>\n",
    "<h2>Printing to the Screen</h2>\n",
    "<p>The simplest way to produce output is using the <i>print</i> statement where you can pass zero or more expressions separated by commas. This function converts the expressions you pass into a string and writes the result to standard output as follows −</p>"
   ]
  },
  {
   "cell_type": "code",
   "execution_count": null,
   "metadata": {},
   "outputs": [],
   "source": [
    "#!/usr/bin/python\n",
    "\n",
    "print(\"Python is really a great language,\", \"isn't it?\")"
   ]
  },
  {
   "cell_type": "markdown",
   "metadata": {},
   "source": [
    "<p>This produces the following result on your standard screen −</p>\n",
    "<pre class=\"result notranslate\">Python is really a great language, isn't it?\n",
    "</pre>\n",
    "<h2>Reading Keyboard Input</h2>\n",
    "<p>Python provides two built-in functions to read a line of text from standard input, which by default comes from the keyboard. These functions are −</p>\n",
    "<ul class=\"list\">\n",
    "<li>raw_input (deprecated in python>3.5)</li>\n",
    "<li>input</li>\n",
    "</ul>\n",
    "<h2>The <i>input</i> Function</h2>\n",
    "<p>The <i>input([prompt])</i> function is equivalent to raw_input, except that it doesn't evaluate the result.</p>"
   ]
  },
  {
   "cell_type": "code",
   "execution_count": null,
   "metadata": {},
   "outputs": [],
   "source": [
    "#!/usr/bin/python\n",
    "\n",
    "str = input(\"Enter your input: \")\n",
    "print(\"Received input is : \", eval(str))\n"
   ]
  },
  {
   "cell_type": "markdown",
   "metadata": {},
   "source": [
    "<p>This would produce the following result against the entered input −</p>\n",
    "<pre class=\"result notranslate\">Enter your input: [x*5 for x in range(2,10,2)]\n",
    "Recieved input is :  [10, 20, 30, 40]"
   ]
  },
  {
   "cell_type": "markdown",
   "metadata": {},
   "source": [
    "<h2>Opening and Closing Files</h2>\n",
    "<p>Until now, you have been reading and writing to the standard input and output. Now, we will see how to use actual data files.</p>\n",
    "<p>Python provides basic functions and methods necessary to manipulate files by default. You can do most of the file manipulation using a <b>file</b> object.</p>\n",
    "<h2>The <i>open</i> Function</h2>\n",
    "<p>Before you can read or write a file, you have to open it using Python's built-in <i>open()</i> function. This function creates a <b>file</b> object, which would be utilized to call other support methods associated with it.</p>\n",
    "<h3>Syntax</h3>\n",
    "<pre class=\"result notranslate\">file object = open(file_name [, access_mode][, buffering])\n",
    "</pre>\n",
    "<p>Here are parameter details −</p>\n",
    "<ul class=\"list\">\n",
    "<li><p><b>file_name</b> − The file_name argument is a string value that contains the name of the file that you want to access.</p></li>\n",
    "<li><p><b>access_mode</b> − The access_mode determines the mode in which the file has to be opened, i.e., read, write, append, etc. A complete list of possible values is given below in the table. This is optional parameter and the default file access mode is read (r).</p></li>\n",
    "<li><p><b>buffering</b> − If the buffering value is set to 0, no buffering  takes place. If the buffering value is 1, line buffering is performed while accessing a file. If you specify the buffering value as an integer greater than 1, then buffering action is performed with the indicated buffer size. If negative, the buffer size is the system default(default behavior).</p></li>\n",
    "</ul>\n",
    "<p>Here is a list of the different modes of opening a file −</p>\n",
    "<table class=\"table table-bordered\">\n",
    "<tbody><tr>\n",
    "<th style=\"text-align:center;\">Sr.No.</th>\n",
    "<th style=\"text-align:center;\">Modes &amp; Description</th>\n",
    "</tr>\n",
    "<tr>\n",
    "<td class=\"ts\">1</td>\n",
    "<td><p><b>r</b></p>\n",
    "<p>Opens a file for reading only. The file pointer is placed at the beginning of the file. This is the default mode.</p></td>\n",
    "</tr>\n",
    "<tr>\n",
    "<td class=\"ts\">2</td>\n",
    "<td><p><b>rb</b></p>\n",
    "<p>Opens a file for reading only in binary format. The file pointer is placed at the beginning of the file. This is the default mode.</p></td>\n",
    "</tr>\n",
    "<tr>\n",
    "<td class=\"ts\">3</td>\n",
    "<td><p><b>r+</b></p>\n",
    "<p>Opens a file for both reading and writing. The file pointer placed at the beginning of the file.</p></td>\n",
    "</tr>\n",
    "<tr>\n",
    "<td class=\"ts\">4</td>\n",
    "<td><p><b>rb+</b></p>\n",
    "<p>Opens a file for both reading and writing in binary format. The file pointer placed at the beginning of the file.</p></td>\n",
    "</tr>\n",
    "<tr>\n",
    "<td class=\"ts\">5</td>\n",
    "<td><p><b>w</b></p>\n",
    "<p>Opens a file for writing only. Overwrites the file if the file exists. If the file does not exist, creates a new file for writing.</p></td>\n",
    "</tr>\n",
    "<tr>\n",
    "<td class=\"ts\">6</td>\n",
    "<td><p><b>wb</b></p>\n",
    "<p>Opens a file for writing only in binary format. Overwrites the file if the file exists. If the file does not exist, creates a new file for writing.</p></td>\n",
    "</tr>\n",
    "<tr>\n",
    "<td class=\"ts\">7</td>\n",
    "<td><p><b>w+</b></p>\n",
    "<p>Opens a file for both writing and reading. Overwrites the existing file if the file exists. If the file does not exist, creates a new file for reading and writing.</p></td>\n",
    "</tr> \n",
    "<tr>\n",
    "<td class=\"ts\">8</td>\n",
    "<td><p><b>wb+</b></p>\n",
    "<p>Opens a file for both writing and reading in binary format. Overwrites the existing file if the file exists. If the file does not exist, creates a new file for reading and writing.</p></td>\n",
    "</tr>\n",
    "<tr>\n",
    "<td class=\"ts\">9</td>\n",
    "<td><p><b>a</b></p>\n",
    "<p>Opens a file for appending. The file pointer is at the end of the file if the file exists. That is, the file is in the append mode. If the file does not exist, it creates a new file for writing.</p></td>\n",
    "</tr> \n",
    "<tr>\n",
    "<td class=\"ts\">10</td>\n",
    "<td><p><b>ab</b></p>\n",
    "<p>Opens a file for appending in binary format. The file pointer is at the end of the file if the file exists. That is, the file is in the append mode. If the file does not exist, it creates a new file for writing.</p></td>\n",
    "</tr> \n",
    "<tr>\n",
    "<td class=\"ts\">11</td>\n",
    "<td><p><b>a+</b></p>\n",
    "<p>Opens a file for both appending and reading. The file pointer is at the end of the file if the file exists. The file opens in the append mode. If the file does not exist, it creates a new file for reading and writing.</p></td>\n",
    "</tr> \n",
    "<tr>\n",
    "<td class=\"ts\">12</td>\n",
    "<td><p><b>ab+</b></p>\n",
    "<p>Opens a file for both appending and reading in binary format. The file pointer is at the end of the file if the file exists. The file opens in the append mode. If the file does not exist, it creates a new file for reading and writing.</p></td>\n",
    "</tr>\n",
    "</tbody></table>\n",
    "<h2>The <i>file</i> Object Attributes</h2>\n",
    "<p>Once a file is opened and you have one <i>file</i> object, you can get various information related to that file.</p>\n",
    "<p>Here is a list of all attributes related to file object −</p>\n",
    "<table class=\"table table-bordered\">\n",
    "<tbody><tr>\n",
    "<th style=\"text-align:center;\">Sr.No.</th>\n",
    "<th style=\"text-align:center;\">Attribute &amp; Description</th>\n",
    "</tr>\n",
    "<tr>\n",
    "<td class=\"ts\">1</td>\n",
    "<td><p><b>file.closed</b></p>\n",
    "<p>Returns true if file is closed, false otherwise.</p></td>\n",
    "</tr>\n",
    "<tr>\n",
    "<td class=\"ts\">2</td>\n",
    "<td><p><b>file.mode</b></p>\n",
    "<p>Returns access mode with which file was opened.</p></td>\n",
    "</tr>\n",
    "<tr>\n",
    "<td class=\"ts\">3</td>\n",
    "<td><p><b>file.name</b></p>\n",
    "<p>Returns name of the file.</p></td>\n",
    "</tr>\n",
    "<tr>\n",
    "<td class=\"ts\">4</td>\n",
    "<td><p><b>file.softspace</b></p>\n",
    "<p>Returns false if space explicitly required with print, true otherwise.</p></td>\n",
    "</tr>\n",
    "</tbody></table>\n",
    "<h3>Example</h3>"
   ]
  },
  {
   "cell_type": "code",
   "execution_count": null,
   "metadata": {},
   "outputs": [],
   "source": [
    "#!/usr/bin/python\n",
    "\n",
    "# Open a file\n",
    "fo = open(\"foo.txt\", \"wb\")\n",
    "print(\"Name of the file: \", fo.name)\n",
    "print(\"Closed or not : \", fo.closed)\n",
    "print(\"Opening mode : \", fo.mode)"
   ]
  },
  {
   "cell_type": "markdown",
   "metadata": {},
   "source": [
    "<p>This produces the following result −</p>\n",
    "<pre class=\"result notranslate\">Name of the file:  foo.txt\n",
    "Closed or not :  False\n",
    "Opening mode :  wb\n",
    "Softspace flag :  0\n",
    "</pre>\n",
    "<h2>The <i>close()</i> Method</h2>\n",
    "<p>The close() method of a <i>file</i> object flushes any unwritten information and closes the file object, after which no more writing can be done.</p>\n",
    "<p>Python automatically closes a file when the reference object of a file is reassigned to another file. It is a good practice to use the close() method to close a file.</p>\n",
    "<h3>Syntax</h3>\n",
    "<pre class=\"result notranslate\">fileObject.close()\n",
    "</pre>\n",
    "<h3>Example</h3>"
   ]
  },
  {
   "cell_type": "code",
   "execution_count": null,
   "metadata": {},
   "outputs": [],
   "source": [
    "#!/usr/bin/python\n",
    "\n",
    "# Open a file\n",
    "fo = open(\"foo.txt\", \"wb\")\n",
    "print(\"Name of the file: \", fo.name)\n",
    "\n",
    "# Close opend file\n",
    "fo.close()"
   ]
  },
  {
   "cell_type": "markdown",
   "metadata": {},
   "source": [
    "<p>This produces the following result −</p>\n",
    "<pre class=\"result notranslate\">Name of the file:  foo.txt\n",
    "</pre>\n",
    "<h2>Reading and Writing Files</h2>\n",
    "<p>The <i>file</i> object provides a set of access methods to make our lives easier. We would see how to use <i>read()</i> and <i>write()</i> methods to read and write files.</p>\n",
    "<h2>The <i>write()</i> Method</h2>\n",
    "<p>The <i>write()</i> method writes any string to an open file. It is important to note that Python strings can have binary data and not just text.</p>\n",
    "<p>The write() method does not add a newline character ('\\n') to the end of the string −</p>\n",
    "<h3>Syntax</h3>\n",
    "<pre class=\"result notranslate\">fileObject.write(string)\n",
    "</pre>\n",
    "<p>Here, passed parameter is the content to be written into the opened file.</p>\n",
    "<h3>Example</h3>"
   ]
  },
  {
   "cell_type": "code",
   "execution_count": null,
   "metadata": {},
   "outputs": [],
   "source": [
    "#!/usr/bin/python\n",
    "\n",
    "# Open a file\n",
    "fo = open(\"foo.txt\", \"wb\")\n",
    "mystring = \"Python is a great language.\\nYeah its great!!\\n\"\n",
    "b = bytes(mystring, 'utf-8')\n",
    "fo.write(b)\n",
    "\n",
    "# Close opend file\n",
    "fo.close()"
   ]
  },
  {
   "cell_type": "markdown",
   "metadata": {},
   "source": [
    "<p>The above method would create <i>foo.txt</i> file and would write given content in that file and finally it would close that file. If you would open this file, it would have following content.</p>\n",
    "<pre class=\"result notranslate\">Python is a great language.\n",
    "Yeah its great!!\n",
    "</pre>\n",
    "<h2>The <i>read()</i> Method</h2>\n",
    "<p>The <i>read()</i> method reads a string from an open file. It is important to note that Python strings can have binary data. apart from text data.</p>\n",
    "<h3>Syntax</h3>\n",
    "<pre class=\"result notranslate\">fileObject.read([count])\n",
    "</pre>\n",
    "<p>Here, passed parameter is the number of bytes to be read from the opened file. This method starts reading from the beginning of the file and if <i>count</i> is missing, then it tries to read as much as possible, maybe until the end of file.</p>\n",
    "<h3>Example</h3>\n",
    "<p> Let's take a file <i>foo.txt</i>, which we created above.</p>"
   ]
  },
  {
   "cell_type": "code",
   "execution_count": null,
   "metadata": {},
   "outputs": [],
   "source": [
    "#!/usr/bin/python\n",
    "\n",
    "# Open a file\n",
    "fo = open(\"foo.txt\", \"r+\")\n",
    "str = fo.read(10);\n",
    "print(\"Read String is : \", str)\n",
    "# Close opend file\n",
    "fo.close()"
   ]
  },
  {
   "cell_type": "markdown",
   "metadata": {},
   "source": [
    "<p>This produces the following result −</p>\n",
    "<pre class=\"result notranslate\">Read String is :  Python is\n",
    "</pre>\n",
    "<h2>File Positions</h2>\n",
    "<p>The <i>tell()</i> method tells you the current position within the file; in other words, the next read or write will occur at that many bytes from the beginning of the file.</p>\n",
    "<p>The <i>seek(offset[, from])</i> method changes the current file position. The <i>offset</i> argument indicates the number of bytes to be moved. The <i>from</i> argument specifies the reference position from where the bytes are to be moved.</p>\n",
    "<p>If <i>from</i> is set to 0, it means use the beginning of the file as the reference position and 1 means use the current position as the reference position and if it is set to 2 then the end of the file would be taken as the reference position.</p>\n",
    "<h3>Example</h3>\n",
    "<p> Let us take a file <i>foo.txt</i>, which we created above.</p>"
   ]
  },
  {
   "cell_type": "code",
   "execution_count": null,
   "metadata": {},
   "outputs": [],
   "source": [
    "#!/usr/bin/python\n",
    "\n",
    "# Open a file\n",
    "fo = open(\"foo.txt\", \"r+\")\n",
    "str = fo.read(10)\n",
    "print(\"Read String is : \", str)\n",
    "\n",
    "# Check current position\n",
    "position = fo.tell()\n",
    "print(\"Current file position : \", position)\n",
    "\n",
    "# Reposition pointer at the beginning once again\n",
    "position = fo.seek(0, 0);\n",
    "str = fo.read(10)\n",
    "print(\"Again read String is : \", str)\n",
    "# Close opend file\n",
    "fo.close()"
   ]
  },
  {
   "cell_type": "markdown",
   "metadata": {},
   "source": [
    "<p>This produces the following result −</p>\n",
    "<pre class=\"result notranslate\">Read String is :  Python is\n",
    "Current file position :  10\n",
    "Again read String is :  Python is\n",
    "</pre>\n",
    "<h2>Renaming and Deleting Files</h2>\n",
    "<p>Python <b>os</b> module provides methods that help you perform file-processing operations, such as renaming and deleting files.</p>\n",
    "<p>To use this module you need to import it first and then you can call any related functions.</p>\n",
    "<h2>The rename() Method</h2>\n",
    "<p>The <i>rename()</i> method takes two arguments, the current filename and the new filename.</p>\n",
    "<h3>Syntax</h3>\n",
    "<pre class=\"result notranslate\">os.rename(current_file_name, new_file_name)\n",
    "</pre>\n",
    "<h3>Example</h3>\n",
    "<p>Following is the example to rename an existing file <i>test1.txt</i> −</p>"
   ]
  },
  {
   "cell_type": "code",
   "execution_count": null,
   "metadata": {},
   "outputs": [],
   "source": [
    "#!/usr/bin/python\n",
    "import os\n",
    "\n",
    "# Rename a file from test1.txt to test2.txt\n",
    "os.rename( \"test1.txt\", \"test2.txt\" )"
   ]
  },
  {
   "cell_type": "markdown",
   "metadata": {},
   "source": [
    "<h2>The <i>remove()</i> Method</h2>\n",
    "<p>You can use the <i>remove()</i> method to delete files by supplying the name of the file to be deleted as the argument.</p>\n",
    "<h3>Syntax</h3>\n",
    "<pre class=\"result notranslate\">os.remove(file_name)\n",
    "</pre>\n",
    "<h3>Example</h3>\n",
    "<p>Following is the example to delete an existing file <i>test2.txt</i> −</p>"
   ]
  },
  {
   "cell_type": "code",
   "execution_count": null,
   "metadata": {},
   "outputs": [],
   "source": [
    "#!/usr/bin/python\n",
    "import os\n",
    "\n",
    "# Delete file test2.txt\n",
    "os.remove(\"text2.txt\")"
   ]
  },
  {
   "cell_type": "markdown",
   "metadata": {},
   "source": [
    "<h2>Directories in Python</h2>\n",
    "<p>All files are contained within various directories, and Python has no problem handling these too. The <b>os</b> module has several methods that help you create, remove, and change directories.</p>\n",
    "<h2>The <i>mkdir()</i> Method</h2>\n",
    "<p>You can use the <i>mkdir()</i> method of the <b>os</b> module to create directories in the current directory. You need to supply an argument to this method which contains the name of the directory to be created.</p>\n",
    "<h3>Syntax</h3>\n",
    "<pre class=\"result notranslate\">os.mkdir(\"newdir\")\n",
    "</pre>\n",
    "<h3>Example</h3>\n",
    "<p>Following is the example to create a directory <i>test</i> in the current directory −</p>"
   ]
  },
  {
   "cell_type": "code",
   "execution_count": null,
   "metadata": {},
   "outputs": [],
   "source": [
    "#!/usr/bin/python\n",
    "import os\n",
    "\n",
    "# Create a directory \"test\"\n",
    "os.mkdir(\"test\")"
   ]
  },
  {
   "cell_type": "markdown",
   "metadata": {},
   "source": [
    "<h2>The <i>chdir()</i> Method</h2>\n",
    "<p>You can use the <i>chdir()</i> method to change the current directory. The chdir() method takes an argument, which is the name of the directory that you want to make the current directory.</p>\n",
    "<h3>Syntax</h3>\n",
    "<pre class=\"result notranslate\">os.chdir(\"newdir\")\n",
    "</pre>\n",
    "<h3>Example</h3>\n",
    "<p>Following is the example to go into \"/home/newdir\" directory −</p>"
   ]
  },
  {
   "cell_type": "code",
   "execution_count": null,
   "metadata": {},
   "outputs": [],
   "source": [
    "#!/usr/bin/python\n",
    "import os\n",
    "\n",
    "# Changing a directory to \"/home/newdir\"\n",
    "os.chdir(\"newdir\")"
   ]
  },
  {
   "cell_type": "markdown",
   "metadata": {},
   "source": [
    "<h2>The <i>getcwd()</i> Method</h2>\n",
    "<p>The <i>getcwd()</i> method displays the current working directory.</p>\n",
    "<h3>Syntax</h3>\n",
    "<pre class=\"result notranslate\">os.getcwd()\n",
    "</pre>\n",
    "<h3>Example</h3>\n",
    "<p>Following is the example to give current directory −</p>"
   ]
  },
  {
   "cell_type": "code",
   "execution_count": null,
   "metadata": {},
   "outputs": [],
   "source": [
    "#!/usr/bin/python\n",
    "import os\n",
    "\n",
    "# This would give location of the current directory\n",
    "os.getcwd()"
   ]
  },
  {
   "cell_type": "markdown",
   "metadata": {},
   "source": [
    "<h2>The <i>rmdir()</i> Method</h2>\n",
    "<p>The <i>rmdir()</i> method deletes the directory, which is passed as an argument in the method.</p>\n",
    "<p>Before removing a directory, all the contents in it should be removed.</p>\n",
    "<h3>Syntax</h3>\n",
    "<pre class=\"result notranslate\">os.rmdir('dirname')\n",
    "</pre>\n",
    "<h3>Example</h3>\n",
    "<p>Following is the example to remove \"/tmp/test\" directory. It is required to give fully qualified name of the directory, otherwise it would search for that directory in the current directory.</p>"
   ]
  },
  {
   "cell_type": "code",
   "execution_count": null,
   "metadata": {},
   "outputs": [],
   "source": [
    "#!/usr/bin/python\n",
    "import os\n",
    "\n",
    "# This would  remove \"/tmp/test\"  directory.\n",
    "os.rmdir( \"/tmp/test\"  )"
   ]
  },
  {
   "cell_type": "markdown",
   "metadata": {},
   "source": [
    "<h2>File &amp; Directory Related Methods</h2>\n",
    "<p>There are three important sources, which provide a wide range of utility methods to handle and manipulate files &amp; directories on Windows and Unix operating systems. They are as follows −</p>\n",
    "<ul class=\"list\">\n",
    "<li><p><a href=\"/python/file_methods.htm\">File Object Methods</a>: The <i>file</i> object provides functions to manipulate files.</p></li>\n",
    "<li><p><a href=\"/python/os_file_methods.htm\">OS Object Methods</a>: This provides methods to process files as well as directories. </p>"
   ]
  },
  {
   "cell_type": "code",
   "execution_count": null,
   "metadata": {},
   "outputs": [],
   "source": []
  }
 ],
 "metadata": {
  "kernelspec": {
   "display_name": "Python 3",
   "language": "python",
   "name": "python3"
  },
  "language_info": {
   "codemirror_mode": {
    "name": "ipython",
    "version": 3
   },
   "file_extension": ".py",
   "mimetype": "text/x-python",
   "name": "python",
   "nbconvert_exporter": "python",
   "pygments_lexer": "ipython3",
   "version": "3.8.5"
  }
 },
 "nbformat": 4,
 "nbformat_minor": 4
}
