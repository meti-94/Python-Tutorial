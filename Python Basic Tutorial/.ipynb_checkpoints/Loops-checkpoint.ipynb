{
 "cells": [
  {
   "cell_type": "markdown",
   "metadata": {},
   "source": [
    "# 4. Loops"
   ]
  },
  {
   "cell_type": "markdown",
   "metadata": {},
   "source": [
    "<h2>while</h2>\n",
    "<p>A <b>while</b> loop statement in Python programming language repeatedly executes a target statement as long as a given condition is true.</p>\n",
    "<h3>Syntax</h3>\n",
    "<p>The syntax of a <b>while</b> loop in Python programming language is −</p>\n",
    "<pre class=\"result notranslate\">while expression:\n",
    "   statement(s)\n",
    "</pre>\n",
    "<p>Here, <b>statement(s)</b> may be a single statement or a block of statements. The <b>condition</b> may be any expression, and true is any non-zero value. The loop iterates while the condition is true.</p>\n",
    "<p>When the condition becomes false, program control passes to the line immediately following the loop.</p>\n",
    "<p>In Python, all the statements indented by the same number of character spaces after a programming construct are considered to be part of a single block of code. Python uses indentation as its method of grouping statements.</p>\n",
    "<h3>Flow Diagram</h3>\n",
    "<img src=\"/python/images/python_while_loop.jpg\" alt=\"while loop in Python\">\n",
    "<p>Here, key point of the while loop is that the loop might not ever run. When the condition is tested and the result is false, the loop body will be skipped and the first statement after the while loop will be executed.</p>\n",
    "<h3>Example</h3>"
   ]
  },
  {
   "cell_type": "code",
   "execution_count": null,
   "metadata": {},
   "outputs": [],
   "source": [
    "#!/usr/bin/python\n",
    "\n",
    "count = 0\n",
    "while (count < 9):\n",
    "    print('The count is:', count)\n",
    "    count = count + 1\n",
    "\n",
    "print(\"Good bye!\")"
   ]
  },
  {
   "cell_type": "markdown",
   "metadata": {},
   "source": [
    "<p>When the above code is executed, it produces the following result −</p>\n",
    "<pre class=\"result notranslate\">The count is: 0\n",
    "The count is: 1\n",
    "The count is: 2\n",
    "The count is: 3\n",
    "The count is: 4\n",
    "The count is: 5\n",
    "The count is: 6\n",
    "The count is: 7\n",
    "The count is: 8\n",
    "Good bye!\n",
    "</pre>\n",
    "<p>The block here, consisting of the print and increment statements, is executed repeatedly until count is no longer less than 9. With each iteration, the current value of the index count is displayed and then increased by 1.</p>\n",
    "<h2>The Infinite Loop</h2>\n",
    "<p>A loop becomes infinite loop if a condition never becomes FALSE. You must use caution when using while loops because of the possibility that this condition never resolves to a FALSE value. This results in a loop that never ends. Such a loop is called an infinite loop.</p>\n",
    "<p>An infinite loop might be useful in client/server programming where the server needs to run continuously so that client programs can communicate with it as and when required.</p>"
   ]
  },
  {
   "cell_type": "code",
   "execution_count": null,
   "metadata": {},
   "outputs": [],
   "source": [
    "#!/usr/bin/python\n",
    "\n",
    "var = 1\n",
    "while var == 1 :  # This constructs an infinite loop\n",
    "    num = input(\"Enter a number  :\")\n",
    "    print(\"You entered: \", num)\n",
    "\n",
    "print(\"Good bye!\")"
   ]
  },
  {
   "cell_type": "markdown",
   "metadata": {},
   "source": [
    "<p>When the above code is executed, it produces the following result −</p>\n",
    "<pre class=\"result notranslate\">Enter a number  :20\n",
    "You entered:  20\n",
    "Enter a number  :29\n",
    "You entered:  29\n",
    "Enter a number  :3\n",
    "You entered:  3\n",
    "Enter a number between :Traceback (most recent call last):\n",
    "   File \"test.py\", line 5, in &lt;module&gt;\n",
    "      num = raw_input(\"Enter a number :\")\n",
    "KeyboardInterrupt\n",
    "</pre>\n",
    "<p>Above example goes in an infinite loop and you need to use CTRL+C to exit the program.</p>\n",
    "<h2>Using else Statement with While Loop</h2>\n",
    "<p>Python supports to have an <b>else</b> statement associated with a loop statement.</p>\n",
    "<ul class=\"list\">\n",
    "<li><p>If the <b>else</b> statement is used with a <b>while</b> loop, the <b>else</b> statement is executed when the condition becomes false.</p></li>\n",
    "</ul>\n",
    "<p>The following example illustrates the combination of an else statement with a while statement that prints a number as long as it is less than 5, otherwise else statement gets executed.</p>"
   ]
  },
  {
   "cell_type": "code",
   "execution_count": null,
   "metadata": {},
   "outputs": [],
   "source": [
    "#!/usr/bin/python\n",
    "\n",
    "count = 0\n",
    "while count < 5:\n",
    "    print(count, \" is  less than 5\")\n",
    "    count = count + 1\n",
    "else:\n",
    "    print(count, \" is not less than 5\")"
   ]
  },
  {
   "cell_type": "markdown",
   "metadata": {},
   "source": [
    "<p>When the above code is executed, it produces the following result −</p>\n",
    "<pre class=\"result notranslate\">0 is less than 5\n",
    "1 is less than 5\n",
    "2 is less than 5\n",
    "3 is less than 5\n",
    "4 is less than 5\n",
    "5 is not less than 5\n",
    "</pre>\n",
    "<h2>Single Statement Suites</h2>\n",
    "<p>Similar to the <b>if</b> statement syntax, if your <b>while</b> clause consists only of a single statement, it may be placed on the same line as the while header.</p>\n",
    "<p>Here is the syntax and example of a <b>one-line while</b> clause −</p>"
   ]
  },
  {
   "cell_type": "code",
   "execution_count": null,
   "metadata": {},
   "outputs": [],
   "source": [
    "#!/usr/bin/python\n",
    "\n",
    "flag = 1\n",
    "while (flag): print('Given flag is really true!')\n",
    "print(\"Good bye!\")"
   ]
  },
  {
   "cell_type": "markdown",
   "metadata": {},
   "source": [
    "<p>It is better not try above example because it goes into infinite loop and you need to press CTRL+C keys to exit.</p>"
   ]
  },
  {
   "cell_type": "markdown",
   "metadata": {},
   "source": [
    "<h2>For</h2>\n",
    "<p>It has the ability to iterate over the items of any sequence, such as a list or a string.</p>\n",
    "<h3>Syntax</h3>\n",
    "<pre class=\"result notranslate\">for iterating_var in sequence:\n",
    "   statements(s)\n",
    "</pre>\n",
    "<p>If a sequence contains an expression list, it is evaluated first. Then, the first item in the sequence is assigned to the iterating variable <i>iterating_var</i>. Next, the statements block is executed. Each item in the list is assigned to <i>iterating_var</i>, and the statement(s) block is executed until the entire sequence is exhausted.</p>\n",
    "<h3>Flow Diagram</h3>\n",
    "<img src=\"/python/images/python_for_loop.jpg\" alt=\"for loop in Python\">\n",
    "<h3>Example</h3>"
   ]
  },
  {
   "cell_type": "code",
   "execution_count": 1,
   "metadata": {},
   "outputs": [
    {
     "name": "stdout",
     "output_type": "stream",
     "text": [
      "Current Letter : P\n",
      "Current Letter : y\n",
      "Current Letter : t\n",
      "Current Letter : h\n",
      "Current Letter : o\n",
      "Current Letter : n\n",
      "Current fruit : banana\n",
      "Current fruit : apple\n",
      "Current fruit : mango\n",
      "Good bye!\n"
     ]
    }
   ],
   "source": [
    "#!/usr/bin/python\n",
    "\n",
    "for letter in 'Python':     # First Example\n",
    "    print('Current Letter :', letter)\n",
    "\n",
    "fruits = ['banana', 'apple',  'mango']\n",
    "for fruit in fruits:        # Second Example\n",
    "    print('Current fruit :', fruit)\n",
    "\n",
    "print(\"Good bye!\")"
   ]
  },
  {
   "cell_type": "markdown",
   "metadata": {},
   "source": [
    "<p>When the above code is executed, it produces the following result −</p>\n",
    "<pre class=\"result notranslate\">Current Letter : P\n",
    "Current Letter : y\n",
    "Current Letter : t\n",
    "Current Letter : h\n",
    "Current Letter : o\n",
    "Current Letter : n\n",
    "Current fruit : banana\n",
    "Current fruit : apple\n",
    "Current fruit : mango\n",
    "Good bye!\n",
    "</pre>\n",
    "<h2>Iterating by Sequence Index</h2>\n",
    "<p>An alternative way of iterating through each item is by index offset into the sequence itself. Following is a simple example −</p>"
   ]
  },
  {
   "cell_type": "code",
   "execution_count": 2,
   "metadata": {},
   "outputs": [
    {
     "name": "stdout",
     "output_type": "stream",
     "text": [
      "Current fruit : banana\n",
      "Current fruit : apple\n",
      "Current fruit : mango\n",
      "Good bye!\n"
     ]
    }
   ],
   "source": [
    "#!/usr/bin/python\n",
    "\n",
    "fruits = ['banana', 'apple',  'mango']\n",
    "for index in range(len(fruits)):\n",
    "    print('Current fruit :', fruits[index])\n",
    "\n",
    "print(\"Good bye!\")"
   ]
  },
  {
   "cell_type": "markdown",
   "metadata": {},
   "source": [
    "<p>When the above code is executed, it produces the following result −</p>\n",
    "<pre class=\"result notranslate\">Current fruit : banana\n",
    "Current fruit : apple\n",
    "Current fruit : mango\n",
    "Good bye!\n",
    "</pre>\n",
    "<p>Here, we took the assistance of the len() built-in function, which provides the total number of elements in the tuple as well as the range() built-in function to give us the actual sequence to iterate over.</p>\n"
   ]
  },
  {
   "cell_type": "markdown",
   "metadata": {},
   "source": [
    "<h2>Break</h2>\n",
    "<p>It terminates the current loop and resumes execution at the next statement, just like the traditional break statement in C.</p>\n",
    "<p>The most common use for break is when some external condition is triggered requiring a hasty exit from a loop. The <b>break</b> statement can be used in both <i>while</i> and <i>for</i> loops.</p>\n",
    "<p>If you are using nested loops, the break statement stops the execution of the innermost loop and start executing the next line of code after the block.</p>\n",
    "<h2>Syntax</h2>\n",
    "<p>The syntax for a <b>break</b> statement in Python is as follows −</p>\n",
    "<pre class=\"result notranslate\">break\n",
    "</pre>\n",
    "<h2>Flow Diagram</h2>\n",
    "<img src=\"/python/images/cpp_break_statement.jpg\" alt=\"Python break statement\">\n",
    "<h2>Example</h2>"
   ]
  },
  {
   "cell_type": "code",
   "execution_count": 5,
   "metadata": {},
   "outputs": [
    {
     "name": "stdout",
     "output_type": "stream",
     "text": [
      "Current Letter : P\n",
      "Current Letter : y\n",
      "Current Letter : t\n",
      "Current variable value : 10\n",
      "Current variable value : 9\n",
      "Current variable value : 8\n",
      "Current variable value : 7\n",
      "Current variable value : 6\n",
      "Good bye!\n"
     ]
    }
   ],
   "source": [
    "#!/usr/bin/python\n",
    "\n",
    "for letter in 'Python':     # First Example\n",
    "    if letter == 'h':\n",
    "        break\n",
    "    print('Current Letter :', letter)\n",
    "\n",
    "var = 10                    # Second Example\n",
    "while var > 0:              \n",
    "    print('Current variable value :', var)\n",
    "    var = var -1\n",
    "    if var == 5:\n",
    "        break\n",
    "\n",
    "print(\"Good bye!\")"
   ]
  },
  {
   "cell_type": "markdown",
   "metadata": {},
   "source": [
    "<p>When the above code is executed, it produces the following result −</p>\n",
    "<pre class=\"result notranslate\">Current Letter : P\n",
    "Current Letter : y\n",
    "Current Letter : t\n",
    "Current variable value : 10\n",
    "Current variable value : 9\n",
    "Current variable value : 8\n",
    "Current variable value : 7\n",
    "Current variable value : 6\n",
    "Good bye!"
   ]
  },
  {
   "cell_type": "markdown",
   "metadata": {},
   "source": [
    "## continue \n",
    "<p>It returns the control to the beginning of the while loop.. The <b>continue</b> statement rejects all the remaining statements in the current iteration of the loop and moves the control back to the top of the loop.</p>\n",
    "<p>The <b>continue</b> statement can be used in both <i>while</i> and <i>for</i> loops.</p>\n",
    "<h2>Syntax</h2>\n",
    "<pre class=\"result notranslate\">continue\n",
    "</pre>\n",
    "<h2>Flow Diagram</h2>\n",
    "<img src=\"/python/images/cpp_continue_statement.jpg\" alt=\"Python continue statement\">\n",
    "<h2>Example</h2>"
   ]
  },
  {
   "cell_type": "code",
   "execution_count": 6,
   "metadata": {},
   "outputs": [
    {
     "name": "stdout",
     "output_type": "stream",
     "text": [
      "Current Letter : P\n",
      "Current Letter : y\n",
      "Current Letter : t\n",
      "Current Letter : o\n",
      "Current Letter : n\n",
      "Current variable value : 9\n",
      "Current variable value : 8\n",
      "Current variable value : 7\n",
      "Current variable value : 6\n",
      "Current variable value : 4\n",
      "Current variable value : 3\n",
      "Current variable value : 2\n",
      "Current variable value : 1\n",
      "Current variable value : 0\n",
      "Good bye!\n"
     ]
    }
   ],
   "source": [
    "#!/usr/bin/python\n",
    "\n",
    "for letter in 'Python':     # First Example\n",
    "    if letter == 'h':\n",
    "        continue\n",
    "    print('Current Letter :', letter)\n",
    "\n",
    "var = 10                    # Second Example\n",
    "while var > 0:              \n",
    "    var = var -1\n",
    "    if var == 5:\n",
    "        continue\n",
    "    print('Current variable value :', var)\n",
    "print(\"Good bye!\")"
   ]
  },
  {
   "cell_type": "markdown",
   "metadata": {},
   "source": [
    "<p>When the above code is executed, it produces the following result −</p>\n",
    "<pre class=\"result notranslate\">Current Letter : P\n",
    "Current Letter : y\n",
    "Current Letter : t\n",
    "Current Letter : o\n",
    "Current Letter : n\n",
    "Current variable value : 9\n",
    "Current variable value : 8\n",
    "Current variable value : 7\n",
    "Current variable value : 6\n",
    "Current variable value : 4\n",
    "Current variable value : 3\n",
    "Current variable value : 2\n",
    "Current variable value : 1\n",
    "Current variable value : 0\n",
    "Good bye!"
   ]
  },
  {
   "cell_type": "markdown",
   "metadata": {},
   "source": [
    "<h2>Using else Statement with For Loop</h2>\n",
    "<p>Python supports to have an else statement associated with a loop statement</p>\n",
    "<ul class=\"list\">\n",
    "<li><p>If the <b>else</b> statement is used with a <b>for</b> loop, the <b>else</b> statement is executed when the loop has exhausted iterating the list.</p></li>\n",
    "</ul>\n",
    "<p>The following example illustrates the combination of an else statement with a for statement that searches for prime numbers from 10 through 20.</p>"
   ]
  },
  {
   "cell_type": "code",
   "execution_count": 3,
   "metadata": {},
   "outputs": [
    {
     "name": "stdout",
     "output_type": "stream",
     "text": [
      "10 equals 2 * 5\n",
      "11 is a prime number\n"
     ]
    }
   ],
   "source": [
    "#!/usr/bin/python\n",
    "\n",
    "for num in range(10,20):     #to iterate between 10 to 20\n",
    "    for i in range(2,num):    #to iterate on the factors of the number\n",
    "        if num%i == 0:         #to determine the first factor\n",
    "            j=num/i             #to calculate the second factor\n",
    "            print('%d equals %d * %d' % (num,i,j))\n",
    "            break #to move to the next number, the #first FOR\n",
    "    else:                  # else part of the loop\n",
    "        print(num, 'is a prime number')\n",
    "        break"
   ]
  },
  {
   "cell_type": "markdown",
   "metadata": {},
   "source": [
    "<p>When the above code is executed, it produces the following result −</p>\n",
    "<pre class=\"result notranslate\">10 equals 2 * 5\n",
    "11 is a prime number\n",
    "12 equals 2 * 6\n",
    "13 is a prime number\n",
    "14 equals 2 * 7\n",
    "15 equals 3 * 5\n",
    "16 equals 2 * 8\n",
    "17 is a prime number\n",
    "18 equals 2 * 9\n",
    "19 is a prime number"
   ]
  },
  {
   "cell_type": "markdown",
   "metadata": {},
   "source": [
    "## Nested Loops\n",
    "<p>Python programming language allows to use one loop inside another loop. Following section shows few examples to illustrate the concept.</p>\n",
    "<h2>Syntax</h2>\n",
    "<pre class=\"result notranslate\">for iterating_var in sequence:\n",
    "   for iterating_var in sequence:\n",
    "      statements(s)\n",
    "   statements(s)\n",
    "</pre>\n",
    "<p>The syntax for a <b>nested while loop</b> statement in Python programming language is as follows −</p>\n",
    "<pre class=\"result notranslate\">while expression:\n",
    "   while expression:\n",
    "      statement(s)\n",
    "   statement(s)\n",
    "</pre>\n",
    "<p>A final note on loop nesting is that you can put any type of loop inside of any other type of loop. For example a for loop can be inside a while loop or vice versa.</p>\n",
    "<h2>Example</h2>\n",
    "<p>The following program uses a nested for loop to find the prime numbers from 2 to 100 −</p>"
   ]
  },
  {
   "cell_type": "code",
   "execution_count": 8,
   "metadata": {},
   "outputs": [
    {
     "name": "stdout",
     "output_type": "stream",
     "text": [
      "2  is prime\n",
      "3  is prime\n",
      "5  is prime\n",
      "7  is prime\n",
      "11  is prime\n",
      "13  is prime\n",
      "17  is prime\n",
      "19  is prime\n",
      "23  is prime\n",
      "29  is prime\n",
      "31  is prime\n",
      "37  is prime\n",
      "41  is prime\n",
      "43  is prime\n",
      "47  is prime\n",
      "53  is prime\n",
      "59  is prime\n",
      "61  is prime\n",
      "67  is prime\n",
      "71  is prime\n",
      "73  is prime\n",
      "79  is prime\n",
      "83  is prime\n",
      "89  is prime\n",
      "97  is prime\n",
      "Good bye!\n"
     ]
    }
   ],
   "source": [
    "#!/usr/bin/python\n",
    "\n",
    "i = 2\n",
    "while(i < 100):\n",
    "    j = 2\n",
    "    while(j <= (i/j)):\n",
    "        if not(i%j): break\n",
    "        j = j + 1\n",
    "    if (j > i/j) : print(i, \" is prime\")\n",
    "    i = i + 1\n",
    "\n",
    "print(\"Good bye!\")"
   ]
  },
  {
   "cell_type": "markdown",
   "metadata": {},
   "source": [
    "<p>When the above code is executed, it produces following result −</p>\n",
    "<pre class=\"result notranslate\">2 is prime\n",
    "3 is prime\n",
    "5 is prime\n",
    "7 is prime\n",
    "11 is prime\n",
    "13 is prime\n",
    "17 is prime\n",
    "19 is prime\n",
    "23 is prime\n",
    "29 is prime\n",
    "31 is prime\n",
    "37 is prime\n",
    "41 is prime\n",
    "43 is prime\n",
    "47 is prime\n",
    "53 is prime\n",
    "59 is prime\n",
    "61 is prime\n",
    "67 is prime\n",
    "71 is prime\n",
    "73 is prime\n",
    "79 is prime\n",
    "83 is prime\n",
    "89 is prime\n",
    "97 is prime\n",
    "Good bye!"
   ]
  },
  {
   "cell_type": "markdown",
   "metadata": {},
   "source": [
    "## Pass Statement\n",
    "<p>It is used when a statement is required syntactically but you do not want any command or code to execute.</p>\n",
    "<p>The <b>pass</b> statement is a <i>null</i> operation; nothing happens when it executes. The <b>pass</b> is also useful in places where your code will eventually go, but has not been written yet (e.g., in stubs for example) −</p>\n",
    "<h2>Syntax</h2>\n",
    "<pre class=\"result notranslate\">pass\n",
    "</pre>\n",
    "<h2>Example</h2>"
   ]
  },
  {
   "cell_type": "code",
   "execution_count": 10,
   "metadata": {},
   "outputs": [
    {
     "name": "stdout",
     "output_type": "stream",
     "text": [
      "Current Letter : P\n",
      "Current Letter : y\n",
      "Current Letter : t\n",
      "This is pass block\n",
      "Current Letter : h\n",
      "Current Letter : o\n",
      "Current Letter : n\n",
      "Good bye!\n"
     ]
    }
   ],
   "source": [
    "for letter in 'Python': \n",
    "    if letter == 'h':\n",
    "        pass\n",
    "        print('This is pass block')\n",
    "    print('Current Letter :', letter)\n",
    "\n",
    "print(\"Good bye!\")"
   ]
  },
  {
   "cell_type": "markdown",
   "metadata": {},
   "source": [
    "<p>When the above code is executed, it produces following result −</p>\n",
    "<pre class=\"result notranslate\">Current Letter : P\n",
    "Current Letter : y\n",
    "Current Letter : t\n",
    "This is pass block\n",
    "Current Letter : h\n",
    "Current Letter : o\n",
    "Current Letter : n\n",
    "Good bye!"
   ]
  }
 ],
 "metadata": {
  "kernelspec": {
   "display_name": "Python 3",
   "language": "python",
   "name": "python3"
  },
  "language_info": {
   "codemirror_mode": {
    "name": "ipython",
    "version": 3
   },
   "file_extension": ".py",
   "mimetype": "text/x-python",
   "name": "python",
   "nbconvert_exporter": "python",
   "pygments_lexer": "ipython3",
   "version": "3.8.5"
  }
 },
 "nbformat": 4,
 "nbformat_minor": 4
}
