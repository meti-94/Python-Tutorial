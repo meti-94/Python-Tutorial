{
 "cells": [
  {
   "cell_type": "markdown",
   "metadata": {},
   "source": [
    "### Question\n",
    "Write a program in python that takes Radius and calculates Area. your program must remain alive until pressing CTRL+c "
   ]
  },
  {
   "cell_type": "code",
   "execution_count": null,
   "metadata": {},
   "outputs": [
    {
     "name": "stdout",
     "output_type": "stream",
     "text": [
      "Please enter Radius: 3.13\n",
      "The Area Is Equal: 30.762265999999997\n"
     ]
    }
   ],
   "source": [
    "while True:\n",
    "    radius = input('Please enter Radius: ')\n",
    "    radius = float(radius)\n",
    "    area = radius ** 2 *3.14\n",
    "    print(f'The Area Is Equal: {area}')\n"
   ]
  },
  {
   "cell_type": "markdown",
   "metadata": {},
   "source": [
    "### Question\n",
    "Write a function in python that takes two numbers and determines the HCF (highest common factor) of them! "
   ]
  },
  {
   "cell_type": "code",
   "execution_count": 5,
   "metadata": {},
   "outputs": [
    {
     "name": "stdout",
     "output_type": "stream",
     "text": [
      "The H.C.F. is 6\n"
     ]
    }
   ],
   "source": [
    "def compute_hcf(x, y):\n",
    "    if x > y:\n",
    "        smaller = y\n",
    "    else:\n",
    "        smaller = x\n",
    "    for i in range(1, smaller+1):\n",
    "        if((x % i == 0) and (y % i == 0)):\n",
    "            hcf = i \n",
    "    return hcf\n",
    "num1 = 54 \n",
    "num2 = 24\n",
    "print(\"The H.C.F. is\", compute_hcf(num1, num2))"
   ]
  },
  {
   "cell_type": "markdown",
   "metadata": {},
   "source": [
    "### Question\n",
    "print all of the prime numbers from 1 through 100 by using a Boolean function. \n",
    "\n",
    "**Note**: boolean function returns a Boolean value after performing computations!"
   ]
  },
  {
   "cell_type": "code",
   "execution_count": 6,
   "metadata": {},
   "outputs": [
    {
     "name": "stdout",
     "output_type": "stream",
     "text": [
      "2 ,\n",
      "3 ,\n",
      "5 ,\n",
      "7 ,\n",
      "11 ,\n",
      "13 ,\n",
      "17 ,\n",
      "19 ,\n",
      "23 ,\n",
      "29 ,\n",
      "31 ,\n",
      "37 ,\n",
      "41 ,\n",
      "43 ,\n",
      "47 ,\n",
      "53 ,\n",
      "59 ,\n",
      "61 ,\n",
      "67 ,\n",
      "71 ,\n",
      "73 ,\n",
      "79 ,\n",
      "83 ,\n",
      "89 ,\n",
      "97\n"
     ]
    }
   ],
   "source": [
    "def is_prime(n):\n",
    "    status = True\n",
    "    if n < 2:\n",
    "        status = False\n",
    "    else:\n",
    "        for i in range(2,n):\n",
    "            if n % i == 0:\n",
    "                status = False\n",
    "    return status\n",
    "for n in range(1,101):\n",
    "    if is_prime(n):\n",
    "        if n==97:\n",
    "            print (n)\n",
    "        else:\n",
    "            print (n,\",\",)"
   ]
  },
  {
   "cell_type": "markdown",
   "metadata": {},
   "source": [
    "### Question\n",
    "<p>Bubble Sort is the simplest sorting algorithm that works by repeatedly swapping the adjacent elements if they are in wrong order.<!--more--></p>\n",
    "<p><strong>Example:</strong><br>\n",
    "<b>First Pass:</b><br>\n",
    "( <b>5</b> <b>1</b> 4 2 8 ) –&gt; ( <b>1</b> <b>5</b> 4 2 8 ), Here, algorithm compares the first two elements, and swaps since 5 &gt; 1.<br>\n",
    "( 1 <b>5</b> <b>4</b> 2 8 ) –&gt;&nbsp; ( 1 <b>4</b> <b>5</b> 2 8 ), Swap since 5 &gt; 4<br>\n",
    "( 1 4 <b>5</b> <b>2</b> 8 ) –&gt;&nbsp; ( 1 4 <b>2</b> <b>5</b> 8 ), Swap since 5 &gt; 2<br>\n",
    "( 1 4 2 <b>5</b> <b>8</b> ) –&gt; ( 1 4 2 <b>5</b> <b>8</b> ), Now, since these elements are already in order (8 &gt; 5), algorithm does not swap them.</p>\n",
    "<p><b>Second Pass:</b><br>\n",
    "( <b>1</b> <b>4</b> 2 5 8 ) –&gt; ( <b>1</b> <b>4</b> 2 5 8 )<br>\n",
    "( 1 <b>4</b> <b>2</b> 5 8 ) –&gt; ( 1 <b>2</b> <b>4</b> 5 8 ), Swap since 4 &gt; 2<br>\n",
    "( 1 2 <b>4</b> <b>5</b> 8 ) –&gt; ( 1 2 <b>4</b> <b>5</b> 8 )<br>\n",
    "( 1 2 4 <b>5</b> <b>8</b> ) –&gt;&nbsp; ( 1 2 4 <b>5</b> <b>8</b> )<br>\n",
    "Now, the array is already sorted, but our algorithm does not know if it is completed. The algorithm needs one <b>whole</b> pass without <b>any</b> swap to know it is sorted.</p>\n",
    "<p><b>Third Pass:</b><br>\n",
    "( <b>1</b> <b>2</b> 4 5 8 ) –&gt; ( <b>1</b> <b>2</b> 4 5 8 )<br>\n",
    "( 1 <b>2</b> <b>4</b> 5 8 ) –&gt; ( 1 <b>2</b> <b>4</b> 5 8 )<br>\n",
    "( 1 2 <b>4</b> <b>5</b> 8 ) –&gt; ( 1 2 <b>4</b> <b>5</b> 8 )<br>\n",
    "( 1 2 4 <b>5</b> <b>8</b> ) –&gt; ( 1 2 4 <b>5</b> <b>8</b> )</p>\n",
    "\n",
    "Implement bubble sort as a function and test it using \"arr = [64, 34, 25, 12, 22, 11, 90]\"."
   ]
  },
  {
   "cell_type": "code",
   "execution_count": 7,
   "metadata": {},
   "outputs": [
    {
     "name": "stdout",
     "output_type": "stream",
     "text": [
      "Sorted array is:\n",
      "11\n",
      "12\n",
      "22\n",
      "25\n",
      "34\n",
      "64\n",
      "90\n"
     ]
    }
   ],
   "source": [
    "\n",
    "# Python program for implementation of Bubble Sort \n",
    "  \n",
    "def bubbleSort(arr): \n",
    "    n = len(arr) \n",
    "  \n",
    "    # Traverse through all array elements \n",
    "    for i in range(n-1): \n",
    "    # range(n) also work but outer loop will repeat one time more than needed. \n",
    "  \n",
    "        # Last i elements are already in place \n",
    "        for j in range(0, n-i-1): \n",
    "  \n",
    "            # traverse the array from 0 to n-i-1 \n",
    "            # Swap if the element found is greater \n",
    "            # than the next element \n",
    "            if arr[j] > arr[j+1] : \n",
    "                arr[j], arr[j+1] = arr[j+1], arr[j] \n",
    "  \n",
    "# Driver code to test above \n",
    "arr = [64, 34, 25, 12, 22, 11, 90] \n",
    "  \n",
    "bubbleSort(arr) \n",
    "  \n",
    "print (\"Sorted array is:\") \n",
    "for i in range(len(arr)): \n",
    "    print (\"%d\" %arr[i]),  \n"
   ]
  },
  {
   "cell_type": "code",
   "execution_count": null,
   "metadata": {},
   "outputs": [],
   "source": []
  }
 ],
 "metadata": {
  "kernelspec": {
   "display_name": "Python 3",
   "language": "python",
   "name": "python3"
  },
  "language_info": {
   "codemirror_mode": {
    "name": "ipython",
    "version": 3
   },
   "file_extension": ".py",
   "mimetype": "text/x-python",
   "name": "python",
   "nbconvert_exporter": "python",
   "pygments_lexer": "ipython3",
   "version": "3.8.5"
  }
 },
 "nbformat": 4,
 "nbformat_minor": 4
}
