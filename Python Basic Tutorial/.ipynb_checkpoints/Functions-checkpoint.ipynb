{
 "cells": [
  {
   "cell_type": "markdown",
   "metadata": {},
   "source": [
    "# Functions"
   ]
  },
  {
   "cell_type": "markdown",
   "metadata": {},
   "source": [
    "<p>A function is a block of organized, reusable code that is used to perform a single, related action. Functions provide better modularity for your application and a high degree of code reusing.</p>\n",
    "<p>As you already know, Python gives you many built-in functions like print(), etc. but you can also create your own functions. These functions are called <i>user-defined functions.</i></p>\n",
    "<h2>Defining a Function</h2>\n",
    "<p>You can define functions to provide the required functionality. Here are simple rules to define a function in Python.</p>\n",
    "<ul class=\"list\">\n",
    "<li><p>Function blocks begin with the keyword <b>def</b> followed by the function name and parentheses ( ( ) ).</p></li>\n",
    "<li><p>Any input parameters or arguments should be placed within these parentheses. You can also define parameters inside these parentheses.</p></li>\n",
    "<li><p>The first statement of a function can be an optional statement - the documentation string of the function or <i>docstring</i>.</p></li>\n",
    "<li><p>The code block within every function starts with a colon (:) and is indented.</p></li>\n",
    "<li><p>The statement return [expression] exits a function, optionally passing back an expression to the caller. A return statement with no arguments is the same as return None.</p></li>\n",
    "</ul>\n",
    "<h2>Syntax</h2>\n",
    "<pre class=\"result notranslate\">def functionname( parameters ):\n",
    "   \"function_docstring\"\n",
    "   function_suite\n",
    "   return [expression]\n",
    "</pre>\n",
    "<p>By default, parameters have a positional behavior and you need to inform them in the same order that they were defined.</p>\n",
    "<h2>Example</h2>\n",
    "<p>The following function takes a string as input parameter and prints it on standard screen.</p>"
   ]
  },
  {
   "cell_type": "code",
   "execution_count": 1,
   "metadata": {},
   "outputs": [],
   "source": [
    "def printme(string):\n",
    "   \"This prints a passed string into this function\"\n",
    "   print(string)\n",
    "   return"
   ]
  },
  {
   "cell_type": "markdown",
   "metadata": {},
   "source": [
    "<h2>Calling a Function</h2>\n",
    "<p>Defining a function only gives it a name, specifies the parameters that are to be included in the function and structures the blocks of code.</p>\n",
    "<p>Once the basic structure of a function is finalized, you can execute it by calling it from another function or directly from the Python prompt. Following is the example to call printme() function −</p>"
   ]
  },
  {
   "cell_type": "code",
   "execution_count": 3,
   "metadata": {},
   "outputs": [
    {
     "name": "stdout",
     "output_type": "stream",
     "text": [
      "I'm first call to user defined function!\n",
      "Again second call to the same function\n"
     ]
    }
   ],
   "source": [
    "# Function definition is here\n",
    "def printme(string):\n",
    "   \"This prints a passed string into this function\"\n",
    "   print(string)\n",
    "   return\n",
    "\n",
    "# Now you can call printme function\n",
    "printme(\"I'm first call to user defined function!\")\n",
    "printme(\"Again second call to the same function\")"
   ]
  },
  {
   "cell_type": "markdown",
   "metadata": {},
   "source": [
    "<p>When the above code is executed, it produces the following result −</p>\n",
    "<pre class=\"result notranslate\">I'm first call to user defined function!\n",
    "Again second call to the same function\n",
    "</pre>\n",
    "<h2>Pass by reference vs value</h2>\n",
    "<p>All parameters (arguments) in the Python language are passed by reference. It means if you change what a parameter refers to within a function, the change also reflects back in the calling function. For example −</p>\n"
   ]
  },
  {
   "cell_type": "code",
   "execution_count": 4,
   "metadata": {},
   "outputs": [
    {
     "name": "stdout",
     "output_type": "stream",
     "text": [
      "Values inside the function:  [10, 20, 30, [1, 2, 3, 4]]\n",
      "Values outside the function:  [10, 20, 30, [1, 2, 3, 4]]\n"
     ]
    }
   ],
   "source": [
    "# Function definition is here\n",
    "def changeme( mylist ):\n",
    "   \"This changes a passed list into this function\"\n",
    "   mylist.append([1,2,3,4]);\n",
    "   print(\"Values inside the function: \", mylist)\n",
    "   return\n",
    "\n",
    "# Now you can call changeme function\n",
    "mylist = [10,20,30];\n",
    "changeme( mylist );\n",
    "print(\"Values outside the function: \", mylist)"
   ]
  },
  {
   "cell_type": "markdown",
   "metadata": {},
   "source": [
    "<p>Here, we are maintaining reference of the passed object and appending values in the same object. So, this would produce the following result −</p>\n",
    "<pre class=\"result notranslate\">Values inside the function:  [10, 20, 30, [1, 2, 3, 4]]\n",
    "Values outside the function:  [10, 20, 30, [1, 2, 3, 4]]\n",
    "</pre>\n",
    "<p>There is one more example where argument is being passed by reference and the reference is being overwritten inside the called function.</p>"
   ]
  },
  {
   "cell_type": "code",
   "execution_count": 5,
   "metadata": {},
   "outputs": [
    {
     "name": "stdout",
     "output_type": "stream",
     "text": [
      "Values inside the function:  [1, 2, 3, 4]\n",
      "Values outside the function:  [10, 20, 30]\n"
     ]
    }
   ],
   "source": [
    "# Function definition is here\n",
    "def changeme( mylist ):\n",
    "   \"This changes a passed list into this function\"\n",
    "   mylist = [1,2,3,4]; # This would assig new reference in mylist\n",
    "   print(\"Values inside the function: \", mylist)\n",
    "   return\n",
    "\n",
    "# Now you can call changeme function\n",
    "mylist = [10,20,30];\n",
    "changeme( mylist );\n",
    "print(\"Values outside the function: \", mylist)"
   ]
  },
  {
   "cell_type": "markdown",
   "metadata": {},
   "source": [
    "<p>The parameter <i>mylist</i> is local to the function changeme. Changing mylist within the function does not affect <i>mylist</i>. The function accomplishes nothing and finally this would produce the following result −</p>\n",
    "<pre class=\"result notranslate\">Values inside the function:  [1, 2, 3, 4]\n",
    "Values outside the function:  [10, 20, 30]\n",
    "</pre>\n",
    "<h2>Function Arguments</h2>\n",
    "<p>You can call a function by using the following types of formal arguments −</p>\n",
    "<ul class=\"list\">\n",
    "<li>Required arguments</li>\n",
    "<li>Keyword arguments</li>\n",
    "<li>Default arguments</li>\n",
    "<li>Variable-length arguments</li>\n",
    "</ul>\n",
    "<h2>Required arguments</h2>\n",
    "<p>Required arguments are the arguments passed to a function in correct positional order. Here, the number of arguments in the function call should match exactly with the function definition.</p>\n",
    "<p>To call the function <i>printme()</i>, you definitely need to pass one argument, otherwise it gives a syntax error as follows −</p>"
   ]
  },
  {
   "cell_type": "code",
   "execution_count": 6,
   "metadata": {},
   "outputs": [
    {
     "ename": "TypeError",
     "evalue": "printme() missing 1 required positional argument: 'string'",
     "output_type": "error",
     "traceback": [
      "\u001b[1;31m---------------------------------------------------------------------------\u001b[0m",
      "\u001b[1;31mTypeError\u001b[0m                                 Traceback (most recent call last)",
      "\u001b[1;32m<ipython-input-6-e0a9850b8e80>\u001b[0m in \u001b[0;36m<module>\u001b[1;34m\u001b[0m\n\u001b[0;32m      6\u001b[0m \u001b[1;33m\u001b[0m\u001b[0m\n\u001b[0;32m      7\u001b[0m \u001b[1;31m# Now you can call printme function\u001b[0m\u001b[1;33m\u001b[0m\u001b[1;33m\u001b[0m\u001b[1;33m\u001b[0m\u001b[0m\n\u001b[1;32m----> 8\u001b[1;33m \u001b[0mprintme\u001b[0m\u001b[1;33m(\u001b[0m\u001b[1;33m)\u001b[0m\u001b[1;33m\u001b[0m\u001b[1;33m\u001b[0m\u001b[0m\n\u001b[0m",
      "\u001b[1;31mTypeError\u001b[0m: printme() missing 1 required positional argument: 'string'"
     ]
    }
   ],
   "source": [
    "# Function definition is here\n",
    "def printme(string):\n",
    "   \"This prints a passed string into this function\"\n",
    "   print(string)\n",
    "   return;\n",
    "\n",
    "# Now you can call printme function\n",
    "printme()"
   ]
  },
  {
   "cell_type": "markdown",
   "metadata": {},
   "source": [
    "<p>When the above code is  executed, it produces the following result −</p>\n",
    "<pre class=\"result notranslate\">Traceback (most recent call last):\n",
    "   File \"test.py\", line 11, in &lt;module&gt;\n",
    "      printme();\n",
    "TypeError: printme() takes exactly 1 argument (0 given)\n",
    "</pre>\n",
    "<h2>Keyword arguments</h2>\n",
    "<p>Keyword arguments are related to the function calls. When you use keyword arguments in a function call, the caller identifies the arguments by the parameter name.</p>\n",
    "<p>This allows you to skip arguments or place them out of order because the Python interpreter is able to use the keywords provided to match the values with parameters. You can also make keyword calls to the <i>printme()</i> function in the following ways −</p>"
   ]
  },
  {
   "cell_type": "code",
   "execution_count": 7,
   "metadata": {},
   "outputs": [
    {
     "name": "stdout",
     "output_type": "stream",
     "text": [
      "My string\n"
     ]
    }
   ],
   "source": [
    "# Function definition is here\n",
    "def printme( str ):\n",
    "   \"This prints a passed string into this function\"\n",
    "   print(str)\n",
    "   return;\n",
    "\n",
    "# Now you can call printme function\n",
    "printme( str = \"My string\")"
   ]
  },
  {
   "cell_type": "markdown",
   "metadata": {},
   "source": [
    "<p>When the above code is  executed, it produces the following result −</p>\n",
    "<pre class=\"result notranslate\">My string\n",
    "</pre>\n",
    "<p>The following example gives more clear picture. Note that the order of parameters does not matter.</p>"
   ]
  },
  {
   "cell_type": "code",
   "execution_count": 8,
   "metadata": {},
   "outputs": [
    {
     "name": "stdout",
     "output_type": "stream",
     "text": [
      "Name:  miki\n",
      "Age  50\n"
     ]
    }
   ],
   "source": [
    "# Function definition is here\n",
    "def printinfo( name, age ):\n",
    "   \"This prints a passed info into this function\"\n",
    "   print(\"Name: \", name)\n",
    "   print(\"Age \", age)\n",
    "   return;\n",
    "\n",
    "# Now you can call printinfo function\n",
    "printinfo( age=50, name=\"miki\" )"
   ]
  },
  {
   "cell_type": "markdown",
   "metadata": {},
   "source": [
    "<p>When the above code is  executed, it produces the following result −</p>\n",
    "<pre class=\"result notranslate\">Name:  miki\n",
    "Age  50\n",
    "</pre>\n",
    "<h2>Default arguments</h2>\n",
    "<p>A default argument is an argument that assumes a default value if a value is not provided in the function call for that argument. The following example gives an idea on default arguments, it prints default age if it is not passed −</p>"
   ]
  },
  {
   "cell_type": "code",
   "execution_count": 9,
   "metadata": {},
   "outputs": [
    {
     "name": "stdout",
     "output_type": "stream",
     "text": [
      "Name:  miki\n",
      "Age  50\n",
      "Name:  miki\n",
      "Age  35\n"
     ]
    }
   ],
   "source": [
    "# Function definition is here\n",
    "def printinfo( name, age = 35 ):\n",
    "   \"This prints a passed info into this function\"\n",
    "   print(\"Name: \", name)\n",
    "   print(\"Age \", age)\n",
    "   return;\n",
    "\n",
    "# Now you can call printinfo function\n",
    "printinfo( age=50, name=\"miki\" )\n",
    "printinfo( name=\"miki\" )"
   ]
  },
  {
   "cell_type": "markdown",
   "metadata": {},
   "source": [
    "<p>When the above code is  executed, it produces the following result −</p>\n",
    "<pre class=\"result notranslate\">Name:  miki\n",
    "Age  50\n",
    "Name:  miki\n",
    "Age  35\n",
    "</pre>\n",
    "<h2>Variable-length arguments</h2>\n",
    "<p>You may need to process a function for more arguments than you specified while defining the function. These arguments are called <i>variable-length</i> arguments and are not named in the function definition, unlike required and default arguments.</p>\n",
    "<p>Syntax for a function with non-keyword variable arguments is this −</p>\n",
    "<pre class=\"result notranslate\">def functionname([formal_args,] *var_args_tuple ):\n",
    "   \"function_docstring\"\n",
    "   function_suite\n",
    "   return [expression]\n",
    "</pre>\n",
    "<p>An asterisk (*) is placed before the variable name that holds the values of all nonkeyword variable arguments. This tuple remains empty if no additional arguments are specified during the function call. Following is a simple example −</p>"
   ]
  },
  {
   "cell_type": "code",
   "execution_count": 10,
   "metadata": {},
   "outputs": [
    {
     "name": "stdout",
     "output_type": "stream",
     "text": [
      "Output is: \n",
      "10\n",
      "Output is: \n",
      "70\n",
      "60\n",
      "50\n"
     ]
    }
   ],
   "source": [
    "# Function definition is here\n",
    "def printinfo( arg1, *vartuple ):\n",
    "   \"This prints a variable passed arguments\"\n",
    "   print(\"Output is: \")\n",
    "   print(arg1)\n",
    "   for var in vartuple:\n",
    "      print(var)\n",
    "   return;\n",
    "\n",
    "# Now you can call printinfo function\n",
    "printinfo( 10 )\n",
    "printinfo( 70, 60, 50 )"
   ]
  },
  {
   "cell_type": "markdown",
   "metadata": {},
   "source": [
    "<p>When the above code is  executed, it produces the following result −</p>\n",
    "<pre class=\"result notranslate\">Output is:\n",
    "10\n",
    "Output is:\n",
    "70\n",
    "60\n",
    "50\n",
    "</pre>\n",
    "<h2>The <i>Anonymous</i> Functions</h2>\n",
    "<p>These functions are called anonymous because they are not declared in the standard manner by using the <i>def</i> keyword. You can use the <i>lambda</i> keyword to create small anonymous functions.</p>\n",
    "<ul class=\"list\">\n",
    "<li><p>Lambda forms can take any number of arguments but return just one value in the form of an expression. They cannot contain commands or multiple expressions.</p></li>\n",
    "<li><p>An anonymous function cannot be a direct call to print because lambda requires an expression</p></li>\n",
    "<li><p>Lambda functions have their own local namespace and cannot access variables other than those in their parameter list and those in the global namespace.</p></li>\n",
    "<li><p>Although it appears that lambda's are a one-line version of a function, they are not equivalent to inline statements in C or C++, whose purpose is by passing function stack allocation during invocation for performance reasons.</p></li>\n",
    "</ul>\n",
    "<h2>Syntax</h2>\n",
    "<p>The syntax of <i>lambda</i> functions contains only a single statement, which is as follows −</p>\n",
    "<pre class=\"result notranslate\">lambda [arg1 [,arg2,.....argn]]:expression\n",
    "</pre>\n",
    "<p>Following is the example to show how <i>lambda</i> form of function works −</p>"
   ]
  },
  {
   "cell_type": "code",
   "execution_count": 11,
   "metadata": {},
   "outputs": [
    {
     "name": "stdout",
     "output_type": "stream",
     "text": [
      "Value of total :  30\n",
      "Value of total :  40\n"
     ]
    }
   ],
   "source": [
    "# Function definition is here\n",
    "sum = lambda arg1, arg2: arg1 + arg2;\n",
    "\n",
    "# Now you can call sum as a function\n",
    "print (\"Value of total : \", sum( 10, 20 ))\n",
    "print (\"Value of total : \", sum( 20, 20 ))"
   ]
  },
  {
   "cell_type": "markdown",
   "metadata": {},
   "source": [
    "<p>When the above code is  executed, it produces the following result −</p>\n",
    "<pre class=\"result notranslate\">Value of total :  30\n",
    "Value of total :  40\n",
    "</pre>\n",
    "<h2>The <i>return</i> Statement</h2>\n",
    "<p>The statement return [expression] exits a function, optionally passing back an expression to the caller. A return statement with no arguments is the same as return None.</p>\n",
    "<p>All the above examples are not returning any value. You can return a value from a function as follows −</p>"
   ]
  },
  {
   "cell_type": "code",
   "execution_count": 12,
   "metadata": {},
   "outputs": [
    {
     "name": "stdout",
     "output_type": "stream",
     "text": [
      "Inside the function :  30\n",
      "Outside the function :  30\n"
     ]
    }
   ],
   "source": [
    "# Function definition is here\n",
    "def sum( arg1, arg2 ):\n",
    "   # Add both the parameters and return them.\"\n",
    "   total = arg1 + arg2\n",
    "   print(\"Inside the function : \", total)\n",
    "   return total;\n",
    "\n",
    "# Now you can call sum function\n",
    "total = sum( 10, 20 );\n",
    "print(\"Outside the function : \", total )"
   ]
  },
  {
   "cell_type": "markdown",
   "metadata": {},
   "source": [
    "<p>When the above code is  executed, it produces the following result −</p>\n",
    "<pre class=\"result notranslate\">Inside the function :  30\n",
    "Outside the function :  30\n",
    "</pre>\n",
    "<h2>Scope of Variables</h2>\n",
    "<p>All variables in a program may not be accessible at all locations in that program. This depends on where you have declared a variable.</p>\n",
    "<p>The scope of a variable determines the portion of the program where you can access a particular identifier. There are two basic scopes of variables in Python  −</p>\n",
    "<ul class=\"list\">\n",
    "<li>Global variables</li>\n",
    "<li>Local variables</li>\n",
    "</ul>\n",
    "<h2>Global vs. Local variables</h2>\n",
    "<p>Variables that are defined inside a function body have a local scope, and those defined outside have a global scope.</p>\n",
    "<p>This means that local variables can be accessed only inside the function in which they are declared, whereas global variables can be accessed throughout the program body by all functions. When you call a function, the variables declared inside it are brought into scope. Following is a simple example −</p>"
   ]
  },
  {
   "cell_type": "code",
   "execution_count": 13,
   "metadata": {},
   "outputs": [
    {
     "name": "stdout",
     "output_type": "stream",
     "text": [
      "Inside the function local total :  30\n",
      "Outside the function global total :  0\n"
     ]
    }
   ],
   "source": [
    "total = 0; # This is global variable.\n",
    "# Function definition is here\n",
    "def sum( arg1, arg2 ):\n",
    "   # Add both the parameters and return them.\"\n",
    "   total = arg1 + arg2; # Here total is local variable.\n",
    "   print(\"Inside the function local total : \", total)\n",
    "   return total;\n",
    "\n",
    "# Now you can call sum function\n",
    "sum( 10, 20 );\n",
    "print(\"Outside the function global total : \", total )"
   ]
  },
  {
   "cell_type": "markdown",
   "metadata": {},
   "source": [
    "<p>When the above code is  executed, it produces the following result −</p>\n",
    "<pre class=\"result notranslate\">Inside the function local total :  30\n",
    "Outside the function global total :  0"
   ]
  },
  {
   "cell_type": "code",
   "execution_count": null,
   "metadata": {},
   "outputs": [],
   "source": []
  }
 ],
 "metadata": {
  "kernelspec": {
   "display_name": "Python 3",
   "language": "python",
   "name": "python3"
  },
  "language_info": {
   "codemirror_mode": {
    "name": "ipython",
    "version": 3
   },
   "file_extension": ".py",
   "mimetype": "text/x-python",
   "name": "python",
   "nbconvert_exporter": "python",
   "pygments_lexer": "ipython3",
   "version": "3.8.5"
  }
 },
 "nbformat": 4,
 "nbformat_minor": 4
}
