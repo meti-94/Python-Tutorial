{
 "cells": [
  {
   "cell_type": "markdown",
   "metadata": {},
   "source": [
    "# Conditions"
   ]
  },
  {
   "cell_type": "markdown",
   "metadata": {},
   "source": [
    "<h2>Python Conditions and If statements</h2>\n",
    "<p>Python supports the usual logical conditions from mathematics:</p>\n",
    "<ul>\n",
    "<li>Equals: <span class=\"w3-codespan\">a == b</span></li>\n",
    "<li>Not Equals: <span class=\"w3-codespan\">a != b</span></li>\n",
    "<li>Less than: <span class=\"w3-codespan\">a &lt; b</span></li>\n",
    "<li>Less than or equal to: <span class=\"w3-codespan\">a &lt;= b</span></li>\n",
    "<li>Greater than: <span class=\"w3-codespan\">a &gt; b</span></li>\n",
    "<li>Greater than or equal to: <span class=\"w3-codespan\">a &gt;= b</span></li>\n",
    "</ul>\n",
    "<p>These conditions can be used in several ways, most commonly in \"if statements\" and loops.</p>\n",
    "\n",
    "<p>An \"if statement\" is written by using the <span class=\"w3-codespan\">if</span> keyword.</p>\n",
    "\n",
    "## if"
   ]
  },
  {
   "cell_type": "code",
   "execution_count": 1,
   "metadata": {},
   "outputs": [
    {
     "name": "stdout",
     "output_type": "stream",
     "text": [
      "b is greater than a\n"
     ]
    }
   ],
   "source": [
    "a = 33\n",
    "b = 200\n",
    "if b > a:\n",
    "  print(\"b is greater than a\")"
   ]
  },
  {
   "cell_type": "markdown",
   "metadata": {},
   "source": [
    "<h2>Elif</h2>\n",
    "<p>The <span class=\"w3-codespan\">elif</span> keyword is pythons way of saying \"if the previous conditions were not true, then \n",
    "try this condition\".</p>"
   ]
  },
  {
   "cell_type": "code",
   "execution_count": 2,
   "metadata": {},
   "outputs": [
    {
     "name": "stdout",
     "output_type": "stream",
     "text": [
      "a and b are equal\n"
     ]
    }
   ],
   "source": [
    "a = 33\n",
    "b = 33\n",
    "if b > a:\n",
    "  print(\"b is greater than a\")\n",
    "elif a == b:\n",
    "  print(\"a and b are equal\")"
   ]
  },
  {
   "cell_type": "markdown",
   "metadata": {},
   "source": [
    "<h2>Else</h2>\n",
    "<p>The <span class=\"w3-codespan\">else</span> keyword catches anything which isn't caught by the preceding conditions.</p>"
   ]
  },
  {
   "cell_type": "code",
   "execution_count": 3,
   "metadata": {},
   "outputs": [
    {
     "name": "stdout",
     "output_type": "stream",
     "text": [
      "a is greater than b\n"
     ]
    }
   ],
   "source": [
    "a = 200\n",
    "b = 33\n",
    "if b > a:\n",
    "  print(\"b is greater than a\")\n",
    "elif a == b:\n",
    "  print(\"a and b are equal\")\n",
    "else:\n",
    "  print(\"a is greater than b\")"
   ]
  },
  {
   "cell_type": "markdown",
   "metadata": {},
   "source": [
    "<h2>Short Hand If</h2>\n",
    "\n",
    "<p>If you have only one statement to execute, you can put it on the same line as the if statement.</p>"
   ]
  },
  {
   "cell_type": "code",
   "execution_count": 4,
   "metadata": {},
   "outputs": [
    {
     "name": "stdout",
     "output_type": "stream",
     "text": [
      "a is greater than b\n"
     ]
    }
   ],
   "source": [
    "if a > b: print(\"a is greater than b\")"
   ]
  },
  {
   "cell_type": "markdown",
   "metadata": {},
   "source": [
    "<h2>Short Hand If ... Else</h2>\n",
    "\n",
    "<p>If you have only one statement to execute, one for if, and one for else, you can put it \n",
    "all on the same line:</p>"
   ]
  },
  {
   "cell_type": "code",
   "execution_count": 5,
   "metadata": {},
   "outputs": [
    {
     "name": "stdout",
     "output_type": "stream",
     "text": [
      "B\n"
     ]
    }
   ],
   "source": [
    "a = 2\n",
    "b = 330\n",
    "print(\"A\") if a > b else print(\"B\") "
   ]
  },
  {
   "cell_type": "markdown",
   "metadata": {},
   "source": [
    "<h2>And</h2>\n",
    "<p>The <span class=\"w3-codespan\">and</span> keyword is a logical operator, and \n",
    "is used to combine conditional statements:</p>"
   ]
  },
  {
   "cell_type": "code",
   "execution_count": null,
   "metadata": {},
   "outputs": [],
   "source": [
    "a = 200\n",
    "b = 33\n",
    "c = 500\n",
    "if a > b and c > a:\n",
    "  print(\"Both conditions are True\")"
   ]
  },
  {
   "cell_type": "markdown",
   "metadata": {},
   "source": [
    "<h2>Or</h2>\n",
    "<p>The <code class=\"w3-codespan\">or</code> keyword is a logical operator, and \n",
    "is used to combine conditional statements:</p>"
   ]
  },
  {
   "cell_type": "code",
   "execution_count": null,
   "metadata": {},
   "outputs": [],
   "source": [
    "a = 200\n",
    "b = 33\n",
    "c = 500\n",
    "if a > b or a > c:\n",
    "  print(\"At least one of the conditions is True\")"
   ]
  },
  {
   "cell_type": "markdown",
   "metadata": {},
   "source": [
    "<h2>Nested If</h2>\n",
    "<p>You can have <code class=\"w3-codespan\">if</code> statements inside \n",
    "<code class=\"w3-codespan\">if</code> statements, this is called <em>nested</em>\n",
    "<code class=\"w3-codespan\">if</code> statements.</p>"
   ]
  },
  {
   "cell_type": "code",
   "execution_count": null,
   "metadata": {},
   "outputs": [],
   "source": [
    "x = 41\n",
    "\n",
    "if x > 10:\n",
    "  print(\"Above ten,\")\n",
    "  if x > 20:\n",
    "    print(\"and also above 20!\")\n",
    "  else:\n",
    "    print(\"but not above 20.\") "
   ]
  },
  {
   "cell_type": "markdown",
   "metadata": {},
   "source": [
    "<h2>The pass Statement</h2>\n",
    "<p><code class=\"w3-codespan\">if</code> statements cannot be empty, but if you \n",
    "for some reason have an <code class=\"w3-codespan\">if</code> statement with no content, put in the <code class=\"w3-codespan\">pass</code> statement to avoid getting an error.</p>"
   ]
  },
  {
   "cell_type": "code",
   "execution_count": 1,
   "metadata": {},
   "outputs": [],
   "source": [
    "a = 33\n",
    "b = 200\n",
    "\n",
    "if b > a:\n",
    "  pass"
   ]
  }
 ],
 "metadata": {
  "kernelspec": {
   "display_name": "Python 3",
   "language": "python",
   "name": "python3"
  },
  "language_info": {
   "codemirror_mode": {
    "name": "ipython",
    "version": 3
   },
   "file_extension": ".py",
   "mimetype": "text/x-python",
   "name": "python",
   "nbconvert_exporter": "python",
   "pygments_lexer": "ipython3",
   "version": "3.8.3"
  }
 },
 "nbformat": 4,
 "nbformat_minor": 4
}
