{
 "cells": [
  {
   "cell_type": "markdown",
   "metadata": {},
   "source": [
    "# Functions"
   ]
  },
  {
   "cell_type": "markdown",
   "metadata": {},
   "source": [
    "<p>A function is a block of organized, reusable code that is used to perform a single, related action. Functions provide better modularity for your application and a high degree of code reusing.</p>\n",
    "<p>As you already know, Python gives you many built-in functions like print(), etc. but you can also create your own functions. These functions are called <i>user-defined functions.</i></p>\n",
    "<h2>Defining a Function</h2>\n",
    "<p>You can define functions to provide the required functionality. Here are simple rules to define a function in Python.</p>\n",
    "<ul class=\"list\">\n",
    "<li><p>Function blocks begin with the keyword <b>def</b> followed by the function name and parentheses ( ( ) ).</p></li>\n",
    "<li><p>Any input parameters or arguments should be placed within these parentheses. You can also define parameters inside these parentheses.</p></li>\n",
    "<li><p>The first statement of a function can be an optional statement - the documentation string of the function or <i>docstring</i>.</p></li>\n",
    "<li><p>The code block within every function starts with a colon (:) and is indented.</p></li>\n",
    "<li><p>The statement return [expression] exits a function, optionally passing back an expression to the caller. A return statement with no arguments is the same as return None.</p></li>\n",
    "</ul>\n",
    "<h2>Syntax</h2>\n",
    "<pre class=\"result notranslate\">def functionname( parameters ):\n",
    "   \"function_docstring\"\n",
    "   function_suite\n",
    "   return [expression]\n",
    "</pre>\n",
    "<p>By default, parameters have a positional behavior and you need to inform them in the same order that they were defined.</p>\n",
    "<h2>Example</h2>\n",
    "<p>The following function takes a string as input parameter and prints it on standard screen.</p>"
   ]
  },
  {
   "cell_type": "code",
   "execution_count": 2,
   "metadata": {},
   "outputs": [],
   "source": [
    "def printme(string):\n",
    "   \"This prints a passed string into this function\"\n",
    "   print(string)\n",
    "   return"
   ]
  },
  {
   "cell_type": "markdown",
   "metadata": {},
   "source": [
    "<h2>Calling a Function</h2>\n",
    "<p>Defining a function only gives it a name, specifies the parameters that are to be included in the function and structures the blocks of code.</p>\n",
    "<p>Once the basic structure of a function is finalized, you can execute it by calling it from another function or directly from the Python prompt. Following is the example to call printme() function −</p>"
   ]
  },
  {
   "cell_type": "code",
   "execution_count": 3,
   "metadata": {},
   "outputs": [
    {
     "name": "stdout",
     "output_type": "stream",
     "text": [
      "I'm first call to user defined function!\n",
      "Again second call to the same function\n"
     ]
    }
   ],
   "source": [
    "# Function definition is here\n",
    "def printme(string):\n",
    "   \"This prints a passed string into this function\"\n",
    "   print(string)\n",
    "   return\n",
    "\n",
    "# Now you can call printme function\n",
    "printme(\"I'm first call to user defined function!\")\n",
    "printme(\"Again second call to the same function\")"
   ]
  },
  {
   "cell_type": "markdown",
   "metadata": {},
   "source": [
    "<p>When the above code is executed, it produces the following result −</p>\n",
    "<pre class=\"result notranslate\">I'm first call to user defined function!\n",
    "Again second call to the same function\n",
    "</pre>"
   ]
  },
  {
   "cell_type": "markdown",
   "metadata": {},
   "source": [
    "<h2>Function Arguments</h2>\n",
    "<p>You can call a function by using the following types of formal arguments −</p>\n",
    "<ul class=\"list\">\n",
    "<li>Required arguments</li>\n",
    "<li>Keyword arguments</li>\n",
    "<li>Default arguments</li>\n",
    "<li>Variable-length arguments</li>\n",
    "</ul>\n",
    "<h2>Required arguments</h2>\n",
    "<p>Required arguments are the arguments passed to a function in correct positional order. Here, the number of arguments in the function call should match exactly with the function definition.</p>\n",
    "<p>To call the function <i>printme()</i>, you definitely need to pass one argument, otherwise it gives a syntax error as follows −</p>"
   ]
  },
  {
   "cell_type": "code",
   "execution_count": 6,
   "metadata": {},
   "outputs": [
    {
     "ename": "TypeError",
     "evalue": "printme() missing 1 required positional argument: 'string'",
     "output_type": "error",
     "traceback": [
      "\u001b[1;31m---------------------------------------------------------------------------\u001b[0m",
      "\u001b[1;31mTypeError\u001b[0m                                 Traceback (most recent call last)",
      "\u001b[1;32m<ipython-input-6-e0a9850b8e80>\u001b[0m in \u001b[0;36m<module>\u001b[1;34m\u001b[0m\n\u001b[0;32m      6\u001b[0m \u001b[1;33m\u001b[0m\u001b[0m\n\u001b[0;32m      7\u001b[0m \u001b[1;31m# Now you can call printme function\u001b[0m\u001b[1;33m\u001b[0m\u001b[1;33m\u001b[0m\u001b[1;33m\u001b[0m\u001b[0m\n\u001b[1;32m----> 8\u001b[1;33m \u001b[0mprintme\u001b[0m\u001b[1;33m(\u001b[0m\u001b[1;33m)\u001b[0m\u001b[1;33m\u001b[0m\u001b[1;33m\u001b[0m\u001b[0m\n\u001b[0m",
      "\u001b[1;31mTypeError\u001b[0m: printme() missing 1 required positional argument: 'string'"
     ]
    }
   ],
   "source": [
    "# Function definition is here\n",
    "def printme(string):\n",
    "   \"This prints a passed string into this function\"\n",
    "   print(string)\n",
    "   return;\n",
    "\n",
    "# Now you can call printme function\n",
    "printme()"
   ]
  },
  {
   "cell_type": "markdown",
   "metadata": {},
   "source": [
    "<p>When the above code is  executed, it produces the following result −</p>\n",
    "<pre class=\"result notranslate\">Traceback (most recent call last):\n",
    "   File \"test.py\", line 11, in &lt;module&gt;\n",
    "      printme();\n",
    "TypeError: printme() takes exactly 1 argument (0 given)\n",
    "</pre>\n",
    "<h2>Keyword arguments</h2>\n",
    "<p>Keyword arguments are related to the function calls. When you use keyword arguments in a function call, the caller identifies the arguments by the parameter name.</p>\n",
    "<p>This allows you to skip arguments or place them out of order because the Python interpreter is able to use the keywords provided to match the values with parameters. You can also make keyword calls to the <i>printme()</i> function in the following ways −</p>"
   ]
  },
  {
   "cell_type": "code",
   "execution_count": 7,
   "metadata": {},
   "outputs": [
    {
     "name": "stdout",
     "output_type": "stream",
     "text": [
      "My string\n"
     ]
    }
   ],
   "source": [
    "# Function definition is here\n",
    "def printme( str ):\n",
    "   \"This prints a passed string into this function\"\n",
    "   print(str)\n",
    "   return;\n",
    "\n",
    "# Now you can call printme function\n",
    "printme( str = \"My string\")"
   ]
  },
  {
   "cell_type": "markdown",
   "metadata": {},
   "source": [
    "<p>When the above code is  executed, it produces the following result −</p>\n",
    "<pre class=\"result notranslate\">My string\n",
    "</pre>\n",
    "<p>The following example gives more clear picture. Note that the order of parameters does not matter.</p>"
   ]
  },
  {
   "cell_type": "code",
   "execution_count": 8,
   "metadata": {},
   "outputs": [
    {
     "name": "stdout",
     "output_type": "stream",
     "text": [
      "Name:  miki\n",
      "Age  50\n"
     ]
    }
   ],
   "source": [
    "# Function definition is here\n",
    "def printinfo( name, age ):\n",
    "   \"This prints a passed info into this function\"\n",
    "   print(\"Name: \", name)\n",
    "   print(\"Age \", age)\n",
    "   return;\n",
    "\n",
    "# Now you can call printinfo function\n",
    "printinfo( age=50, name=\"miki\" )"
   ]
  },
  {
   "cell_type": "markdown",
   "metadata": {},
   "source": [
    "<p>When the above code is  executed, it produces the following result −</p>\n",
    "<pre class=\"result notranslate\">Name:  miki\n",
    "Age  50\n",
    "</pre>\n",
    "<h2>Default arguments</h2>\n",
    "<p>A default argument is an argument that assumes a default value if a value is not provided in the function call for that argument. The following example gives an idea on default arguments, it prints default age if it is not passed −</p>"
   ]
  },
  {
   "cell_type": "code",
   "execution_count": 9,
   "metadata": {},
   "outputs": [
    {
     "name": "stdout",
     "output_type": "stream",
     "text": [
      "Name:  miki\n",
      "Age  50\n",
      "Name:  miki\n",
      "Age  35\n"
     ]
    }
   ],
   "source": [
    "# Function definition is here\n",
    "def printinfo( name, age = 35 ):\n",
    "   \"This prints a passed info into this function\"\n",
    "   print(\"Name: \", name)\n",
    "   print(\"Age \", age)\n",
    "   return;\n",
    "\n",
    "# Now you can call printinfo function\n",
    "printinfo( age=50, name=\"miki\" )\n",
    "printinfo( name=\"miki\" )"
   ]
  },
  {
   "cell_type": "markdown",
   "metadata": {},
   "source": [
    "<p>When the above code is  executed, it produces the following result −</p>\n",
    "<pre class=\"result notranslate\">Name:  miki\n",
    "Age  50\n",
    "Name:  miki\n",
    "Age  35\n",
    "</pre>"
   ]
  },
  {
   "cell_type": "markdown",
   "metadata": {},
   "source": [
    "<p>When the above code is  executed, it produces the following result −</p>\n",
    "<pre class=\"result notranslate\">Inside the function local total :  30\n",
    "Outside the function global total :  0"
   ]
  },
  {
   "cell_type": "code",
   "execution_count": null,
   "metadata": {},
   "outputs": [],
   "source": []
  }
 ],
 "metadata": {
  "kernelspec": {
   "display_name": "Python 3",
   "language": "python",
   "name": "python3"
  },
  "language_info": {
   "codemirror_mode": {
    "name": "ipython",
    "version": 3
   },
   "file_extension": ".py",
   "mimetype": "text/x-python",
   "name": "python",
   "nbconvert_exporter": "python",
   "pygments_lexer": "ipython3",
   "version": "3.8.5"
  }
 },
 "nbformat": 4,
 "nbformat_minor": 4
}
