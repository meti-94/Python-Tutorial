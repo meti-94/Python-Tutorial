{
 "cells": [
  {
   "cell_type": "markdown",
   "metadata": {},
   "source": [
    "# Data Types"
   ]
  },
  {
   "cell_type": "markdown",
   "metadata": {},
   "source": [
    "<h2>Built-in Data Types</h2>\n",
    "<p>In programming, data type is an important concept.</p>\n",
    "<p>Variables can store data of different types, and different types can do \n",
    "different things.</p>\n",
    "<p>Python has the following data types built-in by default, in these categories:</p>\n",
    "<table class=\"table-bordered\" style=\"text-align:center;\">\n",
    "  <tbody><tr>\n",
    "    <td style=\"width:160px;\">Text Type:</td>\n",
    "    <td><code class=\"w3-codespan\">str</code></td>\n",
    "  </tr>\n",
    "  <tr>\n",
    "    <td>Numeric Types:</td>\n",
    "    <td><code class=\"w3-codespan\">int</code>, <code class=\"w3-codespan\">float</code>,\n",
    "    <code class=\"w3-codespan\">complex</code></td>\n",
    "  </tr>\n",
    "  <tr>\n",
    "    <td>Sequence Types:</td>\n",
    "    <td><code class=\"w3-codespan\">list</code>, <code class=\"w3-codespan\">tuple</code>, \n",
    "    <code class=\"w3-codespan\">range</code></td>\n",
    "  </tr>\n",
    "  <tr>\n",
    "    <td>Mapping Type:</td>\n",
    "    <td><code class=\"w3-codespan\">dict</code></td>\n",
    "  </tr>\n",
    "  <tr>\n",
    "    <td>Set Types:</td>\n",
    "    <td><code class=\"w3-codespan\">set</code>, <code class=\"w3-codespan\">frozenset</code></td>\n",
    "  </tr>\n",
    "  <tr>\n",
    "    <td>Boolean Type:</td>\n",
    "    <td><code class=\"w3-codespan\">bool</code></td>\n",
    "  </tr>\n",
    "  <tr>\n",
    "    <td>Binary Types:</td>\n",
    "    <td><code class=\"w3-codespan\">bytes</code>, <code class=\"w3-codespan\">bytearray</code>, \n",
    "    <code class=\"w3-codespan\">memoryview</code>\n",
    "  </tr>\n",
    "</table>\n"
   ]
  },
  {
   "cell_type": "markdown",
   "metadata": {},
   "source": [
    "<h2>Getting the Data Type</h2>\n",
    "\n",
    "<p>You can get the data type of any object by using the <code>type()</code> function:</p>"
   ]
  },
  {
   "cell_type": "code",
   "execution_count": null,
   "metadata": {},
   "outputs": [],
   "source": [
    "x = \"Hello World!\"\n",
    "type(x)"
   ]
  },
  {
   "cell_type": "markdown",
   "metadata": {},
   "source": [
    "<h2>Setting the Data Type (automatically)</h2>\n",
    "\n",
    "<p>In Python, the data type is set when you assign a value to a variable:</p>\n",
    "<table class=\"table-bordered\" style=\"text-align:center;\">\n",
    "    <tbody><tr>\n",
    "    <th style=\"min-width:350px\">Example</th>\n",
    "    <th>Data Type</th>\n",
    "    </tr>\n",
    "    <tr>\n",
    "    <td>x = \"Hello World\"</td>\n",
    "    <td>str</td>\n",
    "    </tr>\n",
    "    <tr>\n",
    "    <td>x = 20</td>\n",
    "    <td>int</td>\n",
    "    </tr>\n",
    "    <tr>\n",
    "    <td>x = 20.5</td>\n",
    "    <td>float</td>\n",
    "    </tr>\n",
    "    <tr>\n",
    "    <td>x = 1j</td>\n",
    "    <td>complex</td>\n",
    "    </tr>\n",
    "    <tr>\n",
    "    <td>x = [\"apple\", \"banana\", \"cherry\"]</td>\n",
    "    <td>list</td>\n",
    "    </tr>\n",
    "      <tr>\n",
    "    <td>x = (\"apple\", \"banana\", \"cherry\")</td>\n",
    "    <td>tuple</td>\n",
    "    </tr>\n",
    "    <tr>\n",
    "    <td>x = range(6)</td>\n",
    "    <td>range</td>\n",
    "    </tr>\n",
    "    <tr>\n",
    "    <td>x = {\"name\" : \"John\", \"age\" : 36}</td>\n",
    "    <td>dict</td>\n",
    "    </tr>\n",
    "    <tr>\n",
    "    <td>x = {\"apple\", \"banana\", \"cherry\"}</td>\n",
    "    <td>set</td>\n",
    "    </tr>\n",
    "    <tr>\n",
    "    <td>x = frozenset({\"apple\", \"banana\", \"cherry\"})</td>\n",
    "    <td>frozenset</td>\n",
    "    </tr>\n",
    "    <tr>\n",
    "    <td>x = True</td>\n",
    "    <td>bool</td>\n",
    "    </tr>\n",
    "    <tr>\n",
    "    <td>x = b\"Hello\"</td>\n",
    "    <td>bytes</td>\n",
    "    </tr>\n",
    "    <tr>\n",
    "    <td>x = bytearray(5)</td>\n",
    "    <td>bytearray</td>\n",
    "    </tr>\n",
    "    <tr>\n",
    "    <td>x = memoryview(bytes(5))</td>\n",
    "    <td>memoryview</td>\n",
    "    </tr>\n",
    "    </tbody>\n",
    "</table>"
   ]
  },
  {
   "cell_type": "code",
   "execution_count": 1,
   "metadata": {},
   "outputs": [
    {
     "data": {
      "text/plain": [
       "complex"
      ]
     },
     "execution_count": 1,
     "metadata": {},
     "output_type": "execute_result"
    }
   ],
   "source": [
    "x = 1j\n",
    "type(x)"
   ]
  },
  {
   "cell_type": "markdown",
   "metadata": {},
   "source": [
    "<h2>Setting the Specific Data Type</h2>\n",
    "<p>If you want to specify the data type, you can use the following \n",
    "constructor functions:</p>\n",
    "\n",
    "<table class=\"table-bordered\" style=\"text-align:center;\">\n",
    "<tbody><tr>\n",
    "<th style=\"min-width:350px\">Example</th>\n",
    "<th>Data Type</th>\n",
    "</tr>\n",
    "<tr>\n",
    "<td>x = str(\"Hello World\")</td>\n",
    "<td>str</td>\n",
    "</tr>\n",
    "<tr>\n",
    "<td>x = int(20)</td>\n",
    "<td>int</td>\n",
    "</tr>\n",
    "<tr>\n",
    "<td>x = float(20.5)</td>\n",
    "<td>float</td>\n",
    "</tr>\n",
    "<tr>\n",
    "<td>x = complex(1j)</td>\n",
    "<td>complex</td>\n",
    "</tr>\n",
    "<tr>\n",
    "<td>x = list((\"apple\", \"banana\", \"cherry\"))</td>\n",
    "<td>list</td>\n",
    "</tr>\n",
    "<tr>\n",
    "<td>x = tuple((\"apple\", \"banana\", \"cherry\"))</td>\n",
    "<td>tuple</td>\n",
    "</tr>\n",
    "<tr>\n",
    "<td>x = range(6)</td>\n",
    "<td>range</td>\n",
    "</tr>\n",
    "<tr>\n",
    "<td>x = dict(name=\"John\", age=36)</td>\n",
    "<td>dict</td>\n",
    "</tr>\n",
    "<tr>\n",
    "<td>x = set((\"apple\", \"banana\", \"cherry\"))</td>\n",
    "<td>set</td>\n",
    "</tr>\n",
    "<tr>\n",
    "<td>x = frozenset((\"apple\", \"banana\", \"cherry\"))</td>\n",
    "<td>frozenset</td>\n",
    "</tr>\n",
    "<tr>\n",
    "<td>x = bool(5)</td>\n",
    "<td>bool</td>\n",
    "</tr>\n",
    "<tr>\n",
    "<td>x = bytes(5)</td>\n",
    "<td>bytes</td>\n",
    "</tr>\n",
    "<tr>\n",
    "<td>x = bytearray(5)</td>\n",
    "<td>bytearray</td>\n",
    "</tr>\n",
    "<tr>\n",
    "<td>x = memoryview(bytes(5))</td>\n",
    "<td>memoryview</td>\n",
    "</tr>\n",
    "</tbody></table>"
   ]
  },
  {
   "cell_type": "code",
   "execution_count": null,
   "metadata": {},
   "outputs": [],
   "source": [
    "x = tuple((\"apple\", \"banana\", \"cherry\"))\n",
    "type(x)"
   ]
  },
  {
   "cell_type": "markdown",
   "metadata": {},
   "source": [
    "<h2>Specify a Variable Type</h2>\n",
    "\n",
    "<p>There may be times when you want to specify a type on to a variable. This can be done with casting. Python is an object-orientated language, and as such it uses classes to define data types, including its primitive types.</p>\n",
    "\n",
    "<p>Casting in python is therefore done using constructor functions:</p>\n",
    "<ul>\n",
    "\t<li><span class=\"w3-codespan\">int()</span> - constructs an integer number from an integer literal, a float literal (by rounding down to the previous whole number), or a string literal (providing the string represents a whole number)</li>\n",
    "\t<li><span class=\"w3-codespan\">float()</span> - constructs a float number from an integer literal, a float literal or a string literal (providing the string represents a float or an integer)</li>\n",
    "\t<li><span class=\"w3-codespan\">str()</span> - constructs a string from a wide variety of data types, including strings, integer literals and float literals</li>\n",
    "</ul>"
   ]
  },
  {
   "cell_type": "code",
   "execution_count": null,
   "metadata": {},
   "outputs": [],
   "source": [
    "x = int(1)   # x will be 1\n",
    "y = int(2.8) # y will be 2\n",
    "z = int(\"3\") # z will be 3\n",
    "x = float(1)     # x will be 1.0\n",
    "y = float(2.8)   # y will be 2.8\n",
    "z = float(\"3\")   # z will be 3.0\n",
    "w = float(\"4.2\") # w will be 4.2"
   ]
  }
 ],
 "metadata": {
  "kernelspec": {
   "display_name": "Python 3",
   "language": "python",
   "name": "python3"
  },
  "language_info": {
   "codemirror_mode": {
    "name": "ipython",
    "version": 3
   },
   "file_extension": ".py",
   "mimetype": "text/x-python",
   "name": "python",
   "nbconvert_exporter": "python",
   "pygments_lexer": "ipython3",
   "version": "3.8.3"
  }
 },
 "nbformat": 4,
 "nbformat_minor": 4
}
