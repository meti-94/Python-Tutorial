{
 "cells": [
  {
   "cell_type": "markdown",
   "metadata": {},
   "source": [
    "# 1. Data Types"
   ]
  },
  {
   "cell_type": "markdown",
   "metadata": {},
   "source": [
    "<h2>Built-in Data Types</h2>\n",
    "<p>In programming, data type is an important concept.</p>\n",
    "<p>Variables can store data of different types, and different types can do \n",
    "different things.</p>\n",
    "<p>Python has the following data types built-in by default, in these categories:</p>\n",
    "<table class=\"w3-table\" style=\"margin-left:auto;margin-right:auto;\">\n",
    "  <tbody><tr>\n",
    "    <td style=\"width:160px;\">Text Type:</td>\n",
    "    <td><code class=\"w3-codespan\">str</code></td>\n",
    "  </tr>\n",
    "  <tr>\n",
    "    <td>Numeric Types:</td>\n",
    "    <td><code class=\"w3-codespan\">int</code>, <code class=\"w3-codespan\">float</code>,\n",
    "    <code class=\"w3-codespan\">complex</code></td>\n",
    "  </tr>\n",
    "  <tr>\n",
    "    <td>Sequence Types:</td>\n",
    "    <td><code class=\"w3-codespan\">list</code>, <code class=\"w3-codespan\">tuple</code>, \n",
    "    <code class=\"w3-codespan\">range</code></td>\n",
    "  </tr>\n",
    "  <tr>\n",
    "    <td>Mapping Type:</td>\n",
    "    <td><code class=\"w3-codespan\">dict</code></td>\n",
    "  </tr>\n",
    "  <tr>\n",
    "    <td>Set Types:</td>\n",
    "    <td><code class=\"w3-codespan\">set</code>, <code class=\"w3-codespan\">frozenset</code></td>\n",
    "  </tr>\n",
    "  <tr>\n",
    "    <td>Boolean Type:</td>\n",
    "    <td><code class=\"w3-codespan\">bool</code></td>\n",
    "  </tr>\n",
    "  <tr>\n",
    "    <td>Binary Types:</td>\n",
    "    <td><code class=\"w3-codespan\">bytes</code>, <code class=\"w3-codespan\">bytearray</code>, \n",
    "    <code class=\"w3-codespan\">memoryview</code>\n",
    "  </tr>\n",
    "</table>\n"
   ]
  },
  {
   "cell_type": "markdown",
   "metadata": {},
   "source": [
    "<h2>Getting the Data Type</h2>\n",
    "\n",
    "<p>You can get the data type of any object by using the <code>type()</code> function:</p>"
   ]
  },
  {
   "cell_type": "code",
   "execution_count": null,
   "metadata": {},
   "outputs": [],
   "source": [
    "x = \"Hello World!\"\n",
    "type(x)"
   ]
  },
  {
   "cell_type": "markdown",
   "metadata": {},
   "source": [
    "<h2>Setting the Data Type (automatically)</h2>\n",
    "\n",
    "<p>In Python, the data type is set when you assign a value to a variable:</p>\n",
    "<table style=\"margin-left:auto;margin-right:auto;\">\n",
    "    <tbody><tr>\n",
    "    <th style=\"min-width:350px\">Example</th>\n",
    "    <th>Data Type</th>\n",
    "    </tr>\n",
    "    <tr>\n",
    "    <td>x = \"Hello World\"</td>\n",
    "    <td>str</td>\n",
    "    </tr>\n",
    "    <tr>\n",
    "    <td>x = 20</td>\n",
    "    <td>int</td>\n",
    "    </tr>\n",
    "    <tr>\n",
    "    <td>x = 20.5</td>\n",
    "    <td>float</td>\n",
    "    </tr>\n",
    "    <tr>\n",
    "    <td>x = 1j</td>\n",
    "    <td>complex</td>\n",
    "    </tr>\n",
    "    <tr>\n",
    "    <td>x = [\"apple\", \"banana\", \"cherry\"]</td>\n",
    "    <td>list</td>\n",
    "    </tr>\n",
    "      <tr>\n",
    "    <td>x = (\"apple\", \"banana\", \"cherry\")</td>\n",
    "    <td>tuple</td>\n",
    "    </tr>\n",
    "    <tr>\n",
    "    <td>x = range(6)</td>\n",
    "    <td>range</td>\n",
    "    </tr>\n",
    "    <tr>\n",
    "    <td>x = {\"name\" : \"John\", \"age\" : 36}</td>\n",
    "    <td>dict</td>\n",
    "    </tr>\n",
    "    <tr>\n",
    "    <td>x = {\"apple\", \"banana\", \"cherry\"}</td>\n",
    "    <td>set</td>\n",
    "    </tr>\n",
    "    <tr>\n",
    "    <td>x = frozenset({\"apple\", \"banana\", \"cherry\"})</td>\n",
    "    <td>frozenset</td>\n",
    "    </tr>\n",
    "    <tr>\n",
    "    <td>x = True</td>\n",
    "    <td>bool</td>\n",
    "    </tr>\n",
    "    <tr>\n",
    "    <td>x = b\"Hello\"</td>\n",
    "    <td>bytes</td>\n",
    "    </tr>\n",
    "    <tr>\n",
    "    <td>x = bytearray(5)</td>\n",
    "    <td>bytearray</td>\n",
    "    </tr>\n",
    "    <tr>\n",
    "    <td>x = memoryview(bytes(5))</td>\n",
    "    <td>memoryview</td>\n",
    "    </tr>\n",
    "    </tbody>\n",
    "</table>"
   ]
  },
  {
   "cell_type": "code",
   "execution_count": null,
   "metadata": {},
   "outputs": [],
   "source": [
    "x = 1j\n",
    "type(x)"
   ]
  },
  {
   "cell_type": "markdown",
   "metadata": {},
   "source": [
    "<h2>Setting the Specific Data Type</h2>\n",
    "<p>If you want to specify the data type, you can use the following \n",
    "constructor functions:</p>\n",
    "\n",
    "<table id=\"dtref\" class=\"w3-table-all notranslate\" style=\"margin-left:auto;margin-right:auto;\">\n",
    "<tbody><tr>\n",
    "<th style=\"min-width:350px\">Example</th>\n",
    "<th>Data Type</th>\n",
    "</tr>\n",
    "<tr>\n",
    "<td>x = str(\"Hello World\")</td>\n",
    "<td>str</td>\n",
    "</tr>\n",
    "<tr>\n",
    "<td>x = int(20)</td>\n",
    "<td>int</td>\n",
    "</tr>\n",
    "<tr>\n",
    "<td>x = float(20.5)</td>\n",
    "<td>float</td>\n",
    "</tr>\n",
    "<tr>\n",
    "<td>x = complex(1j)</td>\n",
    "<td>complex</td>\n",
    "</tr>\n",
    "<tr>\n",
    "<td>x = list((\"apple\", \"banana\", \"cherry\"))</td>\n",
    "<td>list</td>\n",
    "</tr>\n",
    "<tr>\n",
    "<td>x = tuple((\"apple\", \"banana\", \"cherry\"))</td>\n",
    "<td>tuple</td>\n",
    "</tr>\n",
    "<tr>\n",
    "<td>x = range(6)</td>\n",
    "<td>range</td>\n",
    "</tr>\n",
    "<tr>\n",
    "<td>x = dict(name=\"John\", age=36)</td>\n",
    "<td>dict</td>\n",
    "</tr>\n",
    "<tr>\n",
    "<td>x = set((\"apple\", \"banana\", \"cherry\"))</td>\n",
    "<td>set</td>\n",
    "</tr>\n",
    "<tr>\n",
    "<td>x = frozenset((\"apple\", \"banana\", \"cherry\"))</td>\n",
    "<td>frozenset</td>\n",
    "</tr>\n",
    "<tr>\n",
    "<td>x = bool(5)</td>\n",
    "<td>bool</td>\n",
    "</tr>\n",
    "<tr>\n",
    "<td>x = bytes(5)</td>\n",
    "<td>bytes</td>\n",
    "</tr>\n",
    "<tr>\n",
    "<td>x = bytearray(5)</td>\n",
    "<td>bytearray</td>\n",
    "</tr>\n",
    "<tr>\n",
    "<td>x = memoryview(bytes(5))</td>\n",
    "<td>memoryview</td>\n",
    "</tr>\n",
    "</tbody></table>"
   ]
  },
  {
   "cell_type": "code",
   "execution_count": null,
   "metadata": {},
   "outputs": [],
   "source": [
    "x = tuple((\"apple\", \"banana\", \"cherry\"))\n",
    "type(x)"
   ]
  },
  {
   "cell_type": "markdown",
   "metadata": {},
   "source": [
    "<h2>Specify a Variable Type</h2>\n",
    "\n",
    "<p>There may be times when you want to specify a type on to a variable. This can be done with casting. Python is an object-orientated language, and as such it uses classes to define data types, including its primitive types.</p>\n",
    "\n",
    "<p>Casting in python is therefore done using constructor functions:</p>\n",
    "<ul>\n",
    "\t<li><span class=\"w3-codespan\">int()</span> - constructs an integer number from an integer literal, a float literal (by rounding down to the previous whole number), or a string literal (providing the string represents a whole number)</li>\n",
    "\t<li><span class=\"w3-codespan\">float()</span> - constructs a float number from an integer literal, a float literal or a string literal (providing the string represents a float or an integer)</li>\n",
    "\t<li><span class=\"w3-codespan\">str()</span> - constructs a string from a wide variety of data types, including strings, integer literals and float literals</li>\n",
    "</ul>"
   ]
  },
  {
   "cell_type": "code",
   "execution_count": null,
   "metadata": {},
   "outputs": [],
   "source": [
    "x = int(1)   # x will be 1\n",
    "y = int(2.8) # y will be 2\n",
    "z = int(\"3\") # z will be 3\n",
    "x = float(1)     # x will be 1.0\n",
    "y = float(2.8)   # y will be 2.8\n",
    "z = float(\"3\")   # z will be 3.0\n",
    "w = float(\"4.2\") # w will be 4.2"
   ]
  },
  {
   "cell_type": "markdown",
   "metadata": {},
   "source": [
    "# 2.Conditions"
   ]
  },
  {
   "cell_type": "markdown",
   "metadata": {},
   "source": [
    "<h2>Python Conditions and If statements</h2>\n",
    "<p>Python supports the usual logical conditions from mathematics:</p>\n",
    "<ul>\n",
    "<li>Equals: <span class=\"w3-codespan\">a == b</span></li>\n",
    "<li>Not Equals: <span class=\"w3-codespan\">a != b</span></li>\n",
    "<li>Less than: <span class=\"w3-codespan\">a &lt; b</span></li>\n",
    "<li>Less than or equal to: <span class=\"w3-codespan\">a &lt;= b</span></li>\n",
    "<li>Greater than: <span class=\"w3-codespan\">a &gt; b</span></li>\n",
    "<li>Greater than or equal to: <span class=\"w3-codespan\">a &gt;= b</span></li>\n",
    "</ul>\n",
    "<p>These conditions can be used in several ways, most commonly in \"if statements\" and loops.</p>\n",
    "\n",
    "<p>An \"if statement\" is written by using the <span class=\"w3-codespan\">if</span> keyword.</p>"
   ]
  },
  {
   "cell_type": "code",
   "execution_count": null,
   "metadata": {},
   "outputs": [],
   "source": [
    "a = 33\n",
    "b = 200\n",
    "if b > a:\n",
    "  print(\"b is greater than a\")"
   ]
  },
  {
   "cell_type": "markdown",
   "metadata": {},
   "source": [
    "<h2>Elif</h2>\n",
    "<p>The <span class=\"w3-codespan\">elif</span> keyword is pythons way of saying \"if the previous conditions were not true, then \n",
    "try this condition\".</p>"
   ]
  },
  {
   "cell_type": "code",
   "execution_count": null,
   "metadata": {},
   "outputs": [],
   "source": [
    "a = 33\n",
    "b = 33\n",
    "if b > a:\n",
    "  print(\"b is greater than a\")\n",
    "elif a == b:\n",
    "  print(\"a and b are equal\")"
   ]
  },
  {
   "cell_type": "markdown",
   "metadata": {},
   "source": [
    "<h2>Else</h2>\n",
    "<p>The <span class=\"w3-codespan\">else</span> keyword catches anything which isn't caught by the preceding conditions.</p>"
   ]
  },
  {
   "cell_type": "code",
   "execution_count": null,
   "metadata": {},
   "outputs": [],
   "source": [
    "a = 200\n",
    "b = 33\n",
    "if b > a:\n",
    "  print(\"b is greater than a\")\n",
    "elif a == b:\n",
    "  print(\"a and b are equal\")\n",
    "else:\n",
    "  print(\"a is greater than b\")"
   ]
  },
  {
   "cell_type": "markdown",
   "metadata": {},
   "source": [
    "<h2>Short Hand If</h2>\n",
    "\n",
    "<p>If you have only one statement to execute, you can put it on the same line as the if statement.</p>"
   ]
  },
  {
   "cell_type": "code",
   "execution_count": null,
   "metadata": {},
   "outputs": [],
   "source": [
    "if a > b: print(\"a is greater than b\")"
   ]
  },
  {
   "cell_type": "markdown",
   "metadata": {},
   "source": [
    "<h2>Short Hand If ... Else</h2>\n",
    "\n",
    "<p>If you have only one statement to execute, one for if, and one for else, you can put it \n",
    "all on the same line:</p>"
   ]
  },
  {
   "cell_type": "code",
   "execution_count": null,
   "metadata": {},
   "outputs": [],
   "source": [
    "a = 2\n",
    "b = 330\n",
    "print(\"A\") if a > b else print(\"B\") "
   ]
  },
  {
   "cell_type": "markdown",
   "metadata": {},
   "source": [
    "<h2>And</h2>\n",
    "<p>The <span class=\"w3-codespan\">and</span> keyword is a logical operator, and \n",
    "is used to combine conditional statements:</p>"
   ]
  },
  {
   "cell_type": "code",
   "execution_count": null,
   "metadata": {},
   "outputs": [],
   "source": [
    "a = 200\n",
    "b = 33\n",
    "c = 500\n",
    "if a > b and c > a:\n",
    "  print(\"Both conditions are True\")"
   ]
  },
  {
   "cell_type": "markdown",
   "metadata": {},
   "source": [
    "<h2>Or</h2>\n",
    "<p>The <code class=\"w3-codespan\">or</code> keyword is a logical operator, and \n",
    "is used to combine conditional statements:</p>"
   ]
  },
  {
   "cell_type": "code",
   "execution_count": null,
   "metadata": {},
   "outputs": [],
   "source": [
    "a = 200\n",
    "b = 33\n",
    "c = 500\n",
    "if a > b or a > c:\n",
    "  print(\"At least one of the conditions is True\")"
   ]
  },
  {
   "cell_type": "markdown",
   "metadata": {},
   "source": [
    "<h2>Nested If</h2>\n",
    "<p>You can have <code class=\"w3-codespan\">if</code> statements inside \n",
    "<code class=\"w3-codespan\">if</code> statements, this is called <em>nested</em>\n",
    "<code class=\"w3-codespan\">if</code> statements.</p>"
   ]
  },
  {
   "cell_type": "code",
   "execution_count": null,
   "metadata": {},
   "outputs": [],
   "source": [
    "x = 41\n",
    "\n",
    "if x > 10:\n",
    "  print(\"Above ten,\")\n",
    "  if x > 20:\n",
    "    print(\"and also above 20!\")\n",
    "  else:\n",
    "    print(\"but not above 20.\") "
   ]
  },
  {
   "cell_type": "markdown",
   "metadata": {},
   "source": [
    "<h2>The pass Statement</h2>\n",
    "<p><code class=\"w3-codespan\">if</code> statements cannot be empty, but if you \n",
    "for some reason have an <code class=\"w3-codespan\">if</code> statement with no content, put in the <code class=\"w3-codespan\">pass</code> statement to avoid getting an error.</p>"
   ]
  },
  {
   "cell_type": "code",
   "execution_count": null,
   "metadata": {},
   "outputs": [],
   "source": [
    "a = 33\n",
    "b = 200\n",
    "\n",
    "if b > a:\n",
    "  pass"
   ]
  },
  {
   "cell_type": "markdown",
   "metadata": {},
   "source": [
    "# 3. Basic Operators"
   ]
  },
  {
   "cell_type": "markdown",
   "metadata": {},
   "source": [
    "<p>Operators are the constructs which can manipulate the value of operands.</p>\n",
    "<p>Consider the expression 4 + 5 = 9. Here, 4 and 5 are called operands and + is called operator.</p>\n",
    "<h2>Types of Operator</h2>\n",
    "<p>Python language supports the following types of operators.</p>\n",
    "<ul class=\"list\">\n",
    "<li>Arithmetic Operators</li>\n",
    "<li>Comparison (Relational) Operators</li>\n",
    "<li>Assignment Operators</li>\n",
    "<li>Logical Operators</li>\n",
    "<li>Bitwise Operators</li>\n",
    "<li>Membership Operators</li>\n",
    "<li>Identity Operators</li>\n",
    "</ul>\n",
    "<p>Let us have a look on all operators one by one.</p>\n",
    "<h2>Python Arithmetic Operators</h2>\n",
    "<p>Assume variable a holds 10 and variable b holds 20, then −</p>\n",
    "<table class=\"table table-bordered\">\n",
    "<tbody><tr>\n",
    "<th style=\"text-align:center;width:10%\">Operator</th>\n",
    "<th style=\"text-align:center;width:45%\">Description</th>\n",
    "<th style=\"text-align:center;\">Example</th>\n",
    "</tr>\n",
    "<tr>\n",
    "<td class=\"ts\">+ Addition</td>\n",
    "<td>Adds values on either side of the operator.</td>\n",
    "<td class=\"ts\">a + b = 30</td>\n",
    "</tr>\n",
    "<tr>\n",
    "<td class=\"ts\">- Subtraction</td>\n",
    "<td>Subtracts right hand operand from left hand operand.</td>\n",
    "<td class=\"ts\">a – b = -10</td>\n",
    "</tr>\n",
    "<tr>\n",
    "<td class=\"ts\">* Multiplication</td>\n",
    "<td>Multiplies values on either side of the operator</td>\n",
    "<td class=\"ts\">a * b = 200</td>\n",
    "</tr>\n",
    "<tr>\n",
    "<td class=\"ts\">/ Division</td>\n",
    "<td>Divides left hand operand by right hand operand</td>\n",
    "<td class=\"ts\">b / a = 2</td>\n",
    "</tr>\n",
    "<tr>\n",
    "<td class=\"ts\">% Modulus</td>\n",
    "<td>Divides left hand operand by right hand operand and returns remainder</td>\n",
    "<td class=\"ts\">b % a = 0</td>\n",
    "</tr>\n",
    "<tr>\n",
    "<td class=\"ts\">** Exponent</td>\n",
    "<td>Performs exponential (power) calculation on operators</td>\n",
    "<td class=\"ts\">a**b =10 to the power 20</td>\n",
    "</tr>\n",
    "<tr>\n",
    "<td class=\"ts\">//</td>\n",
    "<td>Floor Division - The division of operands where the result is the quotient in which the digits after the decimal point are removed. But if one of the operands is negative, the result is floored, i.e., rounded away from zero (towards negative infinity) −</td>\n",
    "<td class=\"ts\">9//2 = 4 and 9.0//2.0 = 4.0, -11//3 = -4, -11.0//3 = -4.0</td>\n",
    "</tr>\n",
    "</tbody></table>\n",
    "<h2>Python Comparison Operators</h2>\n",
    "<p>These operators compare the values on either sides of them and decide the relation among them. They are also called Relational operators.</p>\n",
    "<p>Assume variable a holds 10 and variable b holds 20, then −</p>\n",
    "<table class=\"table table-bordered\">\n",
    "<tbody><tr>\n",
    "<th style=\"text-align:center;width:10%\">Operator</th>\n",
    "<th style=\"text-align:center;width:45%\">Description</th>\n",
    "<th style=\"text-align:center;\">Example</th>\n",
    "</tr>\n",
    "<tr>\n",
    "<td class=\"ts\">==</td>\n",
    "<td>If the values of two operands are equal, then the condition becomes true.</td>\n",
    "<td class=\"ts\">(a == b) is not true.</td>\n",
    "</tr>\n",
    "<tr>\n",
    "<td class=\"ts\">!=</td>\n",
    "<td>If values of two operands are not equal, then condition becomes true.</td>\n",
    "<td class=\"ts\">(a != b) is true.</td>\n",
    "</tr>\n",
    "<tr>\n",
    "<td class=\"ts\">&lt;&gt;</td>\n",
    "<td>If values of two operands are not equal, then condition becomes true.</td>\n",
    "<td class=\"ts\">(a &lt;&gt; b) is true. This is similar to != operator.</td>\n",
    "</tr>\n",
    "<tr>\n",
    "<td class=\"ts\">&gt;</td>\n",
    "<td>If the value of left operand is greater than the value of right operand, then condition becomes true.</td>\n",
    "<td class=\"ts\">(a &gt; b) is not true.</td>\n",
    "</tr>\n",
    "<tr>\n",
    "<td class=\"ts\">&lt;</td>\n",
    "<td>If the value of left operand is less than the value of right operand, then condition becomes true.</td>\n",
    "<td class=\"ts\">(a &lt; b) is true.</td>\n",
    "</tr>\n",
    "<tr>\n",
    "<td class=\"ts\">&gt;=</td>\n",
    "<td>If the value of left operand is greater than or equal to the value of right operand, then condition becomes true.</td>\n",
    "<td class=\"ts\">(a &gt;= b) is not true.</td>\n",
    "</tr>\n",
    "<tr>\n",
    "<td class=\"ts\">&lt;=</td>\n",
    "<td>If the value of left operand is less than or equal to the value of right operand, then condition becomes true.</td>\n",
    "<td class=\"ts\">(a &lt;= b) is true.</td>\n",
    "</tr>\n",
    "</tbody></table>\n",
    "<h2>Python Assignment Operators</h2>\n",
    "<p>Assume variable a holds 10 and variable b holds 20, then −</p>\n",
    "<table class=\"table table-bordered\">\n",
    "<tbody><tr>\n",
    "<th style=\"text-align:center;width:10%\">Operator</th>\n",
    "<th style=\"text-align:center;width:45%\">Description</th>\n",
    "<th style=\"text-align:center;\">Example</th>\n",
    "</tr>\n",
    "<tr>\n",
    "<td class=\"ts\">=</td>\n",
    "<td>Assigns values from right side operands to left side operand</td>\n",
    "<td style=\"vertical-align:middle;\">c = a + b assigns value of a + b into c</td>\n",
    "</tr>\n",
    "<tr>\n",
    "<td class=\"ts\">+= Add AND</td>\n",
    "<td>It adds right operand to the left operand and assign the result to left operand</td>\n",
    "<td style=\"vertical-align:middle;\">c += a is equivalent to c = c + a</td>\n",
    "</tr>\n",
    "<tr>\n",
    "<td class=\"ts\">-= Subtract AND</td>\n",
    "<td>It subtracts right operand from the left operand and assign the result to left operand</td>\n",
    "<td style=\"vertical-align:middle;\">c -= a is equivalent to c = c - a</td>\n",
    "</tr>\n",
    "<tr>\n",
    "<td class=\"ts\">*= Multiply AND</td>\n",
    "<td>It multiplies right operand with the left operand and assign the result to left operand</td>\n",
    "<td style=\"vertical-align:middle;\">c *= a is equivalent to c = c * a</td>\n",
    "</tr>\n",
    "<tr>\n",
    "<td class=\"ts\">/= Divide AND</td>\n",
    "<td>It divides left operand with the right operand and assign the result to left operand</td>\n",
    "<td style=\"vertical-align:middle;\">c /= a is equivalent to c = c / a\n",
    "</td>\n",
    "</tr>\n",
    "<tr>\n",
    "<td class=\"ts\">%= Modulus AND</td>\n",
    "<td>It takes modulus using two operands and assign the result to left operand</td>\n",
    "<td style=\"vertical-align:middle;\">c %= a is equivalent to c = c % a</td>\n",
    "</tr>\n",
    "<tr>\n",
    "<td class=\"ts\">**= Exponent AND</td>\n",
    "<td>Performs exponential (power) calculation on operators and assign value to the left operand</td>\n",
    "<td style=\"vertical-align:middle;\">c **= a is equivalent to c = c ** a</td>\n",
    "</tr>\n",
    "<tr>\n",
    "<td class=\"ts\">//= Floor Division</td>\n",
    "<td>It performs floor division on operators and assign value to the left operand</td>\n",
    "<td style=\"vertical-align:middle;\">c //= a is equivalent to c = c // a</td>\n",
    "</tr>\n",
    "</tbody></table>\n",
    "<h2>Python Bitwise Operators</h2>\n",
    "<p>Bitwise operator works on bits and performs bit by bit operation. Assume if a = 60; and b = 13; Now in the binary format their values will be 0011 1100 and 0000 1101 respectively. Following table lists out the bitwise operators supported by Python language with an example each in those, we use the above two variables (a and b) as operands −</p>\n",
    "<p>a = 0011 1100</p>\n",
    "<p>b = 0000 1101</p>\n",
    "<p>-----------------</p>\n",
    "<p>a&amp;b = 0000 1100</p>\n",
    "<p>a|b = 0011 1101</p>\n",
    "<p>a^b = 0011 0001</p>\n",
    "<p>~a&nbsp; = 1100 0011</p>\n",
    "<p>There are following Bitwise operators supported by Python language</p>\n",
    "<table class=\"table table-bordered\">\n",
    "<tbody><tr>\n",
    "<th style=\"text-align:center;width:10%\">Operator</th>\n",
    "<th style=\"text-align:center;width:45%\">Description</th>\n",
    "<th style=\"text-align:center;\">Example</th>\n",
    "</tr>\n",
    "<tr>\n",
    "<td class=\"ts\">&amp; Binary AND</td>\n",
    "<td>Operator copies a bit to the result if it exists in both operands</td>\n",
    "<td style=\"vertical-align:middle;\">(a &amp; b) (means 0000 1100)</td>\n",
    "</tr>\n",
    "<tr>\n",
    "<td class=\"ts\">| Binary OR</td>\n",
    "<td>It copies a bit if it exists in either operand.</td>\n",
    "<td style=\"vertical-align:middle;\">(a | b) = 61 (means 0011 1101)</td>\n",
    "</tr>\n",
    "<tr>\n",
    "<td class=\"ts\">^ Binary XOR</td>\n",
    "<td>It copies the bit if it is set in one operand but not both.</td>\n",
    "<td style=\"vertical-align:middle;\">(a ^ b) = 49 (means 0011 0001)</td>\n",
    "</tr>\n",
    "<tr>\n",
    "<td class=\"ts\">~ Binary Ones Complement</td>\n",
    "<td style=\"vertical-align:middle;\">It is unary and has the effect of 'flipping' bits.</td>\n",
    "<td style=\"vertical-align:middle;\">(~a ) = -61 (means 1100 0011 in 2's complement form due to a signed binary number.</td>\n",
    "</tr>\n",
    "<tr>\n",
    "<td class=\"ts\">&lt;&lt; Binary Left Shift</td>\n",
    "<td>The left operands value is moved left by the number of bits specified by the right operand.</td>\n",
    "<td style=\"vertical-align:middle;\">a &lt;&lt; 2 = 240 (means 1111 0000)</td>\n",
    "</tr>\n",
    "<tr>\n",
    "<td class=\"ts\">&gt;&gt; Binary Right Shift</td>\n",
    "<td>The left operands value is moved right by the number of bits specified by the right operand.</td>\n",
    "<td style=\"vertical-align:middle;\">a &gt;&gt; 2 = 15 (means 0000 1111)</td>\n",
    "</tr>\n",
    "</tbody></table>\n",
    "<h2>Python Logical Operators</h2>\n",
    "<p>There are following logical operators supported by Python language. Assume variable a holds 10 and variable b holds 20 then</p>\n",
    "<table class=\"table table-bordered\">\n",
    "<tbody><tr>\n",
    "<th style=\"text-align:center;width:10%\">Operator</th>\n",
    "<th style=\"text-align:center;width:45%\">Description</th>\n",
    "<th style=\"text-align:center;\">Example</th>\n",
    "</tr>\n",
    "<tr>\n",
    "<td>and Logical AND</td>\n",
    "<td class=\"ts\">If both the operands are true then condition becomes true.</td>\n",
    "<td class=\"ts\">(a and b) is true.</td>\n",
    "</tr>\n",
    "<tr>\n",
    "<td>or Logical OR</td>\n",
    "<td class=\"ts\">If any of the two operands are non-zero then condition becomes true.</td>\n",
    "<td class=\"ts\">(a or b) is true.</td>\n",
    "</tr>\n",
    "<tr>\n",
    "<td>not Logical NOT</td>\n",
    "<td class=\"ts\">Used to reverse the logical state of its operand.</td>\n",
    "<td class=\"ts\">Not(a and b) is false.</td>\n",
    "</tr>\n",
    "</tbody></table>\n",
    "<h2>Python Membership Operators</h2>\n",
    "<p>Python’s membership operators test for membership in a sequence, such as strings, lists, or tuples. There are two membership operators as explained below −</p>\n",
    "<table class=\"table table-bordered\">\n",
    "<tbody><tr>\n",
    "<th style=\"text-align:center;width:10%\">Operator</th>\n",
    "<th style=\"text-align:center;width:45%\">Description</th>\n",
    "<th style=\"text-align:center;\">Example</th>\n",
    "</tr>\n",
    "<tr>\n",
    "<td class=\"ts\">in</td>\n",
    "<td>Evaluates to true if it finds a variable in the specified sequence and false otherwise.</td>\n",
    "<td style=\"vertical-align:middle;\">x in y, here in results in a 1 if x is a member of sequence y.</td>\n",
    "</tr>\n",
    "<tr>\n",
    "<td class=\"ts\">not in</td>\n",
    "<td>Evaluates to true if it does not finds a variable in the specified sequence and false otherwise.</td>\n",
    "<td>x not in y, here not in results in a 1 if x is not a member of sequence y.</td>\n",
    "</tr>\n",
    "</tbody></table>\n",
    "<h2>Python Identity Operators</h2>\n",
    "<p>Identity operators compare the memory locations of two objects. There are two Identity operators explained below −</p>\n",
    "<table class=\"table table-bordered\">\n",
    "<tbody><tr>\n",
    "<th style=\"text-align:center;width:10%\">Operator</th>\n",
    "<th style=\"text-align:center;width:45%\">Description</th>\n",
    "<th style=\"text-align:center;\">Example</th>\n",
    "</tr>\n",
    "<tr>\n",
    "<td class=\"ts\">is</td>\n",
    "<td>Evaluates to true if the variables on either side of the operator point to the same object and false otherwise.</td>\n",
    "<td style=\"vertical-align:middle;\">x is y, here <b>is</b> results in 1 if id(x) equals id(y).</td>\n",
    "</tr>\n",
    "<tr>\n",
    "<td class=\"ts\">is not</td>\n",
    "<td>Evaluates to false if the variables on either side of the operator point to the same object and true otherwise.</td>\n",
    "<td style=\"vertical-align:middle;\">x is not y, here <b>is not</b> results in 1 if id(x) is not equal to id(y).</td>\n",
    "</tr>\n",
    "</tbody></table>\n",
    "<h2>Python Operators Precedence</h2>\n",
    "<p>The following table lists all operators from highest precedence to lowest.</p>\n",
    "<table class=\"table table-bordered\">\n",
    "<tbody><tr>\n",
    "<th style=\"text-align:center;\">Sr.No.</th>\n",
    "<th style=\"text-align:center;\">Operator &amp; Description</th>\n",
    "</tr>\n",
    "<tr>\n",
    "<td class=\"ts\">1</td>\n",
    "<td><p><b>**</b></p>\n",
    "<p>Exponentiation (raise to the power)</p></td>\n",
    "</tr>\n",
    "<tr>\n",
    "<td class=\"ts\">2</td>\n",
    "<td><p><b>~ + -</b></p>\n",
    "<p>Complement, unary plus and minus (method names for the last two are +@ and -@)</p></td>\n",
    "</tr>\n",
    "<tr>\n",
    "<td class=\"ts\">3</td>\n",
    "<td><p><b>* / % //</b></p>\n",
    "<p>Multiply, divide, modulo and floor division</p></td>\n",
    "</tr>\n",
    "<tr>\n",
    "<td class=\"ts\">4</td>\n",
    "<td><p><b>+ -</b></p>\n",
    "<p>Addition and subtraction</p></td>\n",
    "</tr>\n",
    "<tr>\n",
    "<td class=\"ts\">5</td>\n",
    "<td><p><b>&gt;&gt; &lt;&lt;</b></p>\n",
    "<p>Right and left bitwise shift</p></td>\n",
    "</tr>\n",
    "<tr>\n",
    "<td class=\"ts\">6</td>\n",
    "<td><p><b>&amp;</b></p>\n",
    "<p>Bitwise 'AND'</p></td>\n",
    "</tr>\n",
    "<tr>\n",
    "<td class=\"ts\">7</td>\n",
    "<td><p><b>^ |</b></p>\n",
    "<p>Bitwise exclusive `OR' and regular `OR'</p></td>\n",
    "</tr>\n",
    "<tr>\n",
    "<td class=\"ts\">8</td>\n",
    "<td><p><b>&lt;= &lt; &gt; &gt;=</b></p>\n",
    "<p>Comparison operators</p></td>\n",
    "</tr>\n",
    "<tr>\n",
    "<td class=\"ts\">9</td>\n",
    "<td><p><b>&lt;&gt; == !=</b></p>\n",
    "<p>Equality operators</p></td>\n",
    "</tr>\n",
    "<tr>\n",
    "<td class=\"ts\">10</td>\n",
    "<td><p><b>= %= /= //= -= += *= **=</b></p>\n",
    "<p>Assignment operators</p></td>\n",
    "</tr>\n",
    "<tr>\n",
    "<td class=\"ts\">11</td>\n",
    "<td><p><b>is is not</b></p>\n",
    "<p>Identity operators</p></td>\n",
    "</tr>\n",
    "<tr>\n",
    "<td class=\"ts\">12</td>\n",
    "<td><p><b>in not in</b></p>\n",
    "<p>Membership operators</p></td>\n",
    "</tr>\n",
    "<tr>\n",
    "<td class=\"ts\">13</td>\n",
    "<td><p><b>not or and</b></p>\n",
    "<p>Logical operators</p></td>\n",
    "</tr>\n",
    "</tbody></table>"
   ]
  },
  {
   "cell_type": "markdown",
   "metadata": {},
   "source": [
    "# 4. Loops"
   ]
  },
  {
   "cell_type": "markdown",
   "metadata": {},
   "source": [
    "<h2>while</h2>\n",
    "<p>A <b>while</b> loop statement in Python programming language repeatedly executes a target statement as long as a given condition is true.</p>\n",
    "<h3>Syntax</h3>\n",
    "<p>The syntax of a <b>while</b> loop in Python programming language is −</p>\n",
    "<pre class=\"result notranslate\">while expression:\n",
    "   statement(s)\n",
    "</pre>\n",
    "<p>Here, <b>statement(s)</b> may be a single statement or a block of statements. The <b>condition</b> may be any expression, and true is any non-zero value. The loop iterates while the condition is true.</p>\n",
    "<p>When the condition becomes false, program control passes to the line immediately following the loop.</p>\n",
    "<p>In Python, all the statements indented by the same number of character spaces after a programming construct are considered to be part of a single block of code. Python uses indentation as its method of grouping statements.</p>\n",
    "<h3>Flow Diagram</h3>\n",
    "<img src=\"/python/images/python_while_loop.jpg\" alt=\"while loop in Python\">\n",
    "<p>Here, key point of the while loop is that the loop might not ever run. When the condition is tested and the result is false, the loop body will be skipped and the first statement after the while loop will be executed.</p>\n",
    "<h3>Example</h3>"
   ]
  },
  {
   "cell_type": "code",
   "execution_count": null,
   "metadata": {},
   "outputs": [],
   "source": [
    "#!/usr/bin/python\n",
    "\n",
    "count = 0\n",
    "while (count < 9):\n",
    "    print('The count is:', count)\n",
    "    count = count + 1\n",
    "\n",
    "print(\"Good bye!\")"
   ]
  },
  {
   "cell_type": "markdown",
   "metadata": {},
   "source": [
    "<p>When the above code is executed, it produces the following result −</p>\n",
    "<pre class=\"result notranslate\">The count is: 0\n",
    "The count is: 1\n",
    "The count is: 2\n",
    "The count is: 3\n",
    "The count is: 4\n",
    "The count is: 5\n",
    "The count is: 6\n",
    "The count is: 7\n",
    "The count is: 8\n",
    "Good bye!\n",
    "</pre>\n",
    "<p>The block here, consisting of the print and increment statements, is executed repeatedly until count is no longer less than 9. With each iteration, the current value of the index count is displayed and then increased by 1.</p>\n",
    "<h2>The Infinite Loop</h2>\n",
    "<p>A loop becomes infinite loop if a condition never becomes FALSE. You must use caution when using while loops because of the possibility that this condition never resolves to a FALSE value. This results in a loop that never ends. Such a loop is called an infinite loop.</p>\n",
    "<p>An infinite loop might be useful in client/server programming where the server needs to run continuously so that client programs can communicate with it as and when required.</p>"
   ]
  },
  {
   "cell_type": "code",
   "execution_count": null,
   "metadata": {},
   "outputs": [],
   "source": [
    "#!/usr/bin/python\n",
    "\n",
    "var = 1\n",
    "while var == 1 :  # This constructs an infinite loop\n",
    "    num = input(\"Enter a number  :\")\n",
    "    print(\"You entered: \", num)\n",
    "\n",
    "print(\"Good bye!\")"
   ]
  },
  {
   "cell_type": "markdown",
   "metadata": {},
   "source": [
    "<p>When the above code is executed, it produces the following result −</p>\n",
    "<pre class=\"result notranslate\">Enter a number  :20\n",
    "You entered:  20\n",
    "Enter a number  :29\n",
    "You entered:  29\n",
    "Enter a number  :3\n",
    "You entered:  3\n",
    "Enter a number between :Traceback (most recent call last):\n",
    "   File \"test.py\", line 5, in &lt;module&gt;\n",
    "      num = raw_input(\"Enter a number :\")\n",
    "KeyboardInterrupt\n",
    "</pre>\n",
    "<p>Above example goes in an infinite loop and you need to use CTRL+C to exit the program.</p>\n",
    "<h2>Using else Statement with While Loop</h2>\n",
    "<p>Python supports to have an <b>else</b> statement associated with a loop statement.</p>\n",
    "<ul class=\"list\">\n",
    "<li><p>If the <b>else</b> statement is used with a <b>while</b> loop, the <b>else</b> statement is executed when the condition becomes false.</p></li>\n",
    "</ul>\n",
    "<p>The following example illustrates the combination of an else statement with a while statement that prints a number as long as it is less than 5, otherwise else statement gets executed.</p>"
   ]
  },
  {
   "cell_type": "code",
   "execution_count": null,
   "metadata": {},
   "outputs": [],
   "source": [
    "#!/usr/bin/python\n",
    "\n",
    "count = 0\n",
    "while count < 5:\n",
    "    print(count, \" is  less than 5\")\n",
    "    count = count + 1\n",
    "else:\n",
    "    print(count, \" is not less than 5\")"
   ]
  },
  {
   "cell_type": "markdown",
   "metadata": {},
   "source": [
    "<p>When the above code is executed, it produces the following result −</p>\n",
    "<pre class=\"result notranslate\">0 is less than 5\n",
    "1 is less than 5\n",
    "2 is less than 5\n",
    "3 is less than 5\n",
    "4 is less than 5\n",
    "5 is not less than 5\n",
    "</pre>\n",
    "<h2>Single Statement Suites</h2>\n",
    "<p>Similar to the <b>if</b> statement syntax, if your <b>while</b> clause consists only of a single statement, it may be placed on the same line as the while header.</p>\n",
    "<p>Here is the syntax and example of a <b>one-line while</b> clause −</p>"
   ]
  },
  {
   "cell_type": "code",
   "execution_count": null,
   "metadata": {},
   "outputs": [],
   "source": [
    "#!/usr/bin/python\n",
    "\n",
    "flag = 1\n",
    "while (flag): print('Given flag is really true!')\n",
    "print(\"Good bye!\")"
   ]
  },
  {
   "cell_type": "markdown",
   "metadata": {},
   "source": [
    "<p>It is better not try above example because it goes into infinite loop and you need to press CTRL+C keys to exit.</p>"
   ]
  },
  {
   "cell_type": "markdown",
   "metadata": {},
   "source": [
    "<h2>For</h2>\n",
    "<p>It has the ability to iterate over the items of any sequence, such as a list or a string.</p>\n",
    "<h3>Syntax</h3>\n",
    "<pre class=\"result notranslate\">for iterating_var in sequence:\n",
    "   statements(s)\n",
    "</pre>\n",
    "<p>If a sequence contains an expression list, it is evaluated first. Then, the first item in the sequence is assigned to the iterating variable <i>iterating_var</i>. Next, the statements block is executed. Each item in the list is assigned to <i>iterating_var</i>, and the statement(s) block is executed until the entire sequence is exhausted.</p>\n",
    "<h3>Flow Diagram</h3>\n",
    "<img src=\"/python/images/python_for_loop.jpg\" alt=\"for loop in Python\">\n",
    "<h3>Example</h3>"
   ]
  },
  {
   "cell_type": "code",
   "execution_count": 1,
   "metadata": {},
   "outputs": [
    {
     "name": "stdout",
     "output_type": "stream",
     "text": [
      "Current Letter : P\n",
      "Current Letter : y\n",
      "Current Letter : t\n",
      "Current Letter : h\n",
      "Current Letter : o\n",
      "Current Letter : n\n",
      "Current fruit : banana\n",
      "Current fruit : apple\n",
      "Current fruit : mango\n",
      "Good bye!\n"
     ]
    }
   ],
   "source": [
    "#!/usr/bin/python\n",
    "\n",
    "for letter in 'Python':     # First Example\n",
    "    print('Current Letter :', letter)\n",
    "\n",
    "fruits = ['banana', 'apple',  'mango']\n",
    "for fruit in fruits:        # Second Example\n",
    "    print('Current fruit :', fruit)\n",
    "\n",
    "print(\"Good bye!\")"
   ]
  },
  {
   "cell_type": "markdown",
   "metadata": {},
   "source": [
    "<p>When the above code is executed, it produces the following result −</p>\n",
    "<pre class=\"result notranslate\">Current Letter : P\n",
    "Current Letter : y\n",
    "Current Letter : t\n",
    "Current Letter : h\n",
    "Current Letter : o\n",
    "Current Letter : n\n",
    "Current fruit : banana\n",
    "Current fruit : apple\n",
    "Current fruit : mango\n",
    "Good bye!\n",
    "</pre>\n",
    "<h2>Iterating by Sequence Index</h2>\n",
    "<p>An alternative way of iterating through each item is by index offset into the sequence itself. Following is a simple example −</p>"
   ]
  },
  {
   "cell_type": "code",
   "execution_count": 2,
   "metadata": {},
   "outputs": [
    {
     "name": "stdout",
     "output_type": "stream",
     "text": [
      "Current fruit : banana\n",
      "Current fruit : apple\n",
      "Current fruit : mango\n",
      "Good bye!\n"
     ]
    }
   ],
   "source": [
    "#!/usr/bin/python\n",
    "\n",
    "fruits = ['banana', 'apple',  'mango']\n",
    "for index in range(len(fruits)):\n",
    "    print('Current fruit :', fruits[index])\n",
    "\n",
    "print(\"Good bye!\")"
   ]
  },
  {
   "cell_type": "markdown",
   "metadata": {},
   "source": [
    "<p>When the above code is executed, it produces the following result −</p>\n",
    "<pre class=\"result notranslate\">Current fruit : banana\n",
    "Current fruit : apple\n",
    "Current fruit : mango\n",
    "Good bye!\n",
    "</pre>\n",
    "<p>Here, we took the assistance of the len() built-in function, which provides the total number of elements in the tuple as well as the range() built-in function to give us the actual sequence to iterate over.</p>\n"
   ]
  },
  {
   "cell_type": "markdown",
   "metadata": {},
   "source": [
    "<h2>Break</h2>\n",
    "<p>It terminates the current loop and resumes execution at the next statement, just like the traditional break statement in C.</p>\n",
    "<p>The most common use for break is when some external condition is triggered requiring a hasty exit from a loop. The <b>break</b> statement can be used in both <i>while</i> and <i>for</i> loops.</p>\n",
    "<p>If you are using nested loops, the break statement stops the execution of the innermost loop and start executing the next line of code after the block.</p>\n",
    "<h2>Syntax</h2>\n",
    "<p>The syntax for a <b>break</b> statement in Python is as follows −</p>\n",
    "<pre class=\"result notranslate\">break\n",
    "</pre>\n",
    "<h2>Flow Diagram</h2>\n",
    "<img src=\"/python/images/cpp_break_statement.jpg\" alt=\"Python break statement\">\n",
    "<h2>Example</h2>"
   ]
  },
  {
   "cell_type": "code",
   "execution_count": 5,
   "metadata": {},
   "outputs": [
    {
     "name": "stdout",
     "output_type": "stream",
     "text": [
      "Current Letter : P\n",
      "Current Letter : y\n",
      "Current Letter : t\n",
      "Current variable value : 10\n",
      "Current variable value : 9\n",
      "Current variable value : 8\n",
      "Current variable value : 7\n",
      "Current variable value : 6\n",
      "Good bye!\n"
     ]
    }
   ],
   "source": [
    "#!/usr/bin/python\n",
    "\n",
    "for letter in 'Python':     # First Example\n",
    "    if letter == 'h':\n",
    "        break\n",
    "    print('Current Letter :', letter)\n",
    "\n",
    "var = 10                    # Second Example\n",
    "while var > 0:              \n",
    "    print('Current variable value :', var)\n",
    "    var = var -1\n",
    "    if var == 5:\n",
    "        break\n",
    "\n",
    "print(\"Good bye!\")"
   ]
  },
  {
   "cell_type": "markdown",
   "metadata": {},
   "source": [
    "<p>When the above code is executed, it produces the following result −</p>\n",
    "<pre class=\"result notranslate\">Current Letter : P\n",
    "Current Letter : y\n",
    "Current Letter : t\n",
    "Current variable value : 10\n",
    "Current variable value : 9\n",
    "Current variable value : 8\n",
    "Current variable value : 7\n",
    "Current variable value : 6\n",
    "Good bye!"
   ]
  },
  {
   "cell_type": "markdown",
   "metadata": {},
   "source": [
    "## continue \n",
    "<p>It returns the control to the beginning of the while loop.. The <b>continue</b> statement rejects all the remaining statements in the current iteration of the loop and moves the control back to the top of the loop.</p>\n",
    "<p>The <b>continue</b> statement can be used in both <i>while</i> and <i>for</i> loops.</p>\n",
    "<h2>Syntax</h2>\n",
    "<pre class=\"result notranslate\">continue\n",
    "</pre>\n",
    "<h2>Flow Diagram</h2>\n",
    "<img src=\"/python/images/cpp_continue_statement.jpg\" alt=\"Python continue statement\">\n",
    "<h2>Example</h2>"
   ]
  },
  {
   "cell_type": "code",
   "execution_count": 6,
   "metadata": {},
   "outputs": [
    {
     "name": "stdout",
     "output_type": "stream",
     "text": [
      "Current Letter : P\n",
      "Current Letter : y\n",
      "Current Letter : t\n",
      "Current Letter : o\n",
      "Current Letter : n\n",
      "Current variable value : 9\n",
      "Current variable value : 8\n",
      "Current variable value : 7\n",
      "Current variable value : 6\n",
      "Current variable value : 4\n",
      "Current variable value : 3\n",
      "Current variable value : 2\n",
      "Current variable value : 1\n",
      "Current variable value : 0\n",
      "Good bye!\n"
     ]
    }
   ],
   "source": [
    "#!/usr/bin/python\n",
    "\n",
    "for letter in 'Python':     # First Example\n",
    "    if letter == 'h':\n",
    "        continue\n",
    "    print('Current Letter :', letter)\n",
    "\n",
    "var = 10                    # Second Example\n",
    "while var > 0:              \n",
    "    var = var -1\n",
    "    if var == 5:\n",
    "        continue\n",
    "    print('Current variable value :', var)\n",
    "print(\"Good bye!\")"
   ]
  },
  {
   "cell_type": "markdown",
   "metadata": {},
   "source": [
    "<p>When the above code is executed, it produces the following result −</p>\n",
    "<pre class=\"result notranslate\">Current Letter : P\n",
    "Current Letter : y\n",
    "Current Letter : t\n",
    "Current Letter : o\n",
    "Current Letter : n\n",
    "Current variable value : 9\n",
    "Current variable value : 8\n",
    "Current variable value : 7\n",
    "Current variable value : 6\n",
    "Current variable value : 4\n",
    "Current variable value : 3\n",
    "Current variable value : 2\n",
    "Current variable value : 1\n",
    "Current variable value : 0\n",
    "Good bye!"
   ]
  },
  {
   "cell_type": "markdown",
   "metadata": {},
   "source": [
    "<h2>Using else Statement with For Loop</h2>\n",
    "<p>Python supports to have an else statement associated with a loop statement</p>\n",
    "<ul class=\"list\">\n",
    "<li><p>If the <b>else</b> statement is used with a <b>for</b> loop, the <b>else</b> statement is executed when the loop has exhausted iterating the list.</p></li>\n",
    "</ul>\n",
    "<p>The following example illustrates the combination of an else statement with a for statement that searches for prime numbers from 10 through 20.</p>"
   ]
  },
  {
   "cell_type": "code",
   "execution_count": 3,
   "metadata": {},
   "outputs": [
    {
     "name": "stdout",
     "output_type": "stream",
     "text": [
      "10 equals 2 * 5\n",
      "11 is a prime number\n"
     ]
    }
   ],
   "source": [
    "#!/usr/bin/python\n",
    "\n",
    "for num in range(10,20):     #to iterate between 10 to 20\n",
    "    for i in range(2,num):    #to iterate on the factors of the number\n",
    "        if num%i == 0:         #to determine the first factor\n",
    "            j=num/i             #to calculate the second factor\n",
    "            print('%d equals %d * %d' % (num,i,j))\n",
    "            break #to move to the next number, the #first FOR\n",
    "    else:                  # else part of the loop\n",
    "        print(num, 'is a prime number')\n",
    "        break"
   ]
  },
  {
   "cell_type": "markdown",
   "metadata": {},
   "source": [
    "<p>When the above code is executed, it produces the following result −</p>\n",
    "<pre class=\"result notranslate\">10 equals 2 * 5\n",
    "11 is a prime number\n",
    "12 equals 2 * 6\n",
    "13 is a prime number\n",
    "14 equals 2 * 7\n",
    "15 equals 3 * 5\n",
    "16 equals 2 * 8\n",
    "17 is a prime number\n",
    "18 equals 2 * 9\n",
    "19 is a prime number"
   ]
  },
  {
   "cell_type": "markdown",
   "metadata": {},
   "source": [
    "## Nested Loops\n",
    "<p>Python programming language allows to use one loop inside another loop. Following section shows few examples to illustrate the concept.</p>\n",
    "<h2>Syntax</h2>\n",
    "<pre class=\"result notranslate\">for iterating_var in sequence:\n",
    "   for iterating_var in sequence:\n",
    "      statements(s)\n",
    "   statements(s)\n",
    "</pre>\n",
    "<p>The syntax for a <b>nested while loop</b> statement in Python programming language is as follows −</p>\n",
    "<pre class=\"result notranslate\">while expression:\n",
    "   while expression:\n",
    "      statement(s)\n",
    "   statement(s)\n",
    "</pre>\n",
    "<p>A final note on loop nesting is that you can put any type of loop inside of any other type of loop. For example a for loop can be inside a while loop or vice versa.</p>\n",
    "<h2>Example</h2>\n",
    "<p>The following program uses a nested for loop to find the prime numbers from 2 to 100 −</p>"
   ]
  },
  {
   "cell_type": "code",
   "execution_count": 8,
   "metadata": {},
   "outputs": [
    {
     "name": "stdout",
     "output_type": "stream",
     "text": [
      "2  is prime\n",
      "3  is prime\n",
      "5  is prime\n",
      "7  is prime\n",
      "11  is prime\n",
      "13  is prime\n",
      "17  is prime\n",
      "19  is prime\n",
      "23  is prime\n",
      "29  is prime\n",
      "31  is prime\n",
      "37  is prime\n",
      "41  is prime\n",
      "43  is prime\n",
      "47  is prime\n",
      "53  is prime\n",
      "59  is prime\n",
      "61  is prime\n",
      "67  is prime\n",
      "71  is prime\n",
      "73  is prime\n",
      "79  is prime\n",
      "83  is prime\n",
      "89  is prime\n",
      "97  is prime\n",
      "Good bye!\n"
     ]
    }
   ],
   "source": [
    "#!/usr/bin/python\n",
    "\n",
    "i = 2\n",
    "while(i < 100):\n",
    "    j = 2\n",
    "    while(j <= (i/j)):\n",
    "        if not(i%j): break\n",
    "        j = j + 1\n",
    "    if (j > i/j) : print(i, \" is prime\")\n",
    "    i = i + 1\n",
    "\n",
    "print(\"Good bye!\")"
   ]
  },
  {
   "cell_type": "markdown",
   "metadata": {},
   "source": [
    "<p>When the above code is executed, it produces following result −</p>\n",
    "<pre class=\"result notranslate\">2 is prime\n",
    "3 is prime\n",
    "5 is prime\n",
    "7 is prime\n",
    "11 is prime\n",
    "13 is prime\n",
    "17 is prime\n",
    "19 is prime\n",
    "23 is prime\n",
    "29 is prime\n",
    "31 is prime\n",
    "37 is prime\n",
    "41 is prime\n",
    "43 is prime\n",
    "47 is prime\n",
    "53 is prime\n",
    "59 is prime\n",
    "61 is prime\n",
    "67 is prime\n",
    "71 is prime\n",
    "73 is prime\n",
    "79 is prime\n",
    "83 is prime\n",
    "89 is prime\n",
    "97 is prime\n",
    "Good bye!"
   ]
  },
  {
   "cell_type": "markdown",
   "metadata": {},
   "source": [
    "## Pass Statement\n",
    "<p>It is used when a statement is required syntactically but you do not want any command or code to execute.</p>\n",
    "<p>The <b>pass</b> statement is a <i>null</i> operation; nothing happens when it executes. The <b>pass</b> is also useful in places where your code will eventually go, but has not been written yet (e.g., in stubs for example) −</p>\n",
    "<h2>Syntax</h2>\n",
    "<pre class=\"result notranslate\">pass\n",
    "</pre>\n",
    "<h2>Example</h2>"
   ]
  },
  {
   "cell_type": "code",
   "execution_count": 10,
   "metadata": {},
   "outputs": [
    {
     "name": "stdout",
     "output_type": "stream",
     "text": [
      "Current Letter : P\n",
      "Current Letter : y\n",
      "Current Letter : t\n",
      "This is pass block\n",
      "Current Letter : h\n",
      "Current Letter : o\n",
      "Current Letter : n\n",
      "Good bye!\n"
     ]
    }
   ],
   "source": [
    "for letter in 'Python': \n",
    "    if letter == 'h':\n",
    "        pass\n",
    "        print('This is pass block')\n",
    "    print('Current Letter :', letter)\n",
    "\n",
    "print(\"Good bye!\")"
   ]
  },
  {
   "cell_type": "markdown",
   "metadata": {},
   "source": [
    "<p>When the above code is executed, it produces following result −</p>\n",
    "<pre class=\"result notranslate\">Current Letter : P\n",
    "Current Letter : y\n",
    "Current Letter : t\n",
    "This is pass block\n",
    "Current Letter : h\n",
    "Current Letter : o\n",
    "Current Letter : n\n",
    "Good bye!"
   ]
  },
  {
   "cell_type": "code",
   "execution_count": null,
   "metadata": {},
   "outputs": [],
   "source": []
  },
  {
   "cell_type": "markdown",
   "metadata": {},
   "source": [
    "## Operations\n",
    "- Priority of Operations"
   ]
  },
  {
   "cell_type": "markdown",
   "metadata": {},
   "source": [
    "## Control Flow\n",
    "- if/else/elif\n",
    "- while\n",
    "- for \n",
    "- switch(!)"
   ]
  },
  {
   "cell_type": "code",
   "execution_count": null,
   "metadata": {},
   "outputs": [],
   "source": [
    "condition = 4\n",
    "if condition<=3:\n",
    "    print('first!')\n",
    "else:\n",
    "    if condition<=5 and condition>3:\n",
    "        print('second!')\n",
    "    else:\n",
    "        print('what ever!')"
   ]
  },
  {
   "cell_type": "markdown",
   "metadata": {},
   "source": [
    "## Common Methods\n",
    "Based On Objects ... "
   ]
  },
  {
   "cell_type": "markdown",
   "metadata": {},
   "source": [
    "## Working with Files \n",
    "- Text Files \n",
    "- Object Serialization  \n",
    "More on this ... "
   ]
  },
  {
   "cell_type": "markdown",
   "metadata": {},
   "source": [
    "## Popular Function Notations \n",
    "- lambda \n",
    "- map\n",
    "- filter \n",
    "- reduce\n"
   ]
  },
  {
   "cell_type": "code",
   "execution_count": null,
   "metadata": {},
   "outputs": [],
   "source": [
    "def my_double(x):\n",
    "    return x*2\n",
    "lambda_my_double = lambda x:2*x\n",
    "test_lambda = lambda x, y:(x+y, x/y)\n",
    "# my_double(4)\n",
    "# lambda_my_double(4)\n",
    "test_lambda(4, 6)"
   ]
  },
  {
   "cell_type": "markdown",
   "metadata": {},
   "source": [
    "## Comprehensions \n",
    "- for\n",
    "- list\n",
    "- dict \n",
    "- sets ...\n",
    "- generators ...\n"
   ]
  },
  {
   "cell_type": "code",
   "execution_count": null,
   "metadata": {},
   "outputs": [],
   "source": [
    "\n",
    "# Constructing output list WITHOUT \n",
    "# Using List comprehensions \n",
    "input_list = [1, 2, 3, 4, 4, 5, 6, 7, 7] \n",
    "  \n",
    "output_list = [] \n",
    "  \n",
    "# Using loop for constructing output list \n",
    "for var in input_list: \n",
    "    if var % 2 == 0: \n",
    "        output_list.append(var) \n",
    "print(\"Output List using for loop:\", output_list) \n",
    "\n",
    "input_list = [1, 2, 3, 4, 4, 5, 6, 7, 7] \n",
    "  \n",
    "list_using_comp = [var for var in input_list if var % 2 == 0] \n",
    "  \n",
    "print(\"Output List using list comprehensions:\", \n",
    "                               list_using_comp) \n"
   ]
  },
  {
   "cell_type": "code",
   "execution_count": null,
   "metadata": {},
   "outputs": [],
   "source": [
    "\n",
    "input_list = [1, 2, 3, 4, 5, 6, 7] \n",
    "  \n",
    "output_dict = {} \n",
    "  \n",
    "# Using loop for constructing output dictionary \n",
    "for var in input_list: \n",
    "    if var % 2 != 0: \n",
    "        output_dict[var] = var**3\n",
    "print(\"Output Dictionary using for loop:\", \n",
    "                             output_dict ) \n",
    "input_list = [1,2,3,4,5,6,7] \n",
    "  \n",
    "dict_using_comp = {var:var ** 3 for var in input_list if var % 2 != 0} \n",
    "  \n",
    "print(\"Output Dictionary using dictionary comprehensions:\", \n",
    "                                           dict_using_comp) "
   ]
  },
  {
   "cell_type": "code",
   "execution_count": null,
   "metadata": {},
   "outputs": [],
   "source": [
    "\n",
    "state = ['Gujarat', 'Maharashtra', 'Rajasthan'] \n",
    "capital = ['Gandhinagar', 'Mumbai', 'Jaipur'] \n",
    "  \n",
    "output_dict = {} \n",
    "  \n",
    "# Using loop for constructing output dictionary \n",
    "for (key, value) in zip(state, capital): \n",
    "    output_dict[key] = value \n",
    "print(\"Output Dictionary using for loop:\", \n",
    "                              output_dict) \n",
    "state = ['Gujarat', 'Maharashtra', 'Rajasthan'] \n",
    "capital = ['Gandhinagar', 'Mumbai', 'Jaipur'] \n",
    "  \n",
    "dict_using_comp = {key:value for (key, value) in zip(state, capital)} \n",
    "  \n",
    "print(\"Output Dictionary using dictionary comprehensions:\",  \n",
    "                                           dict_using_comp) \n"
   ]
  },
  {
   "cell_type": "markdown",
   "metadata": {},
   "source": [
    "# Object Oriented Programming"
   ]
  },
  {
   "cell_type": "markdown",
   "metadata": {},
   "source": [
    "<p>Python has been an object-oriented language since it existed. Because of this, creating and using classes and objects are downright easy. This chapter helps you become an expert in using Python's object-oriented programming support.</p>\n",
    "<p>If you do not have any previous experience with object-oriented (OO) programming, you may want to consult an introductory course on it or at least a tutorial of some sort so that you have a grasp of the basic concepts.</p>\n",
    "<p>However, here is small introduction of Object-Oriented Programming (OOP) to bring you at speed −</p>\n",
    "<h2>Overview of OOP Terminology</h2>\n",
    "<ul class=\"list\">\n",
    "<li><p><b>Class</b> − A user-defined prototype for an object that defines a set of attributes that characterize any object of the class. The attributes are data members (class variables and instance variables) and methods, accessed via dot notation.</p></li>\n",
    "<li><p><b>Class variable</b> − A variable that is shared by all instances of a class. Class variables are defined within a class but outside any of the class's methods. Class variables are not used as frequently as instance variables are.</p></li>\n",
    "<li><p><b>Data member</b> − A class variable or instance variable that holds data associated with a class and its objects.</p></li>\n",
    "<li><p><b>Function overloading</b> − The assignment of more than one behavior to a particular function. The operation performed varies by the types of objects or arguments involved.</p></li>\n",
    "<li><p><b>Instance variable</b> − A variable that is defined inside a method and belongs only to the current instance of a class.</p></li>\n",
    "<li><p><b>Inheritance</b> − The transfer of the characteristics of a class to other classes that are derived from it.</p></li>\n",
    "<li><p><b>Instance</b> −  An individual object of a certain class. An object obj that belongs to a class Circle, for example, is an instance of the class Circle.</p></li>\n",
    "<li><p><b>Instantiation</b> − The creation of an instance of a class.</p></li>\n",
    "<li><p><b>Method</b> − A special kind of function that is defined in a class definition.</p></li>\n",
    "<li><p><b>Object</b> − A unique instance of a data structure that's defined by its class. An object comprises both data members (class variables and instance variables) and methods.</p></li>\n",
    "<li><p><b>Operator overloading</b> − The assignment of more than one function to a particular operator.</p>"
   ]
  },
  {
   "cell_type": "markdown",
   "metadata": {},
   "source": [
    "<h2>Creating Classes</h2>\n",
    "<p>The <i>class</i> statement creates a new class definition. The name of the class immediately follows the keyword <i>class</i> followed by a colon as follows −</p>\n",
    "<pre class=\"result notranslate\">class ClassName:\n",
    "   'Optional class documentation string'\n",
    "   class_suite\n",
    "</pre>\n",
    "<ul class=\"list\">\n",
    "<li><p>The class has a documentation string, which can be accessed via <i>ClassName.__doc__</i>.</p></li>\n",
    "<li><p>The <i>class_suite</i> consists of all the component statements defining class members, data attributes and functions.</p>"
   ]
  },
  {
   "cell_type": "markdown",
   "metadata": {},
   "source": [
    "<h3>Example</h3>\n",
    "<p>Following is the example of a simple Python class −</p>"
   ]
  },
  {
   "cell_type": "code",
   "execution_count": null,
   "metadata": {},
   "outputs": [],
   "source": [
    "class Employee:\n",
    "    'Common base class for all employees'\n",
    "    empCount = 0\n",
    "    \n",
    "    def __init__(self, name, salary):\n",
    "        self.name = name\n",
    "        self.salary = salary\n",
    "        Employee.empCount += 1\n",
    "   \n",
    "    def displayCount(self):\n",
    "        print(\"Total Employee %d\" % Employee.empCount)\n",
    "\n",
    "    def displayEmployee(self):\n",
    "        print(\"Name : \", self.name,  \", Salary: \", self.salary)"
   ]
  },
  {
   "cell_type": "markdown",
   "metadata": {},
   "source": [
    "<ul class=\"list\">\n",
    "<li><p>The variable <i>empCount</i> is a class variable whose value is shared among all instances of a this class. This can be accessed as <i>Employee.empCount</i> from inside the class or outside the class.</p></li>\n",
    "<li><p>The first method <i>__init__()</i> is a special method, which is called class constructor or initialization method that Python calls when you create a new instance of this class.</p></li>\n",
    "<li><p>You declare other class methods like normal functions with the exception that the first argument to each method is <i>self</i>. Python adds the <i>self</i> argument to the list for you; you do not need to include it when you call the methods.</p></li>\n",
    "</ul>"
   ]
  },
  {
   "cell_type": "markdown",
   "metadata": {},
   "source": [
    "<h2>Creating Instance Objects</h2>\n",
    "<p>To create instances of a class, you call the class using class name and pass in whatever arguments its <i>__init__</i> method accepts.</p>\n",
    "<pre class=\"result notranslate\">\"This would create first object of Employee class\"\n",
    "emp1 = Employee(\"Zara\", 2000)\n",
    "\"This would create second object of Employee class\"\n",
    "emp2 = Employee(\"Manni\", 5000)\n",
    "</pre>\n",
    "<h2>Accessing Attributes</h2>\n",
    "<p>You access the object's attributes using the dot operator with object. Class variable would be accessed using class name as follows −</p>\n",
    "<pre class=\"result notranslate\">emp1.displayEmployee()\n",
    "emp2.displayEmployee()\n",
    "print \"Total Employee %d\" % Employee.empCount\n",
    "</pre>\n",
    "<p>Now, putting all  the concepts together −</p>"
   ]
  },
  {
   "cell_type": "code",
   "execution_count": null,
   "metadata": {},
   "outputs": [],
   "source": [
    "#!/usr/bin/python\n",
    "\n",
    "class Employee:\n",
    "    'Common base class for all employees'\n",
    "    empCount = 0\n",
    "\n",
    "    def __init__(self, name, salary):\n",
    "        self.name = name\n",
    "        self.salary = salary\n",
    "        Employee.empCount += 1\n",
    "   \n",
    "    def displayCount(self):\n",
    "        print(\"Total Employee %d\" % Employee.empCount)\n",
    "\n",
    "    def displayEmployee(self):\n",
    "        print(\"Name : \", self.name,  \", Salary: \", self.salary)\n",
    "\n",
    "\"This would create first object of Employee class\"\n",
    "emp1 = Employee(\"Zara\", 2000)\n",
    "\"This would create second object of Employee class\"\n",
    "emp2 = Employee(\"Manni\", 5000)\n",
    "emp1.displayEmployee()\n",
    "emp2.displayEmployee()\n",
    "print(\"Total Employee %d\" % Employee.empCount)"
   ]
  },
  {
   "cell_type": "markdown",
   "metadata": {},
   "source": [
    "<p>When the above code is  executed, it produces the following result −</p>\n",
    "<pre class=\"result notranslate\">Name :  Zara ,Salary:  2000\n",
    "Name :  Manni ,Salary:  5000\n",
    "Total Employee 2\n",
    "</pre>\n",
    "<p>You can add, remove, or modify attributes of classes and objects at any time −</p>\n",
    "<pre class=\"result notranslate\">emp1.age = 7  # Add an 'age' attribute.\n",
    "emp1.age = 8  # Modify 'age' attribute.\n",
    "del emp1.age  # Delete 'age' attribute.\n",
    "</pre>\n",
    "<p>Instead of using the normal statements to access attributes, you can use the following functions −</p>\n",
    "<ul class=\"list\">\n",
    "<li><p>The <b>getattr(obj, name[, default])</b> − to access the attribute of object.</p></li>\n",
    "<li><p>The <b>hasattr(obj,name)</b> − to check if an attribute exists or not.</p></li>\n",
    "<li><p>The <b>setattr(obj,name,value)</b> − to set an attribute. If attribute does not exist, then it would be created.</p></li>\n",
    "<li><p>The <b>delattr(obj, name)</b> − to delete an attribute.</p></li>\n",
    "</ul>\n",
    "<pre class=\"result notranslate\">hasattr(emp1, 'age')    # Returns true if 'age' attribute exists\n",
    "getattr(emp1, 'age')    # Returns value of 'age' attribute\n",
    "setattr(emp1, 'age', 8) # Set attribute 'age' at 8\n",
    "delattr(empl, 'age')    # Delete attribute 'age'"
   ]
  },
  {
   "cell_type": "markdown",
   "metadata": {},
   "source": [
    "<h2>Built-In Class Attributes</h2>\n",
    "<p>Every Python class keeps following built-in attributes and they can be accessed using dot operator like any other attribute −</p>\n",
    "<ul class=\"list\">\n",
    "<li><p><b>__dict__</b> − Dictionary containing the class's namespace.</p></li>\n",
    "<li><p><b>__doc__</b> − Class documentation string or none, if undefined. </p></li>\n",
    "<li><p><b>__name__</b> − Class name.</p></li>\n",
    "<li><p><b>__module__</b> − Module name in which the class is defined. This attribute is \"__main__\" in interactive mode. </p></li>\n",
    "<li><p><b>__bases__</b> − A possibly empty tuple containing the base classes, in the order of their occurrence in the base class list.</p></li>\n",
    "</ul>\n",
    "<p>For the above class let us try to access all these attributes −</p>"
   ]
  },
  {
   "cell_type": "code",
   "execution_count": null,
   "metadata": {},
   "outputs": [],
   "source": [
    "#!/usr/bin/python\n",
    "\n",
    "class Employee:\n",
    "    'Common base class for all employees'\n",
    "    empCount = 0\n",
    "\n",
    "    def __init__(self, name, salary):\n",
    "        self.name = name\n",
    "        self.salary = salary\n",
    "        Employee.empCount += 1\n",
    "   \n",
    "    def displayCount(self):\n",
    "        print(\"Total Employee %d\" % Employee.empCount)\n",
    "\n",
    "    def displayEmployee(self):\n",
    "        print(\"Name : \", self.name,  \", Salary: \", self.salary)\n",
    "\n",
    "print(\"Employee.__doc__:\", Employee.__doc__)\n",
    "print(\"Employee.__name__:\", Employee.__name__)\n",
    "print(\"Employee.__module__:\", Employee.__module__)\n",
    "print(\"Employee.__bases__:\", Employee.__bases__)\n",
    "print(\"Employee.__dict__:\", Employee.__dict__)"
   ]
  },
  {
   "cell_type": "markdown",
   "metadata": {},
   "source": [
    "<p>When the above code is  executed, it produces the following result −</p>\n",
    "<pre class=\"result notranslate\">Employee.__doc__: Common base class for all employees\n",
    "Employee.__name__: Employee\n",
    "Employee.__module__: __main__\n",
    "Employee.__bases__: ()\n",
    "Employee.__dict__: {'__module__': '__main__', 'displayCount':\n",
    "&lt;function displayCount at 0xb7c84994&gt;, 'empCount': 2, \n",
    "'displayEmployee': &lt;function displayEmployee at 0xb7c8441c&gt;, \n",
    "'__doc__': 'Common base class for all employees', \n",
    "'__init__': &lt;function __init__ at 0xb7c846bc&gt;}\n",
    "</pre>\n",
    "<h2>Destroying Objects (Garbage Collection)</h2>\n",
    "<p>Python deletes unneeded objects (built-in types or class instances) automatically to free the memory space. The process by which Python periodically reclaims blocks of memory that no longer are in use is termed Garbage Collection.</p>\n",
    "<p>Python's garbage collector runs during program execution and is triggered when an object's reference count reaches zero. An object's reference count changes as the number of aliases that point to it changes.</p>\n",
    "<p>An object's reference count increases when it is assigned a new name or placed in a container (list, tuple, or dictionary). The object's reference count decreases when it's deleted with <i>del</i>, its reference is reassigned, or its reference goes out of scope. When an object's reference count reaches zero, Python collects it automatically.</p>\n",
    "<pre class=\"result notranslate\">a = 40      # Create object &lt;40&gt;\n",
    "b = a       # Increase ref. count  of &lt;40&gt; \n",
    "c = [b]     # Increase ref. count  of &lt;40&gt; \n",
    "\n",
    "del a       # Decrease ref. count  of &lt;40&gt;\n",
    "b = 100     # Decrease ref. count  of &lt;40&gt; \n",
    "c[0] = -1   # Decrease ref. count  of &lt;40&gt; \n",
    "</pre>\n",
    "<p>You normally will not notice when the garbage collector destroys an orphaned instance and reclaims its space. But a class can implement the special method <i>__del__()</i>, called a destructor, that is invoked when the instance is about to be destroyed. This method might be used to clean up any non memory resources used by an instance.</p>\n",
    "<h3>Example</h3>\n",
    "<p>This __del__() destructor prints the class name of an instance that is about to be destroyed −</p>"
   ]
  },
  {
   "cell_type": "code",
   "execution_count": null,
   "metadata": {},
   "outputs": [],
   "source": [
    "#!/usr/bin/python\n",
    "\n",
    "class Point:\n",
    "    def __init__( self, x=0, y=0):\n",
    "        self.x = x\n",
    "        self.y = y\n",
    "    def __del__(self):\n",
    "        class_name = self.__class__.__name__\n",
    "        print(class_name, \"destroyed\")\n",
    "\n",
    "pt1 = Point()\n",
    "pt2 = pt1\n",
    "pt3 = pt1\n",
    "print(id(pt1), id(pt2), id(pt3)) # prints the ids of the obejcts\n",
    "del pt1\n",
    "del pt2\n",
    "del pt3"
   ]
  },
  {
   "cell_type": "markdown",
   "metadata": {},
   "source": [
    "<p>When the above code is  executed, it produces following result −</p>\n",
    "<pre class=\"result notranslate\">3083401324 3083401324 3083401324\n",
    "Point destroyed\n",
    "</pre>\n",
    "<p><b>Note</b> − Ideally, you should define your classes in separate file, then you should import them in your main program file using <i>import</i> statement.</p>\n",
    "<h2>Class Inheritance</h2>\n",
    "<p>Instead of starting from scratch, you can create a class by deriving it from a preexisting class by listing the parent class in parentheses after the new class name.</p>\n",
    "<p>The child class inherits the attributes of its parent class, and you can use those attributes as if they were defined in the child class. A child class can also override data members and methods from the parent.</p>\n",
    "<h3>Syntax</h3>\n",
    "<p>Derived classes are declared much like their parent class; however, a list of base classes to inherit from is given after the class name −</p>\n",
    "<pre class=\"prettyprint notranslate prettyprinted\" style=\"\"><span class=\"kwd\">class</span><span class=\"pln\"> </span><span class=\"typ\">SubClassName</span><span class=\"pln\"> </span><span class=\"pun\">(</span><span class=\"typ\">ParentClass1</span><span class=\"pun\">[,</span><span class=\"pln\"> </span><span class=\"typ\">ParentClass2</span><span class=\"pun\">,</span><span class=\"pln\"> </span><span class=\"pun\">...]):</span><span class=\"pln\">\n",
    "   </span><span class=\"str\">'Optional class documentation string'</span><span class=\"pln\">\n",
    "   class_suite</span></pre>\n",
    "<h3>Example</h3>"
   ]
  },
  {
   "cell_type": "code",
   "execution_count": null,
   "metadata": {},
   "outputs": [],
   "source": [
    "#!/usr/bin/python\n",
    "\n",
    "class Parent:        # define parent class\n",
    "    parentAttr = 100\n",
    "    def __init__(self):\n",
    "        print(\"Calling parent constructor\")\n",
    "\n",
    "    def parentMethod(self):\n",
    "        print('Calling parent method')\n",
    "\n",
    "    def setAttr(self, attr):\n",
    "        Parent.parentAttr = attr\n",
    "\n",
    "    def getAttr(self):\n",
    "        print(\"Parent attribute :\", Parent.parentAttr)\n",
    "\n",
    "class Child(Parent): # define child class\n",
    "    def __init__(self):\n",
    "        print(\"Calling child constructor\")\n",
    "\n",
    "    def childMethod(self):\n",
    "        print('Calling child method')\n",
    "\n",
    "c = Child()          # instance of child\n",
    "c.childMethod()      # child calls its method\n",
    "c.parentMethod()     # calls parent's method\n",
    "c.setAttr(200)       # again call parent's method\n",
    "c.getAttr()          # again call parent's method"
   ]
  },
  {
   "cell_type": "markdown",
   "metadata": {},
   "source": [
    "<p>When the above code is  executed, it produces the following result −</p>\n",
    "<pre class=\"result notranslate\">Calling child constructor\n",
    "Calling child method\n",
    "Calling parent method\n",
    "Parent attribute : 200\n",
    "</pre>\n",
    "<p>Similar way, you can drive a class from multiple parent classes as follows −</p>\n",
    "<pre class=\"result notranslate\">class A:        # define your class A\n",
    ".....\n",
    "\n",
    "class B:         # define your class B\n",
    ".....\n",
    "\n",
    "class C(A, B):   # subclass of A and B\n",
    ".....\n",
    "</pre>\n",
    "<p>You can use issubclass() or isinstance() functions to check a relationships of two classes and instances.</p>\n",
    "<ul class=\"list\">\n",
    "<li><p>The <b>issubclass(sub, sup)</b> boolean function returns true if the given subclass <b>sub</b> is indeed a subclass of the superclass <b>sup</b>.</p></li>\n",
    "<li><p>The <b>isinstance(obj, Class)</b> boolean function returns true if <i>obj</i> is an instance of class <i>Class</i> or is an instance of a subclass of Class</p></li>\n",
    "</ul>\n",
    "<h2>Overriding Methods</h2>\n",
    "<p>You can always override your parent class methods. One reason for overriding parent's methods is because you may want special or different functionality in your subclass.</p>\n",
    "<h3>Example</h3>"
   ]
  },
  {
   "cell_type": "code",
   "execution_count": null,
   "metadata": {},
   "outputs": [],
   "source": [
    "#!/usr/bin/python\n",
    "\n",
    "class Parent:        # define parent class\n",
    "    def myMethod(self):\n",
    "        print('Calling parent method')\n",
    "\n",
    "class Child(Parent): # define child class\n",
    "    def myMethod(self):\n",
    "        print('Calling child method')\n",
    "\n",
    "c = Child()          # instance of child\n",
    "c.myMethod()         # child calls overridden method"
   ]
  },
  {
   "cell_type": "markdown",
   "metadata": {},
   "source": [
    "<p>When the above code is  executed, it produces the following result −</p>\n",
    "<pre class=\"prettyprint notranslate prettyprinted\" style=\"\"><span class=\"typ\">Calling</span><span class=\"pln\"> child method</span></pre>\n",
    "<h2>Base Overloading Methods</h2>\n",
    "<p>Following table lists some generic functionality that you can override in your own classes −</p>\n",
    "<table class=\"table table-bordered\">\n",
    "<tbody><tr>\n",
    "<th style=\"text-align:center;width:10%\">Sr.No.</th>\n",
    "<th style=\"text-align:center;\">Method, Description &amp; Sample Call</th>\n",
    "</tr>\n",
    "<tr>\n",
    "<td class=\"ts\">1</td>\n",
    "<td><p><b>__init__ ( self [,args...] )</b></p>\n",
    "<p>Constructor (with any optional arguments)</p>\n",
    "<p>Sample Call : <i>obj = className(args)</i></p></td>\n",
    "</tr>\n",
    "<tr>\n",
    "<td class=\"ts\">2</td>\n",
    "<td><p><b>__del__( self )</b></p>\n",
    "<p>Destructor, deletes an object</p>\n",
    "<p>Sample Call : <i>del obj</i></p></td>\n",
    "</tr>\n",
    "<tr>\n",
    "<td class=\"ts\">3</td>\n",
    "<td><p><b>__repr__( self )</b></p>\n",
    "<p>Evaluable string representation</p>\n",
    "<p>Sample Call : <i>repr(obj)</i></p></td>\n",
    "</tr>\n",
    "<tr>\n",
    "<td class=\"ts\">4</td>\n",
    "<td><p><b>__str__( self )</b></p>\n",
    "<p>Printable string representation</p>\n",
    "<p>Sample Call : <i>str(obj)</i></p></td>\n",
    "</tr>\n",
    "<tr>\n",
    "<td class=\"ts\">5</td>\n",
    "<td><p><b>__cmp__ ( self, x )</b></p>\n",
    "<p>Object comparison</p>\n",
    "<p>Sample Call : <i>cmp(obj, x)</i></p></td>\n",
    "</tr>\n",
    "</tbody></table>\n",
    "<h2>Overloading Operators</h2>\n",
    "<p>Suppose you have created a Vector class to represent two-dimensional vectors, what happens when you use the plus operator to add them? Most likely Python will yell at you.</p>\n",
    "<p>You could, however, define the <i>__add__</i> method in your class to perform vector addition and then the plus operator would behave as per expectation −</p>\n",
    "<h3>Example</h3>"
   ]
  },
  {
   "cell_type": "code",
   "execution_count": 11,
   "metadata": {},
   "outputs": [
    {
     "name": "stdout",
     "output_type": "stream",
     "text": [
      "Vector (7, 8)\n"
     ]
    }
   ],
   "source": [
    "#!/usr/bin/python\n",
    "\n",
    "class Vector:\n",
    "    def __init__(self, a, b):\n",
    "        self.a = a\n",
    "        self.b = b\n",
    "\n",
    "    def __str__(self):\n",
    "        return('Vector (%d, %d)' % (self.a, self.b))\n",
    "    \n",
    "    def __add__(self,other):\n",
    "        return Vector(self.a + other.a, self.b + other.b)\n",
    "\n",
    "v1 = Vector(2,10)\n",
    "v2 = Vector(5,-2)\n",
    "print(v1 + v2)"
   ]
  },
  {
   "cell_type": "markdown",
   "metadata": {},
   "source": [
    "<p>When the above code is  executed, it produces the following result −</p>\n",
    "<pre class=\"result notranslate\">Vector(7,8)\n",
    "</pre>\n",
    "<h2>Data Hiding</h2>\n",
    "<p>An object's attributes may or may not be visible outside the class definition. You need to name attributes with a double underscore prefix, and those attributes then are not be directly visible to outsiders.</p>\n",
    "<h3>Example</h3>"
   ]
  },
  {
   "cell_type": "code",
   "execution_count": null,
   "metadata": {},
   "outputs": [],
   "source": [
    "#!/usr/bin/python\n",
    "\n",
    "class JustCounter:\n",
    "    __secretCount = 0\n",
    "  \n",
    "    def count(self):\n",
    "        self.__secretCount += 1\n",
    "        print(self.__secretCount)\n",
    "\n",
    "counter = JustCounter()\n",
    "counter.count()\n",
    "counter.count()\n",
    "print(counter.__secretCount)"
   ]
  },
  {
   "cell_type": "markdown",
   "metadata": {},
   "source": [
    "<p>When the above code is  executed, it produces the following result −</p>\n",
    "<pre class=\"result notranslate\">1\n",
    "2\n",
    "Traceback (most recent call last):\n",
    "   File \"test.py\", line 12, in &lt;module&gt;\n",
    "      print counter.__secretCount\n",
    "AttributeError: JustCounter instance has no attribute '__secretCount'\n",
    "</pre>\n",
    "<p>Python protects those members by internally changing the name to include the class name. You can access such attributes as <i>object._className__attrName</i>. If you would replace your last line as following, then it works for you −</p>\n",
    "<pre class=\"result notranslate\">.........................\n",
    "print counter._JustCounter__secretCount\n",
    "</pre>\n",
    "<p>When the above code is  executed, it produces the following result −</p>\n",
    "<pre class=\"result notranslate\">1\n",
    "2\n",
    "2"
   ]
  },
  {
   "cell_type": "markdown",
   "metadata": {},
   "source": [
    "# Python - Files I/O"
   ]
  },
  {
   "cell_type": "markdown",
   "metadata": {},
   "source": [
    "<p>This chapter covers all the basic I/O functions available in Python. For more functions, please refer to standard Python documentation.</p>\n",
    "<h2>Printing to the Screen</h2>\n",
    "<p>The simplest way to produce output is using the <i>print</i> statement where you can pass zero or more expressions separated by commas. This function converts the expressions you pass into a string and writes the result to standard output as follows −</p>"
   ]
  },
  {
   "cell_type": "code",
   "execution_count": null,
   "metadata": {},
   "outputs": [],
   "source": [
    "#!/usr/bin/python\n",
    "\n",
    "print(\"Python is really a great language,\", \"isn't it?\")"
   ]
  },
  {
   "cell_type": "markdown",
   "metadata": {},
   "source": [
    "<p>This produces the following result on your standard screen −</p>\n",
    "<pre class=\"result notranslate\">Python is really a great language, isn't it?\n",
    "</pre>\n",
    "<h2>Reading Keyboard Input</h2>\n",
    "<p>Python provides two built-in functions to read a line of text from standard input, which by default comes from the keyboard. These functions are −</p>\n",
    "<ul class=\"list\">\n",
    "<li>raw_input (deprecated in python>3.5)</li>\n",
    "<li>input</li>\n",
    "</ul>\n",
    "<h2>The <i>input</i> Function</h2>\n",
    "<p>The <i>input([prompt])</i> function is equivalent to raw_input, except that it doesn't evaluate the result.</p>"
   ]
  },
  {
   "cell_type": "code",
   "execution_count": null,
   "metadata": {},
   "outputs": [],
   "source": [
    "#!/usr/bin/python\n",
    "\n",
    "str = input(\"Enter your input: \")\n",
    "print(\"Received input is : \", eval(str))\n"
   ]
  },
  {
   "cell_type": "markdown",
   "metadata": {},
   "source": [
    "<p>This would produce the following result against the entered input −</p>\n",
    "<pre class=\"result notranslate\">Enter your input: [x*5 for x in range(2,10,2)]\n",
    "Recieved input is :  [10, 20, 30, 40]"
   ]
  },
  {
   "cell_type": "markdown",
   "metadata": {},
   "source": [
    "<h2>Opening and Closing Files</h2>\n",
    "<p>Until now, you have been reading and writing to the standard input and output. Now, we will see how to use actual data files.</p>\n",
    "<p>Python provides basic functions and methods necessary to manipulate files by default. You can do most of the file manipulation using a <b>file</b> object.</p>\n",
    "<h2>The <i>open</i> Function</h2>\n",
    "<p>Before you can read or write a file, you have to open it using Python's built-in <i>open()</i> function. This function creates a <b>file</b> object, which would be utilized to call other support methods associated with it.</p>\n",
    "<h3>Syntax</h3>\n",
    "<pre class=\"result notranslate\">file object = open(file_name [, access_mode][, buffering])\n",
    "</pre>\n",
    "<p>Here are parameter details −</p>\n",
    "<ul class=\"list\">\n",
    "<li><p><b>file_name</b> − The file_name argument is a string value that contains the name of the file that you want to access.</p></li>\n",
    "<li><p><b>access_mode</b> − The access_mode determines the mode in which the file has to be opened, i.e., read, write, append, etc. A complete list of possible values is given below in the table. This is optional parameter and the default file access mode is read (r).</p></li>\n",
    "<li><p><b>buffering</b> − If the buffering value is set to 0, no buffering  takes place. If the buffering value is 1, line buffering is performed while accessing a file. If you specify the buffering value as an integer greater than 1, then buffering action is performed with the indicated buffer size. If negative, the buffer size is the system default(default behavior).</p></li>\n",
    "</ul>\n",
    "<p>Here is a list of the different modes of opening a file −</p>\n",
    "<table class=\"table table-bordered\">\n",
    "<tbody><tr>\n",
    "<th style=\"text-align:center;\">Sr.No.</th>\n",
    "<th style=\"text-align:center;\">Modes &amp; Description</th>\n",
    "</tr>\n",
    "<tr>\n",
    "<td class=\"ts\">1</td>\n",
    "<td><p><b>r</b></p>\n",
    "<p>Opens a file for reading only. The file pointer is placed at the beginning of the file. This is the default mode.</p></td>\n",
    "</tr>\n",
    "<tr>\n",
    "<td class=\"ts\">2</td>\n",
    "<td><p><b>rb</b></p>\n",
    "<p>Opens a file for reading only in binary format. The file pointer is placed at the beginning of the file. This is the default mode.</p></td>\n",
    "</tr>\n",
    "<tr>\n",
    "<td class=\"ts\">3</td>\n",
    "<td><p><b>r+</b></p>\n",
    "<p>Opens a file for both reading and writing. The file pointer placed at the beginning of the file.</p></td>\n",
    "</tr>\n",
    "<tr>\n",
    "<td class=\"ts\">4</td>\n",
    "<td><p><b>rb+</b></p>\n",
    "<p>Opens a file for both reading and writing in binary format. The file pointer placed at the beginning of the file.</p></td>\n",
    "</tr>\n",
    "<tr>\n",
    "<td class=\"ts\">5</td>\n",
    "<td><p><b>w</b></p>\n",
    "<p>Opens a file for writing only. Overwrites the file if the file exists. If the file does not exist, creates a new file for writing.</p></td>\n",
    "</tr>\n",
    "<tr>\n",
    "<td class=\"ts\">6</td>\n",
    "<td><p><b>wb</b></p>\n",
    "<p>Opens a file for writing only in binary format. Overwrites the file if the file exists. If the file does not exist, creates a new file for writing.</p></td>\n",
    "</tr>\n",
    "<tr>\n",
    "<td class=\"ts\">7</td>\n",
    "<td><p><b>w+</b></p>\n",
    "<p>Opens a file for both writing and reading. Overwrites the existing file if the file exists. If the file does not exist, creates a new file for reading and writing.</p></td>\n",
    "</tr> \n",
    "<tr>\n",
    "<td class=\"ts\">8</td>\n",
    "<td><p><b>wb+</b></p>\n",
    "<p>Opens a file for both writing and reading in binary format. Overwrites the existing file if the file exists. If the file does not exist, creates a new file for reading and writing.</p></td>\n",
    "</tr>\n",
    "<tr>\n",
    "<td class=\"ts\">9</td>\n",
    "<td><p><b>a</b></p>\n",
    "<p>Opens a file for appending. The file pointer is at the end of the file if the file exists. That is, the file is in the append mode. If the file does not exist, it creates a new file for writing.</p></td>\n",
    "</tr> \n",
    "<tr>\n",
    "<td class=\"ts\">10</td>\n",
    "<td><p><b>ab</b></p>\n",
    "<p>Opens a file for appending in binary format. The file pointer is at the end of the file if the file exists. That is, the file is in the append mode. If the file does not exist, it creates a new file for writing.</p></td>\n",
    "</tr> \n",
    "<tr>\n",
    "<td class=\"ts\">11</td>\n",
    "<td><p><b>a+</b></p>\n",
    "<p>Opens a file for both appending and reading. The file pointer is at the end of the file if the file exists. The file opens in the append mode. If the file does not exist, it creates a new file for reading and writing.</p></td>\n",
    "</tr> \n",
    "<tr>\n",
    "<td class=\"ts\">12</td>\n",
    "<td><p><b>ab+</b></p>\n",
    "<p>Opens a file for both appending and reading in binary format. The file pointer is at the end of the file if the file exists. The file opens in the append mode. If the file does not exist, it creates a new file for reading and writing.</p></td>\n",
    "</tr>\n",
    "</tbody></table>\n",
    "<h2>The <i>file</i> Object Attributes</h2>\n",
    "<p>Once a file is opened and you have one <i>file</i> object, you can get various information related to that file.</p>\n",
    "<p>Here is a list of all attributes related to file object −</p>\n",
    "<table class=\"table table-bordered\">\n",
    "<tbody><tr>\n",
    "<th style=\"text-align:center;\">Sr.No.</th>\n",
    "<th style=\"text-align:center;\">Attribute &amp; Description</th>\n",
    "</tr>\n",
    "<tr>\n",
    "<td class=\"ts\">1</td>\n",
    "<td><p><b>file.closed</b></p>\n",
    "<p>Returns true if file is closed, false otherwise.</p></td>\n",
    "</tr>\n",
    "<tr>\n",
    "<td class=\"ts\">2</td>\n",
    "<td><p><b>file.mode</b></p>\n",
    "<p>Returns access mode with which file was opened.</p></td>\n",
    "</tr>\n",
    "<tr>\n",
    "<td class=\"ts\">3</td>\n",
    "<td><p><b>file.name</b></p>\n",
    "<p>Returns name of the file.</p></td>\n",
    "</tr>\n",
    "<tr>\n",
    "<td class=\"ts\">4</td>\n",
    "<td><p><b>file.softspace</b></p>\n",
    "<p>Returns false if space explicitly required with print, true otherwise.</p></td>\n",
    "</tr>\n",
    "</tbody></table>\n",
    "<h3>Example</h3>"
   ]
  },
  {
   "cell_type": "code",
   "execution_count": null,
   "metadata": {},
   "outputs": [],
   "source": [
    "#!/usr/bin/python\n",
    "\n",
    "# Open a file\n",
    "fo = open(\"foo.txt\", \"wb\")\n",
    "print(\"Name of the file: \", fo.name)\n",
    "print(\"Closed or not : \", fo.closed)\n",
    "print(\"Opening mode : \", fo.mode)"
   ]
  },
  {
   "cell_type": "markdown",
   "metadata": {},
   "source": [
    "<p>This produces the following result −</p>\n",
    "<pre class=\"result notranslate\">Name of the file:  foo.txt\n",
    "Closed or not :  False\n",
    "Opening mode :  wb\n",
    "Softspace flag :  0\n",
    "</pre>\n",
    "<h2>The <i>close()</i> Method</h2>\n",
    "<p>The close() method of a <i>file</i> object flushes any unwritten information and closes the file object, after which no more writing can be done.</p>\n",
    "<p>Python automatically closes a file when the reference object of a file is reassigned to another file. It is a good practice to use the close() method to close a file.</p>\n",
    "<h3>Syntax</h3>\n",
    "<pre class=\"result notranslate\">fileObject.close()\n",
    "</pre>\n",
    "<h3>Example</h3>"
   ]
  },
  {
   "cell_type": "code",
   "execution_count": null,
   "metadata": {},
   "outputs": [],
   "source": [
    "#!/usr/bin/python\n",
    "\n",
    "# Open a file\n",
    "fo = open(\"foo.txt\", \"wb\")\n",
    "print(\"Name of the file: \", fo.name)\n",
    "\n",
    "# Close opend file\n",
    "fo.close()"
   ]
  },
  {
   "cell_type": "markdown",
   "metadata": {},
   "source": [
    "<p>This produces the following result −</p>\n",
    "<pre class=\"result notranslate\">Name of the file:  foo.txt\n",
    "</pre>\n",
    "<h2>Reading and Writing Files</h2>\n",
    "<p>The <i>file</i> object provides a set of access methods to make our lives easier. We would see how to use <i>read()</i> and <i>write()</i> methods to read and write files.</p>\n",
    "<h2>The <i>write()</i> Method</h2>\n",
    "<p>The <i>write()</i> method writes any string to an open file. It is important to note that Python strings can have binary data and not just text.</p>\n",
    "<p>The write() method does not add a newline character ('\\n') to the end of the string −</p>\n",
    "<h3>Syntax</h3>\n",
    "<pre class=\"result notranslate\">fileObject.write(string)\n",
    "</pre>\n",
    "<p>Here, passed parameter is the content to be written into the opened file.</p>\n",
    "<h3>Example</h3>"
   ]
  },
  {
   "cell_type": "code",
   "execution_count": null,
   "metadata": {},
   "outputs": [],
   "source": [
    "#!/usr/bin/python\n",
    "\n",
    "# Open a file\n",
    "fo = open(\"foo.txt\", \"wb\")\n",
    "mystring = \"Python is a great language.\\nYeah its great!!\\n\"\n",
    "b = bytes(mystring, 'utf-8')\n",
    "fo.write(b)\n",
    "\n",
    "# Close opend file\n",
    "fo.close()"
   ]
  },
  {
   "cell_type": "markdown",
   "metadata": {},
   "source": [
    "<p>The above method would create <i>foo.txt</i> file and would write given content in that file and finally it would close that file. If you would open this file, it would have following content.</p>\n",
    "<pre class=\"result notranslate\">Python is a great language.\n",
    "Yeah its great!!\n",
    "</pre>\n",
    "<h2>The <i>read()</i> Method</h2>\n",
    "<p>The <i>read()</i> method reads a string from an open file. It is important to note that Python strings can have binary data. apart from text data.</p>\n",
    "<h3>Syntax</h3>\n",
    "<pre class=\"result notranslate\">fileObject.read([count])\n",
    "</pre>\n",
    "<p>Here, passed parameter is the number of bytes to be read from the opened file. This method starts reading from the beginning of the file and if <i>count</i> is missing, then it tries to read as much as possible, maybe until the end of file.</p>\n",
    "<h3>Example</h3>\n",
    "<p> Let's take a file <i>foo.txt</i>, which we created above.</p>"
   ]
  },
  {
   "cell_type": "code",
   "execution_count": null,
   "metadata": {},
   "outputs": [],
   "source": [
    "#!/usr/bin/python\n",
    "\n",
    "# Open a file\n",
    "fo = open(\"foo.txt\", \"r+\")\n",
    "str = fo.read(10);\n",
    "print(\"Read String is : \", str)\n",
    "# Close opend file\n",
    "fo.close()"
   ]
  },
  {
   "cell_type": "markdown",
   "metadata": {},
   "source": [
    "<p>This produces the following result −</p>\n",
    "<pre class=\"result notranslate\">Read String is :  Python is\n",
    "</pre>\n",
    "<h2>File Positions</h2>\n",
    "<p>The <i>tell()</i> method tells you the current position within the file; in other words, the next read or write will occur at that many bytes from the beginning of the file.</p>\n",
    "<p>The <i>seek(offset[, from])</i> method changes the current file position. The <i>offset</i> argument indicates the number of bytes to be moved. The <i>from</i> argument specifies the reference position from where the bytes are to be moved.</p>\n",
    "<p>If <i>from</i> is set to 0, it means use the beginning of the file as the reference position and 1 means use the current position as the reference position and if it is set to 2 then the end of the file would be taken as the reference position.</p>\n",
    "<h3>Example</h3>\n",
    "<p> Let us take a file <i>foo.txt</i>, which we created above.</p>"
   ]
  },
  {
   "cell_type": "code",
   "execution_count": null,
   "metadata": {},
   "outputs": [],
   "source": [
    "#!/usr/bin/python\n",
    "\n",
    "# Open a file\n",
    "fo = open(\"foo.txt\", \"r+\")\n",
    "str = fo.read(10)\n",
    "print(\"Read String is : \", str)\n",
    "\n",
    "# Check current position\n",
    "position = fo.tell()\n",
    "print(\"Current file position : \", position)\n",
    "\n",
    "# Reposition pointer at the beginning once again\n",
    "position = fo.seek(0, 0);\n",
    "str = fo.read(10)\n",
    "print(\"Again read String is : \", str)\n",
    "# Close opend file\n",
    "fo.close()"
   ]
  },
  {
   "cell_type": "markdown",
   "metadata": {},
   "source": [
    "<p>This produces the following result −</p>\n",
    "<pre class=\"result notranslate\">Read String is :  Python is\n",
    "Current file position :  10\n",
    "Again read String is :  Python is\n",
    "</pre>\n",
    "<h2>Renaming and Deleting Files</h2>\n",
    "<p>Python <b>os</b> module provides methods that help you perform file-processing operations, such as renaming and deleting files.</p>\n",
    "<p>To use this module you need to import it first and then you can call any related functions.</p>\n",
    "<h2>The rename() Method</h2>\n",
    "<p>The <i>rename()</i> method takes two arguments, the current filename and the new filename.</p>\n",
    "<h3>Syntax</h3>\n",
    "<pre class=\"result notranslate\">os.rename(current_file_name, new_file_name)\n",
    "</pre>\n",
    "<h3>Example</h3>\n",
    "<p>Following is the example to rename an existing file <i>test1.txt</i> −</p>"
   ]
  },
  {
   "cell_type": "code",
   "execution_count": null,
   "metadata": {},
   "outputs": [],
   "source": [
    "#!/usr/bin/python\n",
    "import os\n",
    "\n",
    "# Rename a file from test1.txt to test2.txt\n",
    "os.rename( \"test1.txt\", \"test2.txt\" )"
   ]
  },
  {
   "cell_type": "markdown",
   "metadata": {},
   "source": [
    "<h2>The <i>remove()</i> Method</h2>\n",
    "<p>You can use the <i>remove()</i> method to delete files by supplying the name of the file to be deleted as the argument.</p>\n",
    "<h3>Syntax</h3>\n",
    "<pre class=\"result notranslate\">os.remove(file_name)\n",
    "</pre>\n",
    "<h3>Example</h3>\n",
    "<p>Following is the example to delete an existing file <i>test2.txt</i> −</p>"
   ]
  },
  {
   "cell_type": "code",
   "execution_count": null,
   "metadata": {},
   "outputs": [],
   "source": [
    "#!/usr/bin/python\n",
    "import os\n",
    "\n",
    "# Delete file test2.txt\n",
    "os.remove(\"text2.txt\")"
   ]
  },
  {
   "cell_type": "markdown",
   "metadata": {},
   "source": [
    "<h2>Directories in Python</h2>\n",
    "<p>All files are contained within various directories, and Python has no problem handling these too. The <b>os</b> module has several methods that help you create, remove, and change directories.</p>\n",
    "<h2>The <i>mkdir()</i> Method</h2>\n",
    "<p>You can use the <i>mkdir()</i> method of the <b>os</b> module to create directories in the current directory. You need to supply an argument to this method which contains the name of the directory to be created.</p>\n",
    "<h3>Syntax</h3>\n",
    "<pre class=\"result notranslate\">os.mkdir(\"newdir\")\n",
    "</pre>\n",
    "<h3>Example</h3>\n",
    "<p>Following is the example to create a directory <i>test</i> in the current directory −</p>"
   ]
  },
  {
   "cell_type": "code",
   "execution_count": null,
   "metadata": {},
   "outputs": [],
   "source": [
    "#!/usr/bin/python\n",
    "import os\n",
    "\n",
    "# Create a directory \"test\"\n",
    "os.mkdir(\"test\")"
   ]
  },
  {
   "cell_type": "markdown",
   "metadata": {},
   "source": [
    "<h2>The <i>chdir()</i> Method</h2>\n",
    "<p>You can use the <i>chdir()</i> method to change the current directory. The chdir() method takes an argument, which is the name of the directory that you want to make the current directory.</p>\n",
    "<h3>Syntax</h3>\n",
    "<pre class=\"result notranslate\">os.chdir(\"newdir\")\n",
    "</pre>\n",
    "<h3>Example</h3>\n",
    "<p>Following is the example to go into \"/home/newdir\" directory −</p>"
   ]
  },
  {
   "cell_type": "code",
   "execution_count": null,
   "metadata": {},
   "outputs": [],
   "source": [
    "#!/usr/bin/python\n",
    "import os\n",
    "\n",
    "# Changing a directory to \"/home/newdir\"\n",
    "os.chdir(\"newdir\")"
   ]
  },
  {
   "cell_type": "markdown",
   "metadata": {},
   "source": [
    "<h2>The <i>getcwd()</i> Method</h2>\n",
    "<p>The <i>getcwd()</i> method displays the current working directory.</p>\n",
    "<h3>Syntax</h3>\n",
    "<pre class=\"result notranslate\">os.getcwd()\n",
    "</pre>\n",
    "<h3>Example</h3>\n",
    "<p>Following is the example to give current directory −</p>"
   ]
  },
  {
   "cell_type": "code",
   "execution_count": null,
   "metadata": {},
   "outputs": [],
   "source": [
    "#!/usr/bin/python\n",
    "import os\n",
    "\n",
    "# This would give location of the current directory\n",
    "os.getcwd()"
   ]
  },
  {
   "cell_type": "markdown",
   "metadata": {},
   "source": [
    "<h2>The <i>rmdir()</i> Method</h2>\n",
    "<p>The <i>rmdir()</i> method deletes the directory, which is passed as an argument in the method.</p>\n",
    "<p>Before removing a directory, all the contents in it should be removed.</p>\n",
    "<h3>Syntax</h3>\n",
    "<pre class=\"result notranslate\">os.rmdir('dirname')\n",
    "</pre>\n",
    "<h3>Example</h3>\n",
    "<p>Following is the example to remove \"/tmp/test\" directory. It is required to give fully qualified name of the directory, otherwise it would search for that directory in the current directory.</p>"
   ]
  },
  {
   "cell_type": "code",
   "execution_count": null,
   "metadata": {},
   "outputs": [],
   "source": [
    "#!/usr/bin/python\n",
    "import os\n",
    "\n",
    "# This would  remove \"/tmp/test\"  directory.\n",
    "os.rmdir( \"/tmp/test\"  )"
   ]
  },
  {
   "cell_type": "markdown",
   "metadata": {},
   "source": [
    "<h2>File &amp; Directory Related Methods</h2>\n",
    "<p>There are three important sources, which provide a wide range of utility methods to handle and manipulate files &amp; directories on Windows and Unix operating systems. They are as follows −</p>\n",
    "<ul class=\"list\">\n",
    "<li><p><a href=\"/python/file_methods.htm\">File Object Methods</a>: The <i>file</i> object provides functions to manipulate files.</p></li>\n",
    "<li><p><a href=\"/python/os_file_methods.htm\">OS Object Methods</a>: This provides methods to process files as well as directories. </p>"
   ]
  },
  {
   "cell_type": "code",
   "execution_count": null,
   "metadata": {},
   "outputs": [],
   "source": []
  }
 ],
 "metadata": {
  "kernelspec": {
   "display_name": "Python 3",
   "language": "python",
   "name": "python3"
  },
  "language_info": {
   "codemirror_mode": {
    "name": "ipython",
    "version": 3
   },
   "file_extension": ".py",
   "mimetype": "text/x-python",
   "name": "python",
   "nbconvert_exporter": "python",
   "pygments_lexer": "ipython3",
   "version": "3.8.5"
  }
 },
 "nbformat": 4,
 "nbformat_minor": 4
}
