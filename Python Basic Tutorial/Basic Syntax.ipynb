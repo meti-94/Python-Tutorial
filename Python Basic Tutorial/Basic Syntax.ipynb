{
 "cells": [
  {
   "cell_type": "markdown",
   "metadata": {},
   "source": [
    "# Basic Syntax"
   ]
  },
  {
   "cell_type": "markdown",
   "metadata": {},
   "source": [
    "<p>The Python language has many similarities to Perl, C, and Java. However, there are some definite differences between the languages.</p>\n",
    "<h2>First Python Program</h2>\n",
    "<p>Let us execute programs in different modes of programming.</p>\n",
    "<h3>Interactive Mode Programming</h3>\n",
    "<p>Invoking the interpreter without passing a script file as a parameter brings up the following prompt −</p>\n",
    "<pre class=\"prettyprint notranslate prettyprinted\" style=\"\"><span class=\"pln\">$ python\n",
    "</span><span class=\"typ\">Python</span><span class=\"pln\"> </span><span class=\"lit\">2.4</span><span class=\"pun\">.</span><span class=\"lit\">3</span><span class=\"pln\"> </span><span class=\"pun\">(#</span><span class=\"lit\">1</span><span class=\"pun\">,</span><span class=\"pln\"> </span><span class=\"typ\">Nov</span><span class=\"pln\"> </span><span class=\"lit\">11</span><span class=\"pln\"> </span><span class=\"lit\">2010</span><span class=\"pun\">,</span><span class=\"pln\"> </span><span class=\"lit\">13</span><span class=\"pun\">:</span><span class=\"lit\">34</span><span class=\"pun\">:</span><span class=\"lit\">43</span><span class=\"pun\">)</span><span class=\"pln\">\n",
    "</span><span class=\"pun\">[</span><span class=\"pln\">GCC </span><span class=\"lit\">4.1</span><span class=\"pun\">.</span><span class=\"lit\">2</span><span class=\"pln\"> </span><span class=\"lit\">20080704</span><span class=\"pln\"> </span><span class=\"pun\">(</span><span class=\"typ\">Red</span><span class=\"pln\"> </span><span class=\"typ\">Hat</span><span class=\"pln\"> </span><span class=\"lit\">4.1</span><span class=\"pun\">.</span><span class=\"lit\">2</span><span class=\"pun\">-</span><span class=\"lit\">48</span><span class=\"pun\">)]</span><span class=\"pln\"> on linux2\n",
    "</span><span class=\"typ\">Type</span><span class=\"pln\"> </span><span class=\"str\">\"help\"</span><span class=\"pun\">,</span><span class=\"pln\"> </span><span class=\"str\">\"copyright\"</span><span class=\"pun\">,</span><span class=\"pln\"> </span><span class=\"str\">\"credits\"</span><span class=\"pln\"> </span><span class=\"kwd\">or</span><span class=\"pln\"> </span><span class=\"str\">\"license\"</span><span class=\"pln\"> </span><span class=\"kwd\">for</span><span class=\"pln\"> more information</span><span class=\"pun\">.</span><span class=\"pln\">\n",
    "</span><span class=\"pun\">&gt;&gt;&gt;</span></pre>\n",
    "<p>Type the following text at the Python prompt and press the Enter −</p>"
   ]
  },
  {
   "cell_type": "code",
   "execution_count": null,
   "metadata": {},
   "outputs": [],
   "source": [
    "print(\"Hello, Python!\")"
   ]
  },
  {
   "cell_type": "markdown",
   "metadata": {},
   "source": [
    "<p>If you are running new version of Python, then you would need to use print statement with parenthesis as in <b>print (\"Hello, Python!\");</b>. However in Python version 2.4.3, this produces the following result −</p>\n",
    "<pre class=\"result notranslate\">Hello, Python!\n",
    "</pre>\n",
    "<h3>Script Mode Programming</h3>\n",
    "<p>Invoking the interpreter with a script parameter begins execution of the script and continues until the script is finished. When the script is finished, the interpreter is no longer active.</p>\n",
    "<p>Let us write a simple Python program in a script. Python files have extension <b>.py</b>. Type the following source code in a test.py file −</p>"
   ]
  },
  {
   "cell_type": "code",
   "execution_count": null,
   "metadata": {},
   "outputs": [],
   "source": [
    "print(\"Hello, Python!\")"
   ]
  },
  {
   "cell_type": "markdown",
   "metadata": {},
   "source": [
    "<p>We assume that you have Python interpreter set in PATH variable. Now, try to run this program as follows −</p>\n",
    "<pre class=\"prettyprint notranslate prettyprinted\" style=\"\"><span class=\"pln\">$ python test</span><span class=\"pun\">.</span><span class=\"pln\">py</span></pre>\n",
    "<p>This produces the following result −</p>\n",
    "<pre class=\"result notranslate\">Hello, Python!\n",
    "</pre>\n",
    "<p>Let us try another way to execute a Python script. Here is the modified test.py file −</p>"
   ]
  },
  {
   "cell_type": "code",
   "execution_count": null,
   "metadata": {},
   "outputs": [],
   "source": [
    "print(\"Hello, Python!\")"
   ]
  },
  {
   "cell_type": "markdown",
   "metadata": {},
   "source": [
    "<p>We assume that you have Python interpreter available in /usr/bin directory. Now, try to run this program as follows −</p>"
   ]
  },
  {
   "cell_type": "code",
   "execution_count": 4,
   "metadata": {},
   "outputs": [
    {
     "name": "stderr",
     "output_type": "stream",
     "text": [
      "'chmod' is not recognized as an internal or external command,\n",
      "operable program or batch file.\n",
      "'.' is not recognized as an internal or external command,\n",
      "operable program or batch file.\n"
     ]
    }
   ],
   "source": [
    "! chmod +x test.py     # This is to make file executable\n",
    "! ./test.py"
   ]
  },
  {
   "cell_type": "markdown",
   "metadata": {},
   "source": [
    "<p>This produces the following result −</p>\n",
    "<pre class=\"result notranslate\">Hello, Python!\n",
    "</pre>\n",
    "<h2>Python Identifiers</h2>\n",
    "<p>A Python identifier is a name used to identify a variable, function, class, module or other object. An identifier starts with a letter A to Z or a to z or an underscore (_) followed by zero or more letters, underscores and digits (0 to 9).</p>\n",
    "<p>Python does not allow punctuation characters such as @, $, and % within identifiers. Python is a case sensitive programming language. Thus, <b>Manpower</b> and <b>manpower</b> are two different identifiers in Python.</p>\n",
    "<p>Here are naming conventions for Python identifiers −</p>\n",
    "<ul class=\"list\">\n",
    "<li><p>Class names start with an uppercase letter. All other identifiers start with a lowercase letter.</p></li>\n",
    "<li><p>Starting an identifier with a single leading underscore indicates that the identifier is private.</p></li>\n",
    "<li><p>Starting an identifier with two leading underscores indicates a strongly private identifier.</p></li>\n",
    "<li><p>If the identifier also ends with two trailing underscores, the identifier is a language-defined special name.</p></li>\n",
    "</ul>\n",
    "<h2>Reserved Words</h2>\n",
    "<p>The following list shows the Python keywords. These are reserved words and you cannot use them as constant or variable or any other identifier names. All the Python keywords contain lowercase letters only.</p>\n",
    "<table class=\"table-bordered\" style=\"text-align:center;\">\n",
    "<tbody><tr>\n",
    "<td>and</td>\n",
    "<td>exec</td>\n",
    "<td>not</td>\n",
    "</tr>\n",
    "<tr>\n",
    "<td>assert</td>\n",
    "<td>finally</td>\n",
    "<td>or</td>\n",
    "</tr>\n",
    "<tr>\n",
    "<td>break</td>\n",
    "<td>for</td>\n",
    "<td>pass</td>\n",
    "</tr>\n",
    "<tr>\n",
    "<td>class</td>\n",
    "<td>from</td>\n",
    "<td>print</td>\n",
    "</tr>\n",
    "<tr>\n",
    "<td>continue</td>\n",
    "<td>global</td>\n",
    "<td>raise</td>\n",
    "</tr>\n",
    "<tr>\n",
    "<td>def</td>\n",
    "<td>if</td>\n",
    "<td>return</td>\n",
    "</tr>\n",
    "<tr>\n",
    "<td>del</td>\n",
    "<td>import</td>\n",
    "<td>try</td>\n",
    "</tr>\n",
    "<tr>\n",
    "<td>elif</td>\n",
    "<td>in</td>\n",
    "<td>while</td>\n",
    "</tr>\n",
    "<tr>\n",
    "<td>else</td>\n",
    "<td>is</td>\n",
    "<td>with </td>\n",
    "</tr>\n",
    "<tr>\n",
    "<td>except</td>\n",
    "<td>lambda</td>\n",
    "<td>yield</td>\n",
    "</tr>\n",
    "</tbody></table>\n",
    "<h2>Lines and Indentation</h2>\n",
    "<p>Python provides no braces to indicate blocks of code for class and function definitions or flow control. Blocks of code are denoted by line indentation, which is rigidly enforced.</p>\n",
    "<p>The number of spaces in the indentation is variable, but all statements within the block must be indented the same amount. For example −</p>\n",
    "<pre class=\"result notranslate\">if True:\n",
    "   print \"True\"\n",
    "else:\n",
    "   print \"False\"\n",
    "</pre>\n",
    "<p>However, the following block generates an error −</p>"
   ]
  },
  {
   "cell_type": "code",
   "execution_count": null,
   "metadata": {},
   "outputs": [],
   "source": [
    "if True:\n",
    "print(\"Answer\")\n",
    "print(\"True\")\n",
    "else:\n",
    "print(\"Answer\")\n",
    "print(\"False\")"
   ]
  },
  {
   "cell_type": "markdown",
   "metadata": {},
   "source": [
    "<p>Thus, in Python all the continuous lines indented with same number of spaces would form a block. The following example has various statement blocks −</p>\n",
    "<p><b>Note</b> − Do not try to understand the logic at this point of time. Just make sure you understood various blocks even if they are without braces.</p>"
   ]
  },
  {
   "cell_type": "code",
   "execution_count": null,
   "metadata": {},
   "outputs": [],
   "source": [
    "import sys\n",
    "file_name = 'test_file.txt'\n",
    "try:\n",
    "   # open file stream\n",
    "   file = open(file_name, \"w\")\n",
    "except IOError:\n",
    "   print(\"There was an error writing to\", file_name)\n",
    "   sys.exit()\n",
    "print(\"Enter '\", file_finish)\n",
    "print (\"' When finished\")\n",
    "while file_text != file_finish:\n",
    "   file_text = input(\"Enter text: \")\n",
    "   if file_text == file_finish:\n",
    "      # close the file\n",
    "      file.close\n",
    "      break\n",
    "   file.write(file_text)\n",
    "   file.write(\"\\n\")\n",
    "file.close()\n",
    "file_name = input(\"Enter filename: \")\n",
    "if len(file_name) == 0:\n",
    "   print(\"Next time please enter something\")\n",
    "   sys.exit()\n",
    "try:\n",
    "   file = open(file_name, \"r\")\n",
    "except IOError:\n",
    "   print(\"There was an error reading file\")\n",
    "   sys.exit()\n",
    "file_text = file.read()\n",
    "file.close()\n",
    "print(file_text)"
   ]
  },
  {
   "cell_type": "markdown",
   "metadata": {},
   "source": [
    "<h2>Multi-Line Statements</h2>\n",
    "<p>Statements in Python typically end with a new line. Python does, however, allow the use of the line continuation character (\\) to denote that the line should continue. For example −</p>\n",
    "<pre class=\"result notranslate\">total = item_one + \\\n",
    "        item_two + \\\n",
    "        item_three\n",
    "</pre>\n",
    "<p>Statements contained within the [], {}, or () brackets do not need to use the line continuation character. For example −</p>\n",
    "<pre class=\"result notranslate\">days = ['Monday', 'Tuesday', 'Wednesday',\n",
    "        'Thursday', 'Friday']\n",
    "</pre>\n",
    "<h2>Quotation in Python</h2>\n",
    "<p>Python accepts single ('), double (\") and triple (''' or \"\"\") quotes to denote string literals, as long as the same type of quote starts and ends the string.</p>\n",
    "<p>The triple quotes are used to span the string across multiple lines. For example, all the following are legal −</p>\n",
    "<pre class=\"result notranslate\">word = 'word'\n",
    "sentence = \"This is a sentence.\"\n",
    "paragraph = \"\"\"This is a paragraph. It is\n",
    "made up of multiple lines and sentences.\"\"\"\n",
    "</pre>\n",
    "<h2>Comments in Python</h2>\n",
    "<p>A hash sign (#) that is not inside a string literal begins a comment. All characters after the # and up to the end of the physical line are part of the comment and the Python interpreter ignores them.</p>"
   ]
  },
  {
   "cell_type": "code",
   "execution_count": 1,
   "metadata": {},
   "outputs": [
    {
     "name": "stdout",
     "output_type": "stream",
     "text": [
      "Hello, Python!\n"
     ]
    }
   ],
   "source": [
    "# First comment\n",
    "print(\"Hello, Python!\") # second comment"
   ]
  },
  {
   "cell_type": "markdown",
   "metadata": {},
   "source": [
    "<p>This produces the following result −</p>\n",
    "<pre class=\"result notranslate\">Hello, Python!\n",
    "</pre>\n",
    "<p>You can type a comment on the same line after a statement or expression −</p>\n",
    "<pre class=\"result notranslate\">name = \"Madisetti\" # This is again comment\n",
    "</pre>\n",
    "<p>You can comment multiple lines as follows −</p>\n",
    "<pre class=\"result notranslate\"># This is a comment.\n",
    "# This is a comment, too.\n",
    "# This is a comment, too.\n",
    "# I said that already.\n",
    "</pre>\n",
    "<p>Following triple-quoted string is also ignored by Python interpreter and can be used as a multiline comments:</p>\n",
    "<pre class=\"result notranslate\">'''\n",
    "This is a multiline\n",
    "comment.\n",
    "'''\n",
    "</pre>\n",
    "<h2>Using Blank Lines</h2>\n",
    "<p>A line containing only whitespace, possibly with a comment, is known as a blank line and Python totally ignores it.</p>\n",
    "<p>In an interactive interpreter session, you must enter an empty physical line to terminate a multiline statement.</p>\n",
    "<h2>Waiting for the User</h2>\n",
    "<p>The following line of the program displays the prompt, the statement saying “Press the enter key to exit”, and waits for the user to take action −</p>"
   ]
  },
  {
   "cell_type": "code",
   "execution_count": 2,
   "metadata": {},
   "outputs": [
    {
     "name": "stdout",
     "output_type": "stream",
     "text": [
      "\n",
      "\n",
      "Press the enter key to exit.asdflfjkasf\n"
     ]
    },
    {
     "data": {
      "text/plain": [
       "'asdflfjkasf'"
      ]
     },
     "execution_count": 2,
     "metadata": {},
     "output_type": "execute_result"
    }
   ],
   "source": [
    "#!/usr/bin/python\n",
    "\n",
    "input(\"\\n\\nPress the enter key to exit.\")"
   ]
  },
  {
   "cell_type": "markdown",
   "metadata": {},
   "source": [
    "<p>Here, \"\\n\\n\" is used to create two new lines before displaying the actual line. Once the user presses the key, the program ends. This is a nice trick to keep a console window open until the user is done with an application.</p>\n",
    "<h2>Multiple Statements on a Single Line</h2>\n",
    "<p>The semicolon ( ; ) allows multiple statements on the single line given that neither statement starts a new code block. Here is a sample snip using the semicolon −</p>"
   ]
  },
  {
   "cell_type": "code",
   "execution_count": 3,
   "metadata": {},
   "outputs": [
    {
     "name": "stdout",
     "output_type": "stream",
     "text": [
      "foo\n"
     ]
    }
   ],
   "source": [
    "import sys; x = 'foo'; sys.stdout.write(x + '\\n')"
   ]
  },
  {
   "cell_type": "markdown",
   "metadata": {},
   "source": [
    "<h2>Multiple Statement Groups as Suites</h2>\n",
    "<p>A group of individual statements, which make a single code block are called <b>suites</b> in Python. Compound or complex statements, such as if, while, def, and class require a header line and a suite.</p>\n",
    "<p>Header lines begin the statement (with the keyword) and terminate with a colon ( : ) and are followed by one or more lines which make up the suite. For example −</p>\n",
    "<pre class=\"result notranslate\">if expression : \n",
    "   suite\n",
    "elif expression : \n",
    "   suite \n",
    "else : \n",
    "   suite\n",
    "</pre>\n",
    "<h2>Command Line Arguments</h2>\n",
    "<p>Many programs can be run to provide you with some basic information about how they should be run. Python enables you to do this with -h −</p>\n",
    "<pre class=\"prettyprint notranslate prettyprinted\" style=\"\"><span class=\"pln\">$ python </span><span class=\"pun\">-</span><span class=\"pln\">h\n",
    "usage</span><span class=\"pun\">:</span><span class=\"pln\"> python </span><span class=\"pun\">[</span><span class=\"pln\">option</span><span class=\"pun\">]</span><span class=\"pln\"> </span><span class=\"pun\">...</span><span class=\"pln\"> </span><span class=\"pun\">[-</span><span class=\"pln\">c cmd </span><span class=\"pun\">|</span><span class=\"pln\"> </span><span class=\"pun\">-</span><span class=\"pln\">m mod </span><span class=\"pun\">|</span><span class=\"pln\"> file </span><span class=\"pun\">|</span><span class=\"pln\"> </span><span class=\"pun\">-]</span><span class=\"pln\"> </span><span class=\"pun\">[</span><span class=\"pln\">arg</span><span class=\"pun\">]</span><span class=\"pln\"> </span><span class=\"pun\">...</span><span class=\"pln\">\n",
    "</span><span class=\"typ\">Options</span><span class=\"pln\"> </span><span class=\"kwd\">and</span><span class=\"pln\"> arguments </span><span class=\"pun\">(</span><span class=\"kwd\">and</span><span class=\"pln\"> corresponding environment variables</span><span class=\"pun\">):</span><span class=\"pln\">\n",
    "</span><span class=\"pun\">-</span><span class=\"pln\">c cmd </span><span class=\"pun\">:</span><span class=\"pln\"> program passed </span><span class=\"kwd\">in</span><span class=\"pln\"> </span><span class=\"kwd\">as</span><span class=\"pln\"> </span><span class=\"kwd\">string</span><span class=\"pln\"> </span><span class=\"pun\">(</span><span class=\"pln\">terminates option list</span><span class=\"pun\">)</span><span class=\"pln\">\n",
    "</span><span class=\"pun\">-</span><span class=\"pln\">d     </span><span class=\"pun\">:</span><span class=\"pln\"> debug output </span><span class=\"kwd\">from</span><span class=\"pln\"> parser </span><span class=\"pun\">(</span><span class=\"pln\">also PYTHONDEBUG</span><span class=\"pun\">=</span><span class=\"pln\">x</span><span class=\"pun\">)</span><span class=\"pln\">\n",
    "</span><span class=\"pun\">-</span><span class=\"pln\">E     </span><span class=\"pun\">:</span><span class=\"pln\"> ignore environment variables </span><span class=\"pun\">(</span><span class=\"pln\">such </span><span class=\"kwd\">as</span><span class=\"pln\"> PYTHONPATH</span><span class=\"pun\">)</span><span class=\"pln\">\n",
    "</span><span class=\"pun\">-</span><span class=\"pln\">h     </span><span class=\"pun\">:</span><span class=\"pln\"> </span><span class=\"kwd\">print</span><span class=\"pln\"> </span><span class=\"kwd\">this</span><span class=\"pln\"> help message </span><span class=\"kwd\">and</span><span class=\"pln\"> </span><span class=\"kwd\">exit</span><span class=\"pln\">\n",
    "\n",
    "</span><span class=\"pun\">[</span><span class=\"pln\"> etc</span><span class=\"pun\">.</span><span class=\"pln\"> </span><span class=\"pun\">]</span></pre>\n",
    "<p>You can also program your script in such a way that it should accept various options. <a href=\"/python/python_command_line_arguments.htm\">Command Line Arguments</a> is an advanced topic and should be studied a bit later once you have gone through rest of the Python concepts.</p>"
   ]
  }
 ],
 "metadata": {
  "kernelspec": {
   "display_name": "Python 3",
   "language": "python",
   "name": "python3"
  },
  "language_info": {
   "codemirror_mode": {
    "name": "ipython",
    "version": 3
   },
   "file_extension": ".py",
   "mimetype": "text/x-python",
   "name": "python",
   "nbconvert_exporter": "python",
   "pygments_lexer": "ipython3",
   "version": "3.8.5"
  }
 },
 "nbformat": 4,
 "nbformat_minor": 4
}
